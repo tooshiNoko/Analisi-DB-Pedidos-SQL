{
 "cells": [
  {
   "cell_type": "code",
   "execution_count": 1,
   "metadata": {},
   "outputs": [
    {
     "name": "stdout",
     "output_type": "stream",
     "text": [
      "Collecting mysql-connector-python\n",
      "  Downloading mysql_connector_python-8.4.0-cp311-cp311-win_amd64.whl.metadata (2.0 kB)\n",
      "Downloading mysql_connector_python-8.4.0-cp311-cp311-win_amd64.whl (14.5 MB)\n",
      "   ---------------------------------------- 0.0/14.5 MB ? eta -:--:--\n",
      "   ---------------------------------------- 0.0/14.5 MB 1.3 MB/s eta 0:00:12\n",
      "    --------------------------------------- 0.3/14.5 MB 4.4 MB/s eta 0:00:04\n",
      "   -- ------------------------------------- 0.8/14.5 MB 6.8 MB/s eta 0:00:03\n",
      "   --- ------------------------------------ 1.2/14.5 MB 7.9 MB/s eta 0:00:02\n",
      "   ----- ---------------------------------- 1.9/14.5 MB 9.5 MB/s eta 0:00:02\n",
      "   ------- -------------------------------- 2.6/14.5 MB 10.2 MB/s eta 0:00:02\n",
      "   --------- ------------------------------ 3.3/14.5 MB 11.1 MB/s eta 0:00:02\n",
      "   ---------- ----------------------------- 3.9/14.5 MB 11.2 MB/s eta 0:00:01\n",
      "   ------------ --------------------------- 4.5/14.5 MB 11.5 MB/s eta 0:00:01\n",
      "   -------------- ------------------------- 5.1/14.5 MB 11.6 MB/s eta 0:00:01\n",
      "   --------------- ------------------------ 5.8/14.5 MB 11.9 MB/s eta 0:00:01\n",
      "   ----------------- ---------------------- 6.5/14.5 MB 12.1 MB/s eta 0:00:01\n",
      "   ------------------- -------------------- 7.0/14.5 MB 12.1 MB/s eta 0:00:01\n",
      "   --------------------- ------------------ 7.8/14.5 MB 12.4 MB/s eta 0:00:01\n",
      "   ----------------------- ---------------- 8.4/14.5 MB 12.6 MB/s eta 0:00:01\n",
      "   ------------------------ --------------- 9.0/14.5 MB 12.5 MB/s eta 0:00:01\n",
      "   -------------------------- ------------- 9.7/14.5 MB 12.6 MB/s eta 0:00:01\n",
      "   ---------------------------- ----------- 10.4/14.5 MB 13.6 MB/s eta 0:00:01\n",
      "   ------------------------------ --------- 11.0/14.5 MB 13.9 MB/s eta 0:00:01\n",
      "   -------------------------------- ------- 11.6/14.5 MB 13.9 MB/s eta 0:00:01\n",
      "   --------------------------------- ------ 12.2/14.5 MB 13.9 MB/s eta 0:00:01\n",
      "   ----------------------------------- ---- 12.7/14.5 MB 13.6 MB/s eta 0:00:01\n",
      "   ------------------------------------- -- 13.4/14.5 MB 13.6 MB/s eta 0:00:01\n",
      "   -------------------------------------- - 14.0/14.5 MB 13.6 MB/s eta 0:00:01\n",
      "   ---------------------------------------  14.4/14.5 MB 13.4 MB/s eta 0:00:01\n",
      "   ---------------------------------------- 14.5/14.5 MB 13.1 MB/s eta 0:00:00\n",
      "Installing collected packages: mysql-connector-python\n",
      "Successfully installed mysql-connector-python-8.4.0\n"
     ]
    }
   ],
   "source": [
    "!pip install mysql-connector-python"
   ]
  },
  {
   "cell_type": "code",
   "execution_count": 2,
   "metadata": {},
   "outputs": [
    {
     "name": "stdout",
     "output_type": "stream",
     "text": [
      "Connected to MySQL database... MySQL Server version on  8.0.34-26\n",
      "MySQL connection is closed\n"
     ]
    }
   ],
   "source": [
    "import mysql.connector # !pip install mysql-connector-python \n",
    "from mysql.connector import Error\n",
    "\n",
    "try: \n",
    "    connection = mysql.connector.connect(host=' ', \n",
    "                                         database='  ',\n",
    "                                         user='   ',\n",
    "                                         password='    ', connection_timeout=180)\n",
    "\n",
    "    if connection.is_connected():\n",
    "        db_Info = connection.get_server_info()\n",
    "        print(\"Connected to MySQL database... MySQL Server version on \", db_Info)\n",
    "\n",
    "        cursor = connection.cursor()\n",
    "        connection.commit()\n",
    "\n",
    "except Error as e:\n",
    "    print(\"Error while connecting to MySQL\", e)\n",
    "finally:\n",
    "    # closing database connection.\n",
    "    if connection.is_connected():\n",
    "        cursor.close()\n",
    "        connection.close()\n",
    "        print(\"MySQL connection is closed\")"
   ]
  },
  {
   "cell_type": "code",
   "execution_count": 4,
   "metadata": {},
   "outputs": [],
   "source": [
    "import pandas as pd"
   ]
  },
  {
   "cell_type": "code",
   "execution_count": 42,
   "metadata": {},
   "outputs": [],
   "source": [
    "'''Codigo para alinear a la izquierda el df'''\n",
    "\n",
    "from pandas import DataFrame\n",
    "\n",
    "def left_align(df: DataFrame):\n",
    "    left_aligned_df = df.style.set_properties(**{'text-align': 'left'})\n",
    "    left_aligned_df = left_aligned_df.set_table_styles(        [dict(selector='th', props=[('text-align', 'left')])]\n",
    "    )\n",
    "    return left_aligned_df\n",
    "left_align(df)"
   ]
  },
  {
   "cell_type": "code",
   "execution_count": null,
   "metadata": {},
   "outputs": [],
   "source": [
    "pd.set_option('display.max_columns', None, 'display.max_rows', None)"
   ]
  },
  {
   "cell_type": "markdown",
   "metadata": {},
   "source": [
    "### 1. Listar todos los productos."
   ]
  },
  {
   "cell_type": "code",
   "execution_count": 43,
   "metadata": {},
   "outputs": [
    {
     "data": {
      "text/plain": [
       "[('01', 'Hamburguesa', 2.6),\n",
       " ('02', 'Patatas', 2.0),\n",
       " ('03', 'tomate', 0.5),\n",
       " ('04', 'Queso', 1.0),\n",
       " ('05', 'Lechuga', 0.5),\n",
       " ('06', 'Pollo', 3.6),\n",
       " ('08', 'Bacon', 1.5),\n",
       " ('09', 'Coca cola', 3.0),\n",
       " ('10', 'Nestea', 3.0),\n",
       " ('11', 'Menú de Pollo', 5.0),\n",
       " ('12', 'Menú de Hamburguesa con queso', 6.0),\n",
       " ('13', 'Menú de Pollo con queso', 6.0),\n",
       " ('14', 'Menú de Hamburguesa', 6.0),\n",
       " ('15', 'Helado', 1.0),\n",
       " ('16', 'Tarta', 2.0),\n",
       " ('17', 'Fruta', 1.0),\n",
       " ('18', 'Agua', 2.0),\n",
       " ('19', 'Fanta', 3.0)]"
      ]
     },
     "execution_count": 43,
     "metadata": {},
     "output_type": "execute_result"
    }
   ],
   "source": [
    "connection = mysql.connector.connect(host=' ', database='  ', user='   ', password='    ', connection_timeout= )\n",
    "cursor=connection.cursor()\n",
    "query1 = \"\"\" SELECT * FROM PRODUCTO; \"\"\"\n",
    "cursor.execute(query1)\n",
    "cursor.fetchall()"
   ]
  },
  {
   "cell_type": "code",
   "execution_count": 44,
   "metadata": {},
   "outputs": [
    {
     "name": "stderr",
     "output_type": "stream",
     "text": [
      "C:\\Users\\Usuario\\AppData\\Local\\Temp\\ipykernel_111492\\2402196598.py:1: UserWarning: pandas only supports SQLAlchemy connectable (engine/connection) or database string URI or sqlite3 DBAPI2 connection. Other DBAPI2 objects are not tested. Please consider using SQLAlchemy.\n",
      "  df1 = pd.read_sql(query1, connection)\n"
     ]
    },
    {
     "data": {
      "text/html": [
       "<style type=\"text/css\">\n",
       "#T_38851 th {\n",
       "  text-align: left;\n",
       "}\n",
       "#T_38851_row0_col0, #T_38851_row0_col1, #T_38851_row0_col2, #T_38851_row1_col0, #T_38851_row1_col1, #T_38851_row1_col2, #T_38851_row2_col0, #T_38851_row2_col1, #T_38851_row2_col2, #T_38851_row3_col0, #T_38851_row3_col1, #T_38851_row3_col2, #T_38851_row4_col0, #T_38851_row4_col1, #T_38851_row4_col2, #T_38851_row5_col0, #T_38851_row5_col1, #T_38851_row5_col2, #T_38851_row6_col0, #T_38851_row6_col1, #T_38851_row6_col2, #T_38851_row7_col0, #T_38851_row7_col1, #T_38851_row7_col2, #T_38851_row8_col0, #T_38851_row8_col1, #T_38851_row8_col2, #T_38851_row9_col0, #T_38851_row9_col1, #T_38851_row9_col2, #T_38851_row10_col0, #T_38851_row10_col1, #T_38851_row10_col2, #T_38851_row11_col0, #T_38851_row11_col1, #T_38851_row11_col2, #T_38851_row12_col0, #T_38851_row12_col1, #T_38851_row12_col2, #T_38851_row13_col0, #T_38851_row13_col1, #T_38851_row13_col2, #T_38851_row14_col0, #T_38851_row14_col1, #T_38851_row14_col2, #T_38851_row15_col0, #T_38851_row15_col1, #T_38851_row15_col2, #T_38851_row16_col0, #T_38851_row16_col1, #T_38851_row16_col2, #T_38851_row17_col0, #T_38851_row17_col1, #T_38851_row17_col2 {\n",
       "  text-align: left;\n",
       "}\n",
       "</style>\n",
       "<table id=\"T_38851\">\n",
       "  <thead>\n",
       "    <tr>\n",
       "      <th class=\"blank level0\" >&nbsp;</th>\n",
       "      <th id=\"T_38851_level0_col0\" class=\"col_heading level0 col0\" >Codigo</th>\n",
       "      <th id=\"T_38851_level0_col1\" class=\"col_heading level0 col1\" >Nombre</th>\n",
       "      <th id=\"T_38851_level0_col2\" class=\"col_heading level0 col2\" >Precio</th>\n",
       "    </tr>\n",
       "  </thead>\n",
       "  <tbody>\n",
       "    <tr>\n",
       "      <th id=\"T_38851_level0_row0\" class=\"row_heading level0 row0\" >0</th>\n",
       "      <td id=\"T_38851_row0_col0\" class=\"data row0 col0\" >01</td>\n",
       "      <td id=\"T_38851_row0_col1\" class=\"data row0 col1\" >Hamburguesa</td>\n",
       "      <td id=\"T_38851_row0_col2\" class=\"data row0 col2\" >2.600000</td>\n",
       "    </tr>\n",
       "    <tr>\n",
       "      <th id=\"T_38851_level0_row1\" class=\"row_heading level0 row1\" >1</th>\n",
       "      <td id=\"T_38851_row1_col0\" class=\"data row1 col0\" >02</td>\n",
       "      <td id=\"T_38851_row1_col1\" class=\"data row1 col1\" >Patatas</td>\n",
       "      <td id=\"T_38851_row1_col2\" class=\"data row1 col2\" >2.000000</td>\n",
       "    </tr>\n",
       "    <tr>\n",
       "      <th id=\"T_38851_level0_row2\" class=\"row_heading level0 row2\" >2</th>\n",
       "      <td id=\"T_38851_row2_col0\" class=\"data row2 col0\" >03</td>\n",
       "      <td id=\"T_38851_row2_col1\" class=\"data row2 col1\" >tomate</td>\n",
       "      <td id=\"T_38851_row2_col2\" class=\"data row2 col2\" >0.500000</td>\n",
       "    </tr>\n",
       "    <tr>\n",
       "      <th id=\"T_38851_level0_row3\" class=\"row_heading level0 row3\" >3</th>\n",
       "      <td id=\"T_38851_row3_col0\" class=\"data row3 col0\" >04</td>\n",
       "      <td id=\"T_38851_row3_col1\" class=\"data row3 col1\" >Queso</td>\n",
       "      <td id=\"T_38851_row3_col2\" class=\"data row3 col2\" >1.000000</td>\n",
       "    </tr>\n",
       "    <tr>\n",
       "      <th id=\"T_38851_level0_row4\" class=\"row_heading level0 row4\" >4</th>\n",
       "      <td id=\"T_38851_row4_col0\" class=\"data row4 col0\" >05</td>\n",
       "      <td id=\"T_38851_row4_col1\" class=\"data row4 col1\" >Lechuga</td>\n",
       "      <td id=\"T_38851_row4_col2\" class=\"data row4 col2\" >0.500000</td>\n",
       "    </tr>\n",
       "    <tr>\n",
       "      <th id=\"T_38851_level0_row5\" class=\"row_heading level0 row5\" >5</th>\n",
       "      <td id=\"T_38851_row5_col0\" class=\"data row5 col0\" >06</td>\n",
       "      <td id=\"T_38851_row5_col1\" class=\"data row5 col1\" >Pollo</td>\n",
       "      <td id=\"T_38851_row5_col2\" class=\"data row5 col2\" >3.600000</td>\n",
       "    </tr>\n",
       "    <tr>\n",
       "      <th id=\"T_38851_level0_row6\" class=\"row_heading level0 row6\" >6</th>\n",
       "      <td id=\"T_38851_row6_col0\" class=\"data row6 col0\" >08</td>\n",
       "      <td id=\"T_38851_row6_col1\" class=\"data row6 col1\" >Bacon</td>\n",
       "      <td id=\"T_38851_row6_col2\" class=\"data row6 col2\" >1.500000</td>\n",
       "    </tr>\n",
       "    <tr>\n",
       "      <th id=\"T_38851_level0_row7\" class=\"row_heading level0 row7\" >7</th>\n",
       "      <td id=\"T_38851_row7_col0\" class=\"data row7 col0\" >09</td>\n",
       "      <td id=\"T_38851_row7_col1\" class=\"data row7 col1\" >Coca cola</td>\n",
       "      <td id=\"T_38851_row7_col2\" class=\"data row7 col2\" >3.000000</td>\n",
       "    </tr>\n",
       "    <tr>\n",
       "      <th id=\"T_38851_level0_row8\" class=\"row_heading level0 row8\" >8</th>\n",
       "      <td id=\"T_38851_row8_col0\" class=\"data row8 col0\" >10</td>\n",
       "      <td id=\"T_38851_row8_col1\" class=\"data row8 col1\" >Nestea</td>\n",
       "      <td id=\"T_38851_row8_col2\" class=\"data row8 col2\" >3.000000</td>\n",
       "    </tr>\n",
       "    <tr>\n",
       "      <th id=\"T_38851_level0_row9\" class=\"row_heading level0 row9\" >9</th>\n",
       "      <td id=\"T_38851_row9_col0\" class=\"data row9 col0\" >11</td>\n",
       "      <td id=\"T_38851_row9_col1\" class=\"data row9 col1\" >Menú de Pollo</td>\n",
       "      <td id=\"T_38851_row9_col2\" class=\"data row9 col2\" >5.000000</td>\n",
       "    </tr>\n",
       "    <tr>\n",
       "      <th id=\"T_38851_level0_row10\" class=\"row_heading level0 row10\" >10</th>\n",
       "      <td id=\"T_38851_row10_col0\" class=\"data row10 col0\" >12</td>\n",
       "      <td id=\"T_38851_row10_col1\" class=\"data row10 col1\" >Menú de Hamburguesa con queso</td>\n",
       "      <td id=\"T_38851_row10_col2\" class=\"data row10 col2\" >6.000000</td>\n",
       "    </tr>\n",
       "    <tr>\n",
       "      <th id=\"T_38851_level0_row11\" class=\"row_heading level0 row11\" >11</th>\n",
       "      <td id=\"T_38851_row11_col0\" class=\"data row11 col0\" >13</td>\n",
       "      <td id=\"T_38851_row11_col1\" class=\"data row11 col1\" >Menú de Pollo con queso</td>\n",
       "      <td id=\"T_38851_row11_col2\" class=\"data row11 col2\" >6.000000</td>\n",
       "    </tr>\n",
       "    <tr>\n",
       "      <th id=\"T_38851_level0_row12\" class=\"row_heading level0 row12\" >12</th>\n",
       "      <td id=\"T_38851_row12_col0\" class=\"data row12 col0\" >14</td>\n",
       "      <td id=\"T_38851_row12_col1\" class=\"data row12 col1\" >Menú de Hamburguesa</td>\n",
       "      <td id=\"T_38851_row12_col2\" class=\"data row12 col2\" >6.000000</td>\n",
       "    </tr>\n",
       "    <tr>\n",
       "      <th id=\"T_38851_level0_row13\" class=\"row_heading level0 row13\" >13</th>\n",
       "      <td id=\"T_38851_row13_col0\" class=\"data row13 col0\" >15</td>\n",
       "      <td id=\"T_38851_row13_col1\" class=\"data row13 col1\" >Helado</td>\n",
       "      <td id=\"T_38851_row13_col2\" class=\"data row13 col2\" >1.000000</td>\n",
       "    </tr>\n",
       "    <tr>\n",
       "      <th id=\"T_38851_level0_row14\" class=\"row_heading level0 row14\" >14</th>\n",
       "      <td id=\"T_38851_row14_col0\" class=\"data row14 col0\" >16</td>\n",
       "      <td id=\"T_38851_row14_col1\" class=\"data row14 col1\" >Tarta</td>\n",
       "      <td id=\"T_38851_row14_col2\" class=\"data row14 col2\" >2.000000</td>\n",
       "    </tr>\n",
       "    <tr>\n",
       "      <th id=\"T_38851_level0_row15\" class=\"row_heading level0 row15\" >15</th>\n",
       "      <td id=\"T_38851_row15_col0\" class=\"data row15 col0\" >17</td>\n",
       "      <td id=\"T_38851_row15_col1\" class=\"data row15 col1\" >Fruta</td>\n",
       "      <td id=\"T_38851_row15_col2\" class=\"data row15 col2\" >1.000000</td>\n",
       "    </tr>\n",
       "    <tr>\n",
       "      <th id=\"T_38851_level0_row16\" class=\"row_heading level0 row16\" >16</th>\n",
       "      <td id=\"T_38851_row16_col0\" class=\"data row16 col0\" >18</td>\n",
       "      <td id=\"T_38851_row16_col1\" class=\"data row16 col1\" >Agua</td>\n",
       "      <td id=\"T_38851_row16_col2\" class=\"data row16 col2\" >2.000000</td>\n",
       "    </tr>\n",
       "    <tr>\n",
       "      <th id=\"T_38851_level0_row17\" class=\"row_heading level0 row17\" >17</th>\n",
       "      <td id=\"T_38851_row17_col0\" class=\"data row17 col0\" >19</td>\n",
       "      <td id=\"T_38851_row17_col1\" class=\"data row17 col1\" >Fanta</td>\n",
       "      <td id=\"T_38851_row17_col2\" class=\"data row17 col2\" >3.000000</td>\n",
       "    </tr>\n",
       "  </tbody>\n",
       "</table>\n"
      ],
      "text/plain": [
       "<pandas.io.formats.style.Styler at 0x286215ff510>"
      ]
     },
     "execution_count": 44,
     "metadata": {},
     "output_type": "execute_result"
    }
   ],
   "source": [
    "df1 = pd.read_sql(query1, connection)\n",
    "left_align(df1)"
   ]
  },
  {
   "cell_type": "code",
   "execution_count": 45,
   "metadata": {},
   "outputs": [],
   "source": [
    "df1.to_csv('csvs\\consulta1.csv', index=False)"
   ]
  },
  {
   "cell_type": "markdown",
   "metadata": {},
   "source": [
    "### 2. Obtener los nombres de todos los empleados."
   ]
  },
  {
   "cell_type": "code",
   "execution_count": 46,
   "metadata": {},
   "outputs": [
    {
     "data": {
      "text/plain": [
       "[('María Luisa Galdón Ter',),\n",
       " ('Úrsula Delta Camacho',),\n",
       " ('Luis Ramírez Pardo',),\n",
       " ('Sergio Lérida Campos',),\n",
       " ('Piedad Colmenero Zapillo',),\n",
       " ('María Sánchez Cid',),\n",
       " ('Martín Guerrero López',),\n",
       " ('Carmen Hernández Pío',),\n",
       " ('Pedro Jiménez Ruiz',),\n",
       " ('Soledad Campillo Molina',),\n",
       " ('Raúl Rodrigo Roca',)]"
      ]
     },
     "execution_count": 46,
     "metadata": {},
     "output_type": "execute_result"
    }
   ],
   "source": [
    "connection = mysql.connector.connect(host=' ', database='  ', user='   ', password='    ', connection_timeout= )\n",
    "cursor=connection.cursor()\n",
    "query2 = \"\"\" SELECT Nombre From EMPLEADO; \"\"\"\n",
    "cursor.execute(query2)\n",
    "cursor.fetchall()\n"
   ]
  },
  {
   "cell_type": "code",
   "execution_count": 47,
   "metadata": {},
   "outputs": [
    {
     "name": "stderr",
     "output_type": "stream",
     "text": [
      "C:\\Users\\Usuario\\AppData\\Local\\Temp\\ipykernel_111492\\2529798854.py:1: UserWarning: pandas only supports SQLAlchemy connectable (engine/connection) or database string URI or sqlite3 DBAPI2 connection. Other DBAPI2 objects are not tested. Please consider using SQLAlchemy.\n",
      "  df2 = pd.read_sql(query2, connection)\n"
     ]
    },
    {
     "data": {
      "text/html": [
       "<style type=\"text/css\">\n",
       "#T_902ea th {\n",
       "  text-align: left;\n",
       "}\n",
       "#T_902ea_row0_col0, #T_902ea_row1_col0, #T_902ea_row2_col0, #T_902ea_row3_col0, #T_902ea_row4_col0, #T_902ea_row5_col0, #T_902ea_row6_col0, #T_902ea_row7_col0, #T_902ea_row8_col0, #T_902ea_row9_col0, #T_902ea_row10_col0 {\n",
       "  text-align: left;\n",
       "}\n",
       "</style>\n",
       "<table id=\"T_902ea\">\n",
       "  <thead>\n",
       "    <tr>\n",
       "      <th class=\"blank level0\" >&nbsp;</th>\n",
       "      <th id=\"T_902ea_level0_col0\" class=\"col_heading level0 col0\" >Nombre</th>\n",
       "    </tr>\n",
       "  </thead>\n",
       "  <tbody>\n",
       "    <tr>\n",
       "      <th id=\"T_902ea_level0_row0\" class=\"row_heading level0 row0\" >0</th>\n",
       "      <td id=\"T_902ea_row0_col0\" class=\"data row0 col0\" >María Luisa Galdón Ter</td>\n",
       "    </tr>\n",
       "    <tr>\n",
       "      <th id=\"T_902ea_level0_row1\" class=\"row_heading level0 row1\" >1</th>\n",
       "      <td id=\"T_902ea_row1_col0\" class=\"data row1 col0\" >Úrsula Delta Camacho</td>\n",
       "    </tr>\n",
       "    <tr>\n",
       "      <th id=\"T_902ea_level0_row2\" class=\"row_heading level0 row2\" >2</th>\n",
       "      <td id=\"T_902ea_row2_col0\" class=\"data row2 col0\" >Luis Ramírez Pardo</td>\n",
       "    </tr>\n",
       "    <tr>\n",
       "      <th id=\"T_902ea_level0_row3\" class=\"row_heading level0 row3\" >3</th>\n",
       "      <td id=\"T_902ea_row3_col0\" class=\"data row3 col0\" >Sergio Lérida Campos</td>\n",
       "    </tr>\n",
       "    <tr>\n",
       "      <th id=\"T_902ea_level0_row4\" class=\"row_heading level0 row4\" >4</th>\n",
       "      <td id=\"T_902ea_row4_col0\" class=\"data row4 col0\" >Piedad Colmenero Zapillo</td>\n",
       "    </tr>\n",
       "    <tr>\n",
       "      <th id=\"T_902ea_level0_row5\" class=\"row_heading level0 row5\" >5</th>\n",
       "      <td id=\"T_902ea_row5_col0\" class=\"data row5 col0\" >María Sánchez Cid</td>\n",
       "    </tr>\n",
       "    <tr>\n",
       "      <th id=\"T_902ea_level0_row6\" class=\"row_heading level0 row6\" >6</th>\n",
       "      <td id=\"T_902ea_row6_col0\" class=\"data row6 col0\" >Martín Guerrero López</td>\n",
       "    </tr>\n",
       "    <tr>\n",
       "      <th id=\"T_902ea_level0_row7\" class=\"row_heading level0 row7\" >7</th>\n",
       "      <td id=\"T_902ea_row7_col0\" class=\"data row7 col0\" >Carmen Hernández Pío</td>\n",
       "    </tr>\n",
       "    <tr>\n",
       "      <th id=\"T_902ea_level0_row8\" class=\"row_heading level0 row8\" >8</th>\n",
       "      <td id=\"T_902ea_row8_col0\" class=\"data row8 col0\" >Pedro Jiménez Ruiz</td>\n",
       "    </tr>\n",
       "    <tr>\n",
       "      <th id=\"T_902ea_level0_row9\" class=\"row_heading level0 row9\" >9</th>\n",
       "      <td id=\"T_902ea_row9_col0\" class=\"data row9 col0\" >Soledad Campillo Molina</td>\n",
       "    </tr>\n",
       "    <tr>\n",
       "      <th id=\"T_902ea_level0_row10\" class=\"row_heading level0 row10\" >10</th>\n",
       "      <td id=\"T_902ea_row10_col0\" class=\"data row10 col0\" >Raúl Rodrigo Roca</td>\n",
       "    </tr>\n",
       "  </tbody>\n",
       "</table>\n"
      ],
      "text/plain": [
       "<pandas.io.formats.style.Styler at 0x28620400890>"
      ]
     },
     "execution_count": 47,
     "metadata": {},
     "output_type": "execute_result"
    }
   ],
   "source": [
    "df2 = pd.read_sql(query2, connection)\n",
    "left_align(df2)"
   ]
  },
  {
   "cell_type": "code",
   "execution_count": 48,
   "metadata": {},
   "outputs": [],
   "source": [
    "df2.to_csv('csvs\\consulta2.csv', index=False)"
   ]
  },
  {
   "cell_type": "markdown",
   "metadata": {},
   "source": [
    "### 3. Contar el número de pedidos realizados."
   ]
  },
  {
   "cell_type": "code",
   "execution_count": 49,
   "metadata": {},
   "outputs": [
    {
     "data": {
      "text/plain": [
       "[(11,)]"
      ]
     },
     "execution_count": 49,
     "metadata": {},
     "output_type": "execute_result"
    }
   ],
   "source": [
    "connection = mysql.connector.connect(host=' ', database='  ', user='   ', password='    ', connection_timeout= )\n",
    "cursor=connection.cursor()\n",
    "query3 = ''' SELECT COUNT(numero)  FROM PEDIDO; '''\n",
    "cursor.execute(query3)\n",
    "cursor.fetchall()"
   ]
  },
  {
   "cell_type": "code",
   "execution_count": 50,
   "metadata": {},
   "outputs": [
    {
     "name": "stderr",
     "output_type": "stream",
     "text": [
      "C:\\Users\\Usuario\\AppData\\Local\\Temp\\ipykernel_111492\\167099386.py:1: UserWarning: pandas only supports SQLAlchemy connectable (engine/connection) or database string URI or sqlite3 DBAPI2 connection. Other DBAPI2 objects are not tested. Please consider using SQLAlchemy.\n",
      "  df3 = pd.read_sql(query3, connection)\n"
     ]
    },
    {
     "data": {
      "text/html": [
       "<style type=\"text/css\">\n",
       "#T_dc640 th {\n",
       "  text-align: left;\n",
       "}\n",
       "#T_dc640_row0_col0 {\n",
       "  text-align: left;\n",
       "}\n",
       "</style>\n",
       "<table id=\"T_dc640\">\n",
       "  <thead>\n",
       "    <tr>\n",
       "      <th class=\"blank level0\" >&nbsp;</th>\n",
       "      <th id=\"T_dc640_level0_col0\" class=\"col_heading level0 col0\" >COUNT(numero)</th>\n",
       "    </tr>\n",
       "  </thead>\n",
       "  <tbody>\n",
       "    <tr>\n",
       "      <th id=\"T_dc640_level0_row0\" class=\"row_heading level0 row0\" >0</th>\n",
       "      <td id=\"T_dc640_row0_col0\" class=\"data row0 col0\" >11</td>\n",
       "    </tr>\n",
       "  </tbody>\n",
       "</table>\n"
      ],
      "text/plain": [
       "<pandas.io.formats.style.Styler at 0x2862152d050>"
      ]
     },
     "execution_count": 50,
     "metadata": {},
     "output_type": "execute_result"
    }
   ],
   "source": [
    "df3 = pd.read_sql(query3, connection)\n",
    "left_align(df3)"
   ]
  },
  {
   "cell_type": "code",
   "execution_count": 51,
   "metadata": {},
   "outputs": [],
   "source": [
    "df3.to_csv('csvs\\consulta3.csv', index=False)"
   ]
  },
  {
   "cell_type": "markdown",
   "metadata": {},
   "source": [
    "### 4. Listar los repartidores que trabajan en el turno de tarde."
   ]
  },
  {
   "cell_type": "code",
   "execution_count": 52,
   "metadata": {},
   "outputs": [
    {
     "data": {
      "text/plain": [
       "[('Carlos Sánchez Ruíz',), ('Carmen Capel Pío',)]"
      ]
     },
     "execution_count": 52,
     "metadata": {},
     "output_type": "execute_result"
    }
   ],
   "source": [
    "connection = mysql.connector.connect(host=' ', database='  ', user='   ', password='    ', connection_timeout= )\n",
    "cursor=connection.cursor()\n",
    "query4=''' SELECT Nombre FROM REPARTIDOR WHERE Turno = 'Tarde'; '''\n",
    "cursor.execute(query4)\n",
    "cursor.fetchall()"
   ]
  },
  {
   "cell_type": "code",
   "execution_count": 53,
   "metadata": {},
   "outputs": [
    {
     "name": "stderr",
     "output_type": "stream",
     "text": [
      "C:\\Users\\Usuario\\AppData\\Local\\Temp\\ipykernel_111492\\3948834534.py:1: UserWarning: pandas only supports SQLAlchemy connectable (engine/connection) or database string URI or sqlite3 DBAPI2 connection. Other DBAPI2 objects are not tested. Please consider using SQLAlchemy.\n",
      "  df4 = pd.read_sql(query4, connection)\n"
     ]
    },
    {
     "data": {
      "text/html": [
       "<style type=\"text/css\">\n",
       "#T_82f3e th {\n",
       "  text-align: left;\n",
       "}\n",
       "#T_82f3e_row0_col0, #T_82f3e_row1_col0 {\n",
       "  text-align: left;\n",
       "}\n",
       "</style>\n",
       "<table id=\"T_82f3e\">\n",
       "  <thead>\n",
       "    <tr>\n",
       "      <th class=\"blank level0\" >&nbsp;</th>\n",
       "      <th id=\"T_82f3e_level0_col0\" class=\"col_heading level0 col0\" >Nombre</th>\n",
       "    </tr>\n",
       "  </thead>\n",
       "  <tbody>\n",
       "    <tr>\n",
       "      <th id=\"T_82f3e_level0_row0\" class=\"row_heading level0 row0\" >0</th>\n",
       "      <td id=\"T_82f3e_row0_col0\" class=\"data row0 col0\" >Carlos Sánchez Ruíz</td>\n",
       "    </tr>\n",
       "    <tr>\n",
       "      <th id=\"T_82f3e_level0_row1\" class=\"row_heading level0 row1\" >1</th>\n",
       "      <td id=\"T_82f3e_row1_col0\" class=\"data row1 col0\" >Carmen Capel Pío</td>\n",
       "    </tr>\n",
       "  </tbody>\n",
       "</table>\n"
      ],
      "text/plain": [
       "<pandas.io.formats.style.Styler at 0x286215af550>"
      ]
     },
     "execution_count": 53,
     "metadata": {},
     "output_type": "execute_result"
    }
   ],
   "source": [
    "df4 = pd.read_sql(query4, connection)\n",
    "left_align(df4)"
   ]
  },
  {
   "cell_type": "code",
   "execution_count": 54,
   "metadata": {},
   "outputs": [],
   "source": [
    "df4.to_csv('csvs\\consulta4.csv', index=False)"
   ]
  },
  {
   "cell_type": "markdown",
   "metadata": {},
   "source": [
    "### 5. Encontrar el precio más alto de los productos."
   ]
  },
  {
   "cell_type": "code",
   "execution_count": 55,
   "metadata": {},
   "outputs": [
    {
     "data": {
      "text/plain": [
       "[(6.0,)]"
      ]
     },
     "execution_count": 55,
     "metadata": {},
     "output_type": "execute_result"
    }
   ],
   "source": [
    "connection = mysql.connector.connect(host=' ', database='  ', user='   ', password='    ', connection_timeout= )\n",
    "cursor = connection.cursor()\n",
    "query5 = ''' SELECT MAX(precio) FROM PRODUCTO; '''\n",
    "cursor.execute(query5)\n",
    "cursor.fetchall()"
   ]
  },
  {
   "cell_type": "code",
   "execution_count": 56,
   "metadata": {},
   "outputs": [
    {
     "name": "stderr",
     "output_type": "stream",
     "text": [
      "C:\\Users\\Usuario\\AppData\\Local\\Temp\\ipykernel_111492\\3942403686.py:1: UserWarning: pandas only supports SQLAlchemy connectable (engine/connection) or database string URI or sqlite3 DBAPI2 connection. Other DBAPI2 objects are not tested. Please consider using SQLAlchemy.\n",
      "  df5 = pd.read_sql(query5, connection)\n"
     ]
    },
    {
     "data": {
      "text/html": [
       "<style type=\"text/css\">\n",
       "#T_46926 th {\n",
       "  text-align: left;\n",
       "}\n",
       "#T_46926_row0_col0 {\n",
       "  text-align: left;\n",
       "}\n",
       "</style>\n",
       "<table id=\"T_46926\">\n",
       "  <thead>\n",
       "    <tr>\n",
       "      <th class=\"blank level0\" >&nbsp;</th>\n",
       "      <th id=\"T_46926_level0_col0\" class=\"col_heading level0 col0\" >MAX(precio)</th>\n",
       "    </tr>\n",
       "  </thead>\n",
       "  <tbody>\n",
       "    <tr>\n",
       "      <th id=\"T_46926_level0_row0\" class=\"row_heading level0 row0\" >0</th>\n",
       "      <td id=\"T_46926_row0_col0\" class=\"data row0 col0\" >6.000000</td>\n",
       "    </tr>\n",
       "  </tbody>\n",
       "</table>\n"
      ],
      "text/plain": [
       "<pandas.io.formats.style.Styler at 0x28621baa350>"
      ]
     },
     "execution_count": 56,
     "metadata": {},
     "output_type": "execute_result"
    }
   ],
   "source": [
    "df5 = pd.read_sql(query5, connection)\n",
    "left_align(df5)"
   ]
  },
  {
   "cell_type": "code",
   "execution_count": 57,
   "metadata": {},
   "outputs": [],
   "source": [
    "df5.to_csv('csvs\\consulta5.csv', index=False)"
   ]
  },
  {
   "cell_type": "markdown",
   "metadata": {},
   "source": [
    "### 6.Mostrar todos los pedidos con un importe mayor a 100."
   ]
  },
  {
   "cell_type": "code",
   "execution_count": 68,
   "metadata": {},
   "outputs": [
    {
     "data": {
      "text/plain": [
       "[]"
      ]
     },
     "execution_count": 68,
     "metadata": {},
     "output_type": "execute_result"
    }
   ],
   "source": [
    "connection = mysql.connector.connect(host=' ', database='  ', user='   ', password='    ', connection_timeout= )\n",
    "cursor = connection.cursor()\n",
    "query6 = ''' SELECT * FROM PEDIDO WHERE importe > 100; '''\n",
    "cursor.execute(query6)\n",
    "cursor.fetchall()"
   ]
  },
  {
   "cell_type": "code",
   "execution_count": 69,
   "metadata": {},
   "outputs": [
    {
     "name": "stderr",
     "output_type": "stream",
     "text": [
      "C:\\Users\\Usuario\\AppData\\Local\\Temp\\ipykernel_111492\\1454201456.py:1: UserWarning: pandas only supports SQLAlchemy connectable (engine/connection) or database string URI or sqlite3 DBAPI2 connection. Other DBAPI2 objects are not tested. Please consider using SQLAlchemy.\n",
      "  df6 = pd.read_sql(query6, connection)\n"
     ]
    },
    {
     "data": {
      "text/html": [
       "<style type=\"text/css\">\n",
       "#T_b5b80 th {\n",
       "  text-align: left;\n",
       "}\n",
       "</style>\n",
       "<table id=\"T_b5b80\">\n",
       "  <thead>\n",
       "    <tr>\n",
       "      <th class=\"blank level0\" >&nbsp;</th>\n",
       "      <th id=\"T_b5b80_level0_col0\" class=\"col_heading level0 col0\" >Numero</th>\n",
       "      <th id=\"T_b5b80_level0_col1\" class=\"col_heading level0 col1\" >Fecha</th>\n",
       "      <th id=\"T_b5b80_level0_col2\" class=\"col_heading level0 col2\" >Importe</th>\n",
       "      <th id=\"T_b5b80_level0_col3\" class=\"col_heading level0 col3\" >DNI_ETM</th>\n",
       "      <th id=\"T_b5b80_level0_col4\" class=\"col_heading level0 col4\" >DNI_EP</th>\n",
       "      <th id=\"T_b5b80_level0_col5\" class=\"col_heading level0 col5\" >DNI_R</th>\n",
       "      <th id=\"T_b5b80_level0_col6\" class=\"col_heading level0 col6\" >Hora_tm</th>\n",
       "      <th id=\"T_b5b80_level0_col7\" class=\"col_heading level0 col7\" >Hora_pre</th>\n",
       "      <th id=\"T_b5b80_level0_col8\" class=\"col_heading level0 col8\" >Hora_rep</th>\n",
       "    </tr>\n",
       "  </thead>\n",
       "  <tbody>\n",
       "  </tbody>\n",
       "</table>\n"
      ],
      "text/plain": [
       "<pandas.io.formats.style.Styler at 0x28621ebea50>"
      ]
     },
     "execution_count": 69,
     "metadata": {},
     "output_type": "execute_result"
    }
   ],
   "source": [
    "df6 = pd.read_sql(query6, connection)\n",
    "left_align(df6)"
   ]
  },
  {
   "cell_type": "code",
   "execution_count": 70,
   "metadata": {},
   "outputs": [],
   "source": [
    "df6.to_csv('csvs\\consulta6.csv', index=False)"
   ]
  },
  {
   "cell_type": "markdown",
   "metadata": {},
   "source": [
    "### 7. Obtener el salario promedio de los empleados."
   ]
  },
  {
   "cell_type": "code",
   "execution_count": 71,
   "metadata": {},
   "outputs": [
    {
     "data": {
      "text/plain": [
       "[(1027.272727,)]"
      ]
     },
     "execution_count": 71,
     "metadata": {},
     "output_type": "execute_result"
    }
   ],
   "source": [
    "connection = mysql.connector.connect(host=' ', database='  ', user='   ', password='    ', connection_timeout= )\n",
    "cursor =connection.cursor()\n",
    "query7 = '''SELECT AVG(salario) FROM EMPLEADO;'''\n",
    "cursor.execute(query7)\n",
    "cursor.fetchall()"
   ]
  },
  {
   "cell_type": "code",
   "execution_count": 72,
   "metadata": {},
   "outputs": [
    {
     "name": "stderr",
     "output_type": "stream",
     "text": [
      "C:\\Users\\Usuario\\AppData\\Local\\Temp\\ipykernel_111492\\3682258350.py:1: UserWarning: pandas only supports SQLAlchemy connectable (engine/connection) or database string URI or sqlite3 DBAPI2 connection. Other DBAPI2 objects are not tested. Please consider using SQLAlchemy.\n",
      "  df7 = pd.read_sql(query7, connection)\n"
     ]
    },
    {
     "data": {
      "text/html": [
       "<style type=\"text/css\">\n",
       "#T_c54bc th {\n",
       "  text-align: left;\n",
       "}\n",
       "#T_c54bc_row0_col0 {\n",
       "  text-align: left;\n",
       "}\n",
       "</style>\n",
       "<table id=\"T_c54bc\">\n",
       "  <thead>\n",
       "    <tr>\n",
       "      <th class=\"blank level0\" >&nbsp;</th>\n",
       "      <th id=\"T_c54bc_level0_col0\" class=\"col_heading level0 col0\" >AVG(salario)</th>\n",
       "    </tr>\n",
       "  </thead>\n",
       "  <tbody>\n",
       "    <tr>\n",
       "      <th id=\"T_c54bc_level0_row0\" class=\"row_heading level0 row0\" >0</th>\n",
       "      <td id=\"T_c54bc_row0_col0\" class=\"data row0 col0\" >1027.272727</td>\n",
       "    </tr>\n",
       "  </tbody>\n",
       "</table>\n"
      ],
      "text/plain": [
       "<pandas.io.formats.style.Styler at 0x28621e30150>"
      ]
     },
     "execution_count": 72,
     "metadata": {},
     "output_type": "execute_result"
    }
   ],
   "source": [
    "df7 = pd.read_sql(query7, connection)\n",
    "left_align(df7)"
   ]
  },
  {
   "cell_type": "code",
   "execution_count": 73,
   "metadata": {},
   "outputs": [],
   "source": [
    "df7.to_csv('csvs\\consulta7.csv', index=False)"
   ]
  },
  {
   "cell_type": "markdown",
   "metadata": {},
   "source": [
    "### 8. Listar los productos que tienen un nombre único (sin duplicados)."
   ]
  },
  {
   "cell_type": "code",
   "execution_count": 74,
   "metadata": {},
   "outputs": [
    {
     "data": {
      "text/plain": [
       "[('01', 'Hamburguesa', 2.6),\n",
       " ('02', 'Patatas', 2.0),\n",
       " ('03', 'tomate', 0.5),\n",
       " ('04', 'Queso', 1.0),\n",
       " ('05', 'Lechuga', 0.5),\n",
       " ('06', 'Pollo', 3.6),\n",
       " ('08', 'Bacon', 1.5),\n",
       " ('09', 'Coca cola', 3.0),\n",
       " ('10', 'Nestea', 3.0),\n",
       " ('11', 'Menú de Pollo', 5.0),\n",
       " ('12', 'Menú de Hamburguesa con queso', 6.0),\n",
       " ('13', 'Menú de Pollo con queso', 6.0),\n",
       " ('14', 'Menú de Hamburguesa', 6.0),\n",
       " ('15', 'Helado', 1.0),\n",
       " ('16', 'Tarta', 2.0),\n",
       " ('17', 'Fruta', 1.0),\n",
       " ('18', 'Agua', 2.0),\n",
       " ('19', 'Fanta', 3.0)]"
      ]
     },
     "execution_count": 74,
     "metadata": {},
     "output_type": "execute_result"
    }
   ],
   "source": [
    "connection = mysql.connector.connect(host=' ', database='  ', user='   ', password='    ', connection_timeout= )\n",
    "cursor = connection.cursor()\n",
    "query8 = '''SELECT DISTINCT* FROM PRODUCTO;'''\n",
    "cursor.execute(query8)\n",
    "cursor.fetchall()"
   ]
  },
  {
   "cell_type": "code",
   "execution_count": 75,
   "metadata": {},
   "outputs": [
    {
     "name": "stderr",
     "output_type": "stream",
     "text": [
      "C:\\Users\\Usuario\\AppData\\Local\\Temp\\ipykernel_111492\\3251185271.py:1: UserWarning: pandas only supports SQLAlchemy connectable (engine/connection) or database string URI or sqlite3 DBAPI2 connection. Other DBAPI2 objects are not tested. Please consider using SQLAlchemy.\n",
      "  df8 = pd.read_sql(query8, connection)\n"
     ]
    },
    {
     "data": {
      "text/html": [
       "<style type=\"text/css\">\n",
       "#T_66292 th {\n",
       "  text-align: left;\n",
       "}\n",
       "#T_66292_row0_col0, #T_66292_row0_col1, #T_66292_row0_col2, #T_66292_row1_col0, #T_66292_row1_col1, #T_66292_row1_col2, #T_66292_row2_col0, #T_66292_row2_col1, #T_66292_row2_col2, #T_66292_row3_col0, #T_66292_row3_col1, #T_66292_row3_col2, #T_66292_row4_col0, #T_66292_row4_col1, #T_66292_row4_col2, #T_66292_row5_col0, #T_66292_row5_col1, #T_66292_row5_col2, #T_66292_row6_col0, #T_66292_row6_col1, #T_66292_row6_col2, #T_66292_row7_col0, #T_66292_row7_col1, #T_66292_row7_col2, #T_66292_row8_col0, #T_66292_row8_col1, #T_66292_row8_col2, #T_66292_row9_col0, #T_66292_row9_col1, #T_66292_row9_col2, #T_66292_row10_col0, #T_66292_row10_col1, #T_66292_row10_col2, #T_66292_row11_col0, #T_66292_row11_col1, #T_66292_row11_col2, #T_66292_row12_col0, #T_66292_row12_col1, #T_66292_row12_col2, #T_66292_row13_col0, #T_66292_row13_col1, #T_66292_row13_col2, #T_66292_row14_col0, #T_66292_row14_col1, #T_66292_row14_col2, #T_66292_row15_col0, #T_66292_row15_col1, #T_66292_row15_col2, #T_66292_row16_col0, #T_66292_row16_col1, #T_66292_row16_col2, #T_66292_row17_col0, #T_66292_row17_col1, #T_66292_row17_col2 {\n",
       "  text-align: left;\n",
       "}\n",
       "</style>\n",
       "<table id=\"T_66292\">\n",
       "  <thead>\n",
       "    <tr>\n",
       "      <th class=\"blank level0\" >&nbsp;</th>\n",
       "      <th id=\"T_66292_level0_col0\" class=\"col_heading level0 col0\" >Codigo</th>\n",
       "      <th id=\"T_66292_level0_col1\" class=\"col_heading level0 col1\" >Nombre</th>\n",
       "      <th id=\"T_66292_level0_col2\" class=\"col_heading level0 col2\" >Precio</th>\n",
       "    </tr>\n",
       "  </thead>\n",
       "  <tbody>\n",
       "    <tr>\n",
       "      <th id=\"T_66292_level0_row0\" class=\"row_heading level0 row0\" >0</th>\n",
       "      <td id=\"T_66292_row0_col0\" class=\"data row0 col0\" >01</td>\n",
       "      <td id=\"T_66292_row0_col1\" class=\"data row0 col1\" >Hamburguesa</td>\n",
       "      <td id=\"T_66292_row0_col2\" class=\"data row0 col2\" >2.600000</td>\n",
       "    </tr>\n",
       "    <tr>\n",
       "      <th id=\"T_66292_level0_row1\" class=\"row_heading level0 row1\" >1</th>\n",
       "      <td id=\"T_66292_row1_col0\" class=\"data row1 col0\" >02</td>\n",
       "      <td id=\"T_66292_row1_col1\" class=\"data row1 col1\" >Patatas</td>\n",
       "      <td id=\"T_66292_row1_col2\" class=\"data row1 col2\" >2.000000</td>\n",
       "    </tr>\n",
       "    <tr>\n",
       "      <th id=\"T_66292_level0_row2\" class=\"row_heading level0 row2\" >2</th>\n",
       "      <td id=\"T_66292_row2_col0\" class=\"data row2 col0\" >03</td>\n",
       "      <td id=\"T_66292_row2_col1\" class=\"data row2 col1\" >tomate</td>\n",
       "      <td id=\"T_66292_row2_col2\" class=\"data row2 col2\" >0.500000</td>\n",
       "    </tr>\n",
       "    <tr>\n",
       "      <th id=\"T_66292_level0_row3\" class=\"row_heading level0 row3\" >3</th>\n",
       "      <td id=\"T_66292_row3_col0\" class=\"data row3 col0\" >04</td>\n",
       "      <td id=\"T_66292_row3_col1\" class=\"data row3 col1\" >Queso</td>\n",
       "      <td id=\"T_66292_row3_col2\" class=\"data row3 col2\" >1.000000</td>\n",
       "    </tr>\n",
       "    <tr>\n",
       "      <th id=\"T_66292_level0_row4\" class=\"row_heading level0 row4\" >4</th>\n",
       "      <td id=\"T_66292_row4_col0\" class=\"data row4 col0\" >05</td>\n",
       "      <td id=\"T_66292_row4_col1\" class=\"data row4 col1\" >Lechuga</td>\n",
       "      <td id=\"T_66292_row4_col2\" class=\"data row4 col2\" >0.500000</td>\n",
       "    </tr>\n",
       "    <tr>\n",
       "      <th id=\"T_66292_level0_row5\" class=\"row_heading level0 row5\" >5</th>\n",
       "      <td id=\"T_66292_row5_col0\" class=\"data row5 col0\" >06</td>\n",
       "      <td id=\"T_66292_row5_col1\" class=\"data row5 col1\" >Pollo</td>\n",
       "      <td id=\"T_66292_row5_col2\" class=\"data row5 col2\" >3.600000</td>\n",
       "    </tr>\n",
       "    <tr>\n",
       "      <th id=\"T_66292_level0_row6\" class=\"row_heading level0 row6\" >6</th>\n",
       "      <td id=\"T_66292_row6_col0\" class=\"data row6 col0\" >08</td>\n",
       "      <td id=\"T_66292_row6_col1\" class=\"data row6 col1\" >Bacon</td>\n",
       "      <td id=\"T_66292_row6_col2\" class=\"data row6 col2\" >1.500000</td>\n",
       "    </tr>\n",
       "    <tr>\n",
       "      <th id=\"T_66292_level0_row7\" class=\"row_heading level0 row7\" >7</th>\n",
       "      <td id=\"T_66292_row7_col0\" class=\"data row7 col0\" >09</td>\n",
       "      <td id=\"T_66292_row7_col1\" class=\"data row7 col1\" >Coca cola</td>\n",
       "      <td id=\"T_66292_row7_col2\" class=\"data row7 col2\" >3.000000</td>\n",
       "    </tr>\n",
       "    <tr>\n",
       "      <th id=\"T_66292_level0_row8\" class=\"row_heading level0 row8\" >8</th>\n",
       "      <td id=\"T_66292_row8_col0\" class=\"data row8 col0\" >10</td>\n",
       "      <td id=\"T_66292_row8_col1\" class=\"data row8 col1\" >Nestea</td>\n",
       "      <td id=\"T_66292_row8_col2\" class=\"data row8 col2\" >3.000000</td>\n",
       "    </tr>\n",
       "    <tr>\n",
       "      <th id=\"T_66292_level0_row9\" class=\"row_heading level0 row9\" >9</th>\n",
       "      <td id=\"T_66292_row9_col0\" class=\"data row9 col0\" >11</td>\n",
       "      <td id=\"T_66292_row9_col1\" class=\"data row9 col1\" >Menú de Pollo</td>\n",
       "      <td id=\"T_66292_row9_col2\" class=\"data row9 col2\" >5.000000</td>\n",
       "    </tr>\n",
       "    <tr>\n",
       "      <th id=\"T_66292_level0_row10\" class=\"row_heading level0 row10\" >10</th>\n",
       "      <td id=\"T_66292_row10_col0\" class=\"data row10 col0\" >12</td>\n",
       "      <td id=\"T_66292_row10_col1\" class=\"data row10 col1\" >Menú de Hamburguesa con queso</td>\n",
       "      <td id=\"T_66292_row10_col2\" class=\"data row10 col2\" >6.000000</td>\n",
       "    </tr>\n",
       "    <tr>\n",
       "      <th id=\"T_66292_level0_row11\" class=\"row_heading level0 row11\" >11</th>\n",
       "      <td id=\"T_66292_row11_col0\" class=\"data row11 col0\" >13</td>\n",
       "      <td id=\"T_66292_row11_col1\" class=\"data row11 col1\" >Menú de Pollo con queso</td>\n",
       "      <td id=\"T_66292_row11_col2\" class=\"data row11 col2\" >6.000000</td>\n",
       "    </tr>\n",
       "    <tr>\n",
       "      <th id=\"T_66292_level0_row12\" class=\"row_heading level0 row12\" >12</th>\n",
       "      <td id=\"T_66292_row12_col0\" class=\"data row12 col0\" >14</td>\n",
       "      <td id=\"T_66292_row12_col1\" class=\"data row12 col1\" >Menú de Hamburguesa</td>\n",
       "      <td id=\"T_66292_row12_col2\" class=\"data row12 col2\" >6.000000</td>\n",
       "    </tr>\n",
       "    <tr>\n",
       "      <th id=\"T_66292_level0_row13\" class=\"row_heading level0 row13\" >13</th>\n",
       "      <td id=\"T_66292_row13_col0\" class=\"data row13 col0\" >15</td>\n",
       "      <td id=\"T_66292_row13_col1\" class=\"data row13 col1\" >Helado</td>\n",
       "      <td id=\"T_66292_row13_col2\" class=\"data row13 col2\" >1.000000</td>\n",
       "    </tr>\n",
       "    <tr>\n",
       "      <th id=\"T_66292_level0_row14\" class=\"row_heading level0 row14\" >14</th>\n",
       "      <td id=\"T_66292_row14_col0\" class=\"data row14 col0\" >16</td>\n",
       "      <td id=\"T_66292_row14_col1\" class=\"data row14 col1\" >Tarta</td>\n",
       "      <td id=\"T_66292_row14_col2\" class=\"data row14 col2\" >2.000000</td>\n",
       "    </tr>\n",
       "    <tr>\n",
       "      <th id=\"T_66292_level0_row15\" class=\"row_heading level0 row15\" >15</th>\n",
       "      <td id=\"T_66292_row15_col0\" class=\"data row15 col0\" >17</td>\n",
       "      <td id=\"T_66292_row15_col1\" class=\"data row15 col1\" >Fruta</td>\n",
       "      <td id=\"T_66292_row15_col2\" class=\"data row15 col2\" >1.000000</td>\n",
       "    </tr>\n",
       "    <tr>\n",
       "      <th id=\"T_66292_level0_row16\" class=\"row_heading level0 row16\" >16</th>\n",
       "      <td id=\"T_66292_row16_col0\" class=\"data row16 col0\" >18</td>\n",
       "      <td id=\"T_66292_row16_col1\" class=\"data row16 col1\" >Agua</td>\n",
       "      <td id=\"T_66292_row16_col2\" class=\"data row16 col2\" >2.000000</td>\n",
       "    </tr>\n",
       "    <tr>\n",
       "      <th id=\"T_66292_level0_row17\" class=\"row_heading level0 row17\" >17</th>\n",
       "      <td id=\"T_66292_row17_col0\" class=\"data row17 col0\" >19</td>\n",
       "      <td id=\"T_66292_row17_col1\" class=\"data row17 col1\" >Fanta</td>\n",
       "      <td id=\"T_66292_row17_col2\" class=\"data row17 col2\" >3.000000</td>\n",
       "    </tr>\n",
       "  </tbody>\n",
       "</table>\n"
      ],
      "text/plain": [
       "<pandas.io.formats.style.Styler at 0x28621e7d590>"
      ]
     },
     "execution_count": 75,
     "metadata": {},
     "output_type": "execute_result"
    }
   ],
   "source": [
    "df8 = pd.read_sql(query8, connection)\n",
    "left_align(df8)"
   ]
  },
  {
   "cell_type": "code",
   "execution_count": 76,
   "metadata": {},
   "outputs": [],
   "source": [
    "df8.to_csv('csvs\\consulta8.csv', index=False)"
   ]
  },
  {
   "cell_type": "markdown",
   "metadata": {},
   "source": [
    "### 9. Mostrar el número y la fecha de todos los pedidos realizados en el último mes."
   ]
  },
  {
   "cell_type": "code",
   "execution_count": 77,
   "metadata": {},
   "outputs": [
    {
     "data": {
      "text/plain": [
       "[('0002', datetime.date(2020, 11, 11)),\n",
       " ('0004', datetime.date(2020, 11, 10)),\n",
       " ('0006', datetime.date(2020, 11, 15)),\n",
       " ('0009', datetime.date(2020, 11, 23)),\n",
       " ('0010', datetime.date(2020, 11, 5)),\n",
       " ('0011', datetime.date(2020, 11, 5))]"
      ]
     },
     "execution_count": 77,
     "metadata": {},
     "output_type": "execute_result"
    }
   ],
   "source": [
    "connection = mysql.connector.connect(host=' ', database='  ', user='   ', password='    ', connection_timeout= )\n",
    "cursor = connection.cursor()\n",
    "query9 = '''SELECT numero, fecha FROM PEDIDO WHERE fecha LIKE '%2020-11%';'''\n",
    "cursor.execute(query9)\n",
    "cursor.fetchall()"
   ]
  },
  {
   "cell_type": "code",
   "execution_count": 78,
   "metadata": {},
   "outputs": [
    {
     "name": "stderr",
     "output_type": "stream",
     "text": [
      "C:\\Users\\Usuario\\AppData\\Local\\Temp\\ipykernel_111492\\2293376910.py:1: UserWarning: pandas only supports SQLAlchemy connectable (engine/connection) or database string URI or sqlite3 DBAPI2 connection. Other DBAPI2 objects are not tested. Please consider using SQLAlchemy.\n",
      "  df9 = pd.read_sql(query9, connection)\n"
     ]
    },
    {
     "data": {
      "text/html": [
       "<style type=\"text/css\">\n",
       "#T_5d158 th {\n",
       "  text-align: left;\n",
       "}\n",
       "#T_5d158_row0_col0, #T_5d158_row0_col1, #T_5d158_row1_col0, #T_5d158_row1_col1, #T_5d158_row2_col0, #T_5d158_row2_col1, #T_5d158_row3_col0, #T_5d158_row3_col1, #T_5d158_row4_col0, #T_5d158_row4_col1, #T_5d158_row5_col0, #T_5d158_row5_col1 {\n",
       "  text-align: left;\n",
       "}\n",
       "</style>\n",
       "<table id=\"T_5d158\">\n",
       "  <thead>\n",
       "    <tr>\n",
       "      <th class=\"blank level0\" >&nbsp;</th>\n",
       "      <th id=\"T_5d158_level0_col0\" class=\"col_heading level0 col0\" >numero</th>\n",
       "      <th id=\"T_5d158_level0_col1\" class=\"col_heading level0 col1\" >fecha</th>\n",
       "    </tr>\n",
       "  </thead>\n",
       "  <tbody>\n",
       "    <tr>\n",
       "      <th id=\"T_5d158_level0_row0\" class=\"row_heading level0 row0\" >0</th>\n",
       "      <td id=\"T_5d158_row0_col0\" class=\"data row0 col0\" >0002</td>\n",
       "      <td id=\"T_5d158_row0_col1\" class=\"data row0 col1\" >2020-11-11</td>\n",
       "    </tr>\n",
       "    <tr>\n",
       "      <th id=\"T_5d158_level0_row1\" class=\"row_heading level0 row1\" >1</th>\n",
       "      <td id=\"T_5d158_row1_col0\" class=\"data row1 col0\" >0004</td>\n",
       "      <td id=\"T_5d158_row1_col1\" class=\"data row1 col1\" >2020-11-10</td>\n",
       "    </tr>\n",
       "    <tr>\n",
       "      <th id=\"T_5d158_level0_row2\" class=\"row_heading level0 row2\" >2</th>\n",
       "      <td id=\"T_5d158_row2_col0\" class=\"data row2 col0\" >0006</td>\n",
       "      <td id=\"T_5d158_row2_col1\" class=\"data row2 col1\" >2020-11-15</td>\n",
       "    </tr>\n",
       "    <tr>\n",
       "      <th id=\"T_5d158_level0_row3\" class=\"row_heading level0 row3\" >3</th>\n",
       "      <td id=\"T_5d158_row3_col0\" class=\"data row3 col0\" >0009</td>\n",
       "      <td id=\"T_5d158_row3_col1\" class=\"data row3 col1\" >2020-11-23</td>\n",
       "    </tr>\n",
       "    <tr>\n",
       "      <th id=\"T_5d158_level0_row4\" class=\"row_heading level0 row4\" >4</th>\n",
       "      <td id=\"T_5d158_row4_col0\" class=\"data row4 col0\" >0010</td>\n",
       "      <td id=\"T_5d158_row4_col1\" class=\"data row4 col1\" >2020-11-05</td>\n",
       "    </tr>\n",
       "    <tr>\n",
       "      <th id=\"T_5d158_level0_row5\" class=\"row_heading level0 row5\" >5</th>\n",
       "      <td id=\"T_5d158_row5_col0\" class=\"data row5 col0\" >0011</td>\n",
       "      <td id=\"T_5d158_row5_col1\" class=\"data row5 col1\" >2020-11-05</td>\n",
       "    </tr>\n",
       "  </tbody>\n",
       "</table>\n"
      ],
      "text/plain": [
       "<pandas.io.formats.style.Styler at 0x28621b72510>"
      ]
     },
     "execution_count": 78,
     "metadata": {},
     "output_type": "execute_result"
    }
   ],
   "source": [
    "df9 = pd.read_sql(query9, connection)\n",
    "left_align(df9)"
   ]
  },
  {
   "cell_type": "code",
   "execution_count": 79,
   "metadata": {},
   "outputs": [],
   "source": [
    "df9.to_csv('csvs\\consulta9.csv', index=False)"
   ]
  },
  {
   "cell_type": "markdown",
   "metadata": {},
   "source": [
    "### 10. Encontrar el empleado con el salario más bajo."
   ]
  },
  {
   "cell_type": "code",
   "execution_count": 81,
   "metadata": {},
   "outputs": [
    {
     "data": {
      "text/plain": [
       "[('Úrsula Delta Camacho',), ('Luis Ramírez Pardo',), ('Carmen Hernández Pío',)]"
      ]
     },
     "execution_count": 81,
     "metadata": {},
     "output_type": "execute_result"
    }
   ],
   "source": [
    "connection = mysql.connector.connect(host=' ', database='  ', user='   ', password='    ', connection_timeout= )\n",
    "cursor = connection.cursor()\n",
    "query10 = '''SELECT nombre\n",
    "\tFROM EMPLEADO\n",
    "    WHERE salario = (SELECT MIN(salario) FROM EMPLEADO);'''\n",
    "cursor.execute(query10)\n",
    "cursor.fetchall()"
   ]
  },
  {
   "cell_type": "code",
   "execution_count": 82,
   "metadata": {},
   "outputs": [
    {
     "name": "stderr",
     "output_type": "stream",
     "text": [
      "C:\\Users\\Usuario\\AppData\\Local\\Temp\\ipykernel_111492\\485508511.py:1: UserWarning: pandas only supports SQLAlchemy connectable (engine/connection) or database string URI or sqlite3 DBAPI2 connection. Other DBAPI2 objects are not tested. Please consider using SQLAlchemy.\n",
      "  df10 = pd.read_sql(query10, connection)\n"
     ]
    },
    {
     "data": {
      "text/html": [
       "<style type=\"text/css\">\n",
       "#T_0865a th {\n",
       "  text-align: left;\n",
       "}\n",
       "#T_0865a_row0_col0, #T_0865a_row1_col0, #T_0865a_row2_col0 {\n",
       "  text-align: left;\n",
       "}\n",
       "</style>\n",
       "<table id=\"T_0865a\">\n",
       "  <thead>\n",
       "    <tr>\n",
       "      <th class=\"blank level0\" >&nbsp;</th>\n",
       "      <th id=\"T_0865a_level0_col0\" class=\"col_heading level0 col0\" >nombre</th>\n",
       "    </tr>\n",
       "  </thead>\n",
       "  <tbody>\n",
       "    <tr>\n",
       "      <th id=\"T_0865a_level0_row0\" class=\"row_heading level0 row0\" >0</th>\n",
       "      <td id=\"T_0865a_row0_col0\" class=\"data row0 col0\" >Úrsula Delta Camacho</td>\n",
       "    </tr>\n",
       "    <tr>\n",
       "      <th id=\"T_0865a_level0_row1\" class=\"row_heading level0 row1\" >1</th>\n",
       "      <td id=\"T_0865a_row1_col0\" class=\"data row1 col0\" >Luis Ramírez Pardo</td>\n",
       "    </tr>\n",
       "    <tr>\n",
       "      <th id=\"T_0865a_level0_row2\" class=\"row_heading level0 row2\" >2</th>\n",
       "      <td id=\"T_0865a_row2_col0\" class=\"data row2 col0\" >Carmen Hernández Pío</td>\n",
       "    </tr>\n",
       "  </tbody>\n",
       "</table>\n"
      ],
      "text/plain": [
       "<pandas.io.formats.style.Styler at 0x286215ad290>"
      ]
     },
     "execution_count": 82,
     "metadata": {},
     "output_type": "execute_result"
    }
   ],
   "source": [
    "df10 = pd.read_sql(query10, connection)\n",
    "left_align(df10)"
   ]
  },
  {
   "cell_type": "code",
   "execution_count": 83,
   "metadata": {},
   "outputs": [],
   "source": [
    "df10.to_csv('csvs\\consulta10.csv', index=False)"
   ]
  },
  {
   "cell_type": "markdown",
   "metadata": {},
   "source": [
    "### 11. Listar los productos y sus componentes."
   ]
  },
  {
   "cell_type": "code",
   "execution_count": 110,
   "metadata": {},
   "outputs": [
    {
     "data": {
      "text/plain": [
       "[('01', 'Hamburguesa', 2.6, None, None, None),\n",
       " ('02', 'Patatas', 2.0, None, None, None),\n",
       " ('03', 'tomate', 0.5, None, None, None),\n",
       " ('04', 'Queso', 1.0, None, None, None),\n",
       " ('05', 'Lechuga', 0.5, None, None, None),\n",
       " ('06', 'Pollo', 3.6, None, None, None),\n",
       " ('08', 'Bacon', 1.5, None, None, None),\n",
       " ('09', 'Coca cola', 3.0, None, None, None),\n",
       " ('10', 'Nestea', 3.0, None, None, None),\n",
       " ('11', 'Menú de Pollo', 5.0, '02', 'Patatas', 2.0),\n",
       " ('11', 'Menú de Pollo', 5.0, '03', 'tomate', 0.5),\n",
       " ('11', 'Menú de Pollo', 5.0, '06', 'Pollo', 3.6),\n",
       " ('11', 'Menú de Pollo', 5.0, '17', 'Fruta', 1.0),\n",
       " ('11', 'Menú de Pollo', 5.0, '18', 'Agua', 2.0),\n",
       " ('12', 'Menú de Hamburguesa con queso', 6.0, '01', 'Hamburguesa', 2.6),\n",
       " ('12', 'Menú de Hamburguesa con queso', 6.0, '02', 'Patatas', 2.0),\n",
       " ('12', 'Menú de Hamburguesa con queso', 6.0, '04', 'Queso', 1.0),\n",
       " ('12', 'Menú de Hamburguesa con queso', 6.0, '10', 'Nestea', 3.0),\n",
       " ('12', 'Menú de Hamburguesa con queso', 6.0, '16', 'Tarta', 2.0),\n",
       " ('13', 'Menú de Pollo con queso', 6.0, '02', 'Patatas', 2.0),\n",
       " ('13', 'Menú de Pollo con queso', 6.0, '04', 'Queso', 1.0),\n",
       " ('13', 'Menú de Pollo con queso', 6.0, '06', 'Pollo', 3.6),\n",
       " ('13', 'Menú de Pollo con queso', 6.0, '08', 'Bacon', 1.5),\n",
       " ('13', 'Menú de Pollo con queso', 6.0, '09', 'Coca cola', 3.0),\n",
       " ('13', 'Menú de Pollo con queso', 6.0, '15', 'Helado', 1.0),\n",
       " ('14', 'Menú de Hamburguesa', 6.0, '01', 'Hamburguesa', 2.6),\n",
       " ('14', 'Menú de Hamburguesa', 6.0, '02', 'Patatas', 2.0),\n",
       " ('14', 'Menú de Hamburguesa', 6.0, '03', 'tomate', 0.5),\n",
       " ('14', 'Menú de Hamburguesa', 6.0, '05', 'Lechuga', 0.5),\n",
       " ('14', 'Menú de Hamburguesa', 6.0, '08', 'Bacon', 1.5),\n",
       " ('14', 'Menú de Hamburguesa', 6.0, '09', 'Coca cola', 3.0),\n",
       " ('14', 'Menú de Hamburguesa', 6.0, '15', 'Helado', 1.0),\n",
       " ('15', 'Helado', 1.0, None, None, None),\n",
       " ('16', 'Tarta', 2.0, None, None, None),\n",
       " ('17', 'Fruta', 1.0, None, None, None),\n",
       " ('18', 'Agua', 2.0, None, None, None),\n",
       " ('19', 'Fanta', 3.0, None, None, None)]"
      ]
     },
     "execution_count": 110,
     "metadata": {},
     "output_type": "execute_result"
    }
   ],
   "source": [
    "connection = mysql.connector.connect(host=' ', database='  ', user='   ', password='    ', connection_timeout= )\n",
    "cursor = connection.cursor()\n",
    "query11 = '''SELECT \n",
    "    p.Codigo AS Producto_Codigo,\n",
    "    p.Nombre AS Producto_Nombre,\n",
    "    p.Precio AS Producto_Precio,\n",
    "    c.Codigo_P_compuesto AS Componente_Codigo,\n",
    "    pc.Nombre AS Componente_Nombre,\n",
    "    pc.Precio AS Componente_Precio\n",
    "FROM \n",
    "    PRODUCTO p\n",
    "LEFT JOIN \n",
    "    esta_compuesto c ON p.Codigo = c.Codigo_P\n",
    "LEFT JOIN \n",
    "    PRODUCTO pc ON c.Codigo_P_compuesto = pc.Codigo\n",
    "ORDER BY \n",
    "    p.Codigo, c.Codigo_P_compuesto;'''\n",
    "cursor.execute(query11)\n",
    "cursor.fetchall()"
   ]
  },
  {
   "cell_type": "code",
   "execution_count": 111,
   "metadata": {},
   "outputs": [
    {
     "name": "stderr",
     "output_type": "stream",
     "text": [
      "C:\\Users\\Usuario\\AppData\\Local\\Temp\\ipykernel_111492\\1624814681.py:1: UserWarning: pandas only supports SQLAlchemy connectable (engine/connection) or database string URI or sqlite3 DBAPI2 connection. Other DBAPI2 objects are not tested. Please consider using SQLAlchemy.\n",
      "  df11 = pd.read_sql(query11, connection)\n"
     ]
    },
    {
     "data": {
      "text/html": [
       "<style type=\"text/css\">\n",
       "#T_799e5 th {\n",
       "  text-align: left;\n",
       "}\n",
       "#T_799e5_row0_col0, #T_799e5_row0_col1, #T_799e5_row0_col2, #T_799e5_row0_col3, #T_799e5_row0_col4, #T_799e5_row0_col5, #T_799e5_row1_col0, #T_799e5_row1_col1, #T_799e5_row1_col2, #T_799e5_row1_col3, #T_799e5_row1_col4, #T_799e5_row1_col5, #T_799e5_row2_col0, #T_799e5_row2_col1, #T_799e5_row2_col2, #T_799e5_row2_col3, #T_799e5_row2_col4, #T_799e5_row2_col5, #T_799e5_row3_col0, #T_799e5_row3_col1, #T_799e5_row3_col2, #T_799e5_row3_col3, #T_799e5_row3_col4, #T_799e5_row3_col5, #T_799e5_row4_col0, #T_799e5_row4_col1, #T_799e5_row4_col2, #T_799e5_row4_col3, #T_799e5_row4_col4, #T_799e5_row4_col5, #T_799e5_row5_col0, #T_799e5_row5_col1, #T_799e5_row5_col2, #T_799e5_row5_col3, #T_799e5_row5_col4, #T_799e5_row5_col5, #T_799e5_row6_col0, #T_799e5_row6_col1, #T_799e5_row6_col2, #T_799e5_row6_col3, #T_799e5_row6_col4, #T_799e5_row6_col5, #T_799e5_row7_col0, #T_799e5_row7_col1, #T_799e5_row7_col2, #T_799e5_row7_col3, #T_799e5_row7_col4, #T_799e5_row7_col5, #T_799e5_row8_col0, #T_799e5_row8_col1, #T_799e5_row8_col2, #T_799e5_row8_col3, #T_799e5_row8_col4, #T_799e5_row8_col5, #T_799e5_row9_col0, #T_799e5_row9_col1, #T_799e5_row9_col2, #T_799e5_row9_col3, #T_799e5_row9_col4, #T_799e5_row9_col5, #T_799e5_row10_col0, #T_799e5_row10_col1, #T_799e5_row10_col2, #T_799e5_row10_col3, #T_799e5_row10_col4, #T_799e5_row10_col5, #T_799e5_row11_col0, #T_799e5_row11_col1, #T_799e5_row11_col2, #T_799e5_row11_col3, #T_799e5_row11_col4, #T_799e5_row11_col5, #T_799e5_row12_col0, #T_799e5_row12_col1, #T_799e5_row12_col2, #T_799e5_row12_col3, #T_799e5_row12_col4, #T_799e5_row12_col5, #T_799e5_row13_col0, #T_799e5_row13_col1, #T_799e5_row13_col2, #T_799e5_row13_col3, #T_799e5_row13_col4, #T_799e5_row13_col5, #T_799e5_row14_col0, #T_799e5_row14_col1, #T_799e5_row14_col2, #T_799e5_row14_col3, #T_799e5_row14_col4, #T_799e5_row14_col5, #T_799e5_row15_col0, #T_799e5_row15_col1, #T_799e5_row15_col2, #T_799e5_row15_col3, #T_799e5_row15_col4, #T_799e5_row15_col5, #T_799e5_row16_col0, #T_799e5_row16_col1, #T_799e5_row16_col2, #T_799e5_row16_col3, #T_799e5_row16_col4, #T_799e5_row16_col5, #T_799e5_row17_col0, #T_799e5_row17_col1, #T_799e5_row17_col2, #T_799e5_row17_col3, #T_799e5_row17_col4, #T_799e5_row17_col5, #T_799e5_row18_col0, #T_799e5_row18_col1, #T_799e5_row18_col2, #T_799e5_row18_col3, #T_799e5_row18_col4, #T_799e5_row18_col5, #T_799e5_row19_col0, #T_799e5_row19_col1, #T_799e5_row19_col2, #T_799e5_row19_col3, #T_799e5_row19_col4, #T_799e5_row19_col5, #T_799e5_row20_col0, #T_799e5_row20_col1, #T_799e5_row20_col2, #T_799e5_row20_col3, #T_799e5_row20_col4, #T_799e5_row20_col5, #T_799e5_row21_col0, #T_799e5_row21_col1, #T_799e5_row21_col2, #T_799e5_row21_col3, #T_799e5_row21_col4, #T_799e5_row21_col5, #T_799e5_row22_col0, #T_799e5_row22_col1, #T_799e5_row22_col2, #T_799e5_row22_col3, #T_799e5_row22_col4, #T_799e5_row22_col5, #T_799e5_row23_col0, #T_799e5_row23_col1, #T_799e5_row23_col2, #T_799e5_row23_col3, #T_799e5_row23_col4, #T_799e5_row23_col5, #T_799e5_row24_col0, #T_799e5_row24_col1, #T_799e5_row24_col2, #T_799e5_row24_col3, #T_799e5_row24_col4, #T_799e5_row24_col5, #T_799e5_row25_col0, #T_799e5_row25_col1, #T_799e5_row25_col2, #T_799e5_row25_col3, #T_799e5_row25_col4, #T_799e5_row25_col5, #T_799e5_row26_col0, #T_799e5_row26_col1, #T_799e5_row26_col2, #T_799e5_row26_col3, #T_799e5_row26_col4, #T_799e5_row26_col5, #T_799e5_row27_col0, #T_799e5_row27_col1, #T_799e5_row27_col2, #T_799e5_row27_col3, #T_799e5_row27_col4, #T_799e5_row27_col5, #T_799e5_row28_col0, #T_799e5_row28_col1, #T_799e5_row28_col2, #T_799e5_row28_col3, #T_799e5_row28_col4, #T_799e5_row28_col5, #T_799e5_row29_col0, #T_799e5_row29_col1, #T_799e5_row29_col2, #T_799e5_row29_col3, #T_799e5_row29_col4, #T_799e5_row29_col5, #T_799e5_row30_col0, #T_799e5_row30_col1, #T_799e5_row30_col2, #T_799e5_row30_col3, #T_799e5_row30_col4, #T_799e5_row30_col5, #T_799e5_row31_col0, #T_799e5_row31_col1, #T_799e5_row31_col2, #T_799e5_row31_col3, #T_799e5_row31_col4, #T_799e5_row31_col5, #T_799e5_row32_col0, #T_799e5_row32_col1, #T_799e5_row32_col2, #T_799e5_row32_col3, #T_799e5_row32_col4, #T_799e5_row32_col5, #T_799e5_row33_col0, #T_799e5_row33_col1, #T_799e5_row33_col2, #T_799e5_row33_col3, #T_799e5_row33_col4, #T_799e5_row33_col5, #T_799e5_row34_col0, #T_799e5_row34_col1, #T_799e5_row34_col2, #T_799e5_row34_col3, #T_799e5_row34_col4, #T_799e5_row34_col5, #T_799e5_row35_col0, #T_799e5_row35_col1, #T_799e5_row35_col2, #T_799e5_row35_col3, #T_799e5_row35_col4, #T_799e5_row35_col5, #T_799e5_row36_col0, #T_799e5_row36_col1, #T_799e5_row36_col2, #T_799e5_row36_col3, #T_799e5_row36_col4, #T_799e5_row36_col5 {\n",
       "  text-align: left;\n",
       "}\n",
       "</style>\n",
       "<table id=\"T_799e5\">\n",
       "  <thead>\n",
       "    <tr>\n",
       "      <th class=\"blank level0\" >&nbsp;</th>\n",
       "      <th id=\"T_799e5_level0_col0\" class=\"col_heading level0 col0\" >Producto_Codigo</th>\n",
       "      <th id=\"T_799e5_level0_col1\" class=\"col_heading level0 col1\" >Producto_Nombre</th>\n",
       "      <th id=\"T_799e5_level0_col2\" class=\"col_heading level0 col2\" >Producto_Precio</th>\n",
       "      <th id=\"T_799e5_level0_col3\" class=\"col_heading level0 col3\" >Componente_Codigo</th>\n",
       "      <th id=\"T_799e5_level0_col4\" class=\"col_heading level0 col4\" >Componente_Nombre</th>\n",
       "      <th id=\"T_799e5_level0_col5\" class=\"col_heading level0 col5\" >Componente_Precio</th>\n",
       "    </tr>\n",
       "  </thead>\n",
       "  <tbody>\n",
       "    <tr>\n",
       "      <th id=\"T_799e5_level0_row0\" class=\"row_heading level0 row0\" >0</th>\n",
       "      <td id=\"T_799e5_row0_col0\" class=\"data row0 col0\" >01</td>\n",
       "      <td id=\"T_799e5_row0_col1\" class=\"data row0 col1\" >Hamburguesa</td>\n",
       "      <td id=\"T_799e5_row0_col2\" class=\"data row0 col2\" >2.600000</td>\n",
       "      <td id=\"T_799e5_row0_col3\" class=\"data row0 col3\" >None</td>\n",
       "      <td id=\"T_799e5_row0_col4\" class=\"data row0 col4\" >None</td>\n",
       "      <td id=\"T_799e5_row0_col5\" class=\"data row0 col5\" >nan</td>\n",
       "    </tr>\n",
       "    <tr>\n",
       "      <th id=\"T_799e5_level0_row1\" class=\"row_heading level0 row1\" >1</th>\n",
       "      <td id=\"T_799e5_row1_col0\" class=\"data row1 col0\" >02</td>\n",
       "      <td id=\"T_799e5_row1_col1\" class=\"data row1 col1\" >Patatas</td>\n",
       "      <td id=\"T_799e5_row1_col2\" class=\"data row1 col2\" >2.000000</td>\n",
       "      <td id=\"T_799e5_row1_col3\" class=\"data row1 col3\" >None</td>\n",
       "      <td id=\"T_799e5_row1_col4\" class=\"data row1 col4\" >None</td>\n",
       "      <td id=\"T_799e5_row1_col5\" class=\"data row1 col5\" >nan</td>\n",
       "    </tr>\n",
       "    <tr>\n",
       "      <th id=\"T_799e5_level0_row2\" class=\"row_heading level0 row2\" >2</th>\n",
       "      <td id=\"T_799e5_row2_col0\" class=\"data row2 col0\" >03</td>\n",
       "      <td id=\"T_799e5_row2_col1\" class=\"data row2 col1\" >tomate</td>\n",
       "      <td id=\"T_799e5_row2_col2\" class=\"data row2 col2\" >0.500000</td>\n",
       "      <td id=\"T_799e5_row2_col3\" class=\"data row2 col3\" >None</td>\n",
       "      <td id=\"T_799e5_row2_col4\" class=\"data row2 col4\" >None</td>\n",
       "      <td id=\"T_799e5_row2_col5\" class=\"data row2 col5\" >nan</td>\n",
       "    </tr>\n",
       "    <tr>\n",
       "      <th id=\"T_799e5_level0_row3\" class=\"row_heading level0 row3\" >3</th>\n",
       "      <td id=\"T_799e5_row3_col0\" class=\"data row3 col0\" >04</td>\n",
       "      <td id=\"T_799e5_row3_col1\" class=\"data row3 col1\" >Queso</td>\n",
       "      <td id=\"T_799e5_row3_col2\" class=\"data row3 col2\" >1.000000</td>\n",
       "      <td id=\"T_799e5_row3_col3\" class=\"data row3 col3\" >None</td>\n",
       "      <td id=\"T_799e5_row3_col4\" class=\"data row3 col4\" >None</td>\n",
       "      <td id=\"T_799e5_row3_col5\" class=\"data row3 col5\" >nan</td>\n",
       "    </tr>\n",
       "    <tr>\n",
       "      <th id=\"T_799e5_level0_row4\" class=\"row_heading level0 row4\" >4</th>\n",
       "      <td id=\"T_799e5_row4_col0\" class=\"data row4 col0\" >05</td>\n",
       "      <td id=\"T_799e5_row4_col1\" class=\"data row4 col1\" >Lechuga</td>\n",
       "      <td id=\"T_799e5_row4_col2\" class=\"data row4 col2\" >0.500000</td>\n",
       "      <td id=\"T_799e5_row4_col3\" class=\"data row4 col3\" >None</td>\n",
       "      <td id=\"T_799e5_row4_col4\" class=\"data row4 col4\" >None</td>\n",
       "      <td id=\"T_799e5_row4_col5\" class=\"data row4 col5\" >nan</td>\n",
       "    </tr>\n",
       "    <tr>\n",
       "      <th id=\"T_799e5_level0_row5\" class=\"row_heading level0 row5\" >5</th>\n",
       "      <td id=\"T_799e5_row5_col0\" class=\"data row5 col0\" >06</td>\n",
       "      <td id=\"T_799e5_row5_col1\" class=\"data row5 col1\" >Pollo</td>\n",
       "      <td id=\"T_799e5_row5_col2\" class=\"data row5 col2\" >3.600000</td>\n",
       "      <td id=\"T_799e5_row5_col3\" class=\"data row5 col3\" >None</td>\n",
       "      <td id=\"T_799e5_row5_col4\" class=\"data row5 col4\" >None</td>\n",
       "      <td id=\"T_799e5_row5_col5\" class=\"data row5 col5\" >nan</td>\n",
       "    </tr>\n",
       "    <tr>\n",
       "      <th id=\"T_799e5_level0_row6\" class=\"row_heading level0 row6\" >6</th>\n",
       "      <td id=\"T_799e5_row6_col0\" class=\"data row6 col0\" >08</td>\n",
       "      <td id=\"T_799e5_row6_col1\" class=\"data row6 col1\" >Bacon</td>\n",
       "      <td id=\"T_799e5_row6_col2\" class=\"data row6 col2\" >1.500000</td>\n",
       "      <td id=\"T_799e5_row6_col3\" class=\"data row6 col3\" >None</td>\n",
       "      <td id=\"T_799e5_row6_col4\" class=\"data row6 col4\" >None</td>\n",
       "      <td id=\"T_799e5_row6_col5\" class=\"data row6 col5\" >nan</td>\n",
       "    </tr>\n",
       "    <tr>\n",
       "      <th id=\"T_799e5_level0_row7\" class=\"row_heading level0 row7\" >7</th>\n",
       "      <td id=\"T_799e5_row7_col0\" class=\"data row7 col0\" >09</td>\n",
       "      <td id=\"T_799e5_row7_col1\" class=\"data row7 col1\" >Coca cola</td>\n",
       "      <td id=\"T_799e5_row7_col2\" class=\"data row7 col2\" >3.000000</td>\n",
       "      <td id=\"T_799e5_row7_col3\" class=\"data row7 col3\" >None</td>\n",
       "      <td id=\"T_799e5_row7_col4\" class=\"data row7 col4\" >None</td>\n",
       "      <td id=\"T_799e5_row7_col5\" class=\"data row7 col5\" >nan</td>\n",
       "    </tr>\n",
       "    <tr>\n",
       "      <th id=\"T_799e5_level0_row8\" class=\"row_heading level0 row8\" >8</th>\n",
       "      <td id=\"T_799e5_row8_col0\" class=\"data row8 col0\" >10</td>\n",
       "      <td id=\"T_799e5_row8_col1\" class=\"data row8 col1\" >Nestea</td>\n",
       "      <td id=\"T_799e5_row8_col2\" class=\"data row8 col2\" >3.000000</td>\n",
       "      <td id=\"T_799e5_row8_col3\" class=\"data row8 col3\" >None</td>\n",
       "      <td id=\"T_799e5_row8_col4\" class=\"data row8 col4\" >None</td>\n",
       "      <td id=\"T_799e5_row8_col5\" class=\"data row8 col5\" >nan</td>\n",
       "    </tr>\n",
       "    <tr>\n",
       "      <th id=\"T_799e5_level0_row9\" class=\"row_heading level0 row9\" >9</th>\n",
       "      <td id=\"T_799e5_row9_col0\" class=\"data row9 col0\" >11</td>\n",
       "      <td id=\"T_799e5_row9_col1\" class=\"data row9 col1\" >Menú de Pollo</td>\n",
       "      <td id=\"T_799e5_row9_col2\" class=\"data row9 col2\" >5.000000</td>\n",
       "      <td id=\"T_799e5_row9_col3\" class=\"data row9 col3\" >02</td>\n",
       "      <td id=\"T_799e5_row9_col4\" class=\"data row9 col4\" >Patatas</td>\n",
       "      <td id=\"T_799e5_row9_col5\" class=\"data row9 col5\" >2.000000</td>\n",
       "    </tr>\n",
       "    <tr>\n",
       "      <th id=\"T_799e5_level0_row10\" class=\"row_heading level0 row10\" >10</th>\n",
       "      <td id=\"T_799e5_row10_col0\" class=\"data row10 col0\" >11</td>\n",
       "      <td id=\"T_799e5_row10_col1\" class=\"data row10 col1\" >Menú de Pollo</td>\n",
       "      <td id=\"T_799e5_row10_col2\" class=\"data row10 col2\" >5.000000</td>\n",
       "      <td id=\"T_799e5_row10_col3\" class=\"data row10 col3\" >03</td>\n",
       "      <td id=\"T_799e5_row10_col4\" class=\"data row10 col4\" >tomate</td>\n",
       "      <td id=\"T_799e5_row10_col5\" class=\"data row10 col5\" >0.500000</td>\n",
       "    </tr>\n",
       "    <tr>\n",
       "      <th id=\"T_799e5_level0_row11\" class=\"row_heading level0 row11\" >11</th>\n",
       "      <td id=\"T_799e5_row11_col0\" class=\"data row11 col0\" >11</td>\n",
       "      <td id=\"T_799e5_row11_col1\" class=\"data row11 col1\" >Menú de Pollo</td>\n",
       "      <td id=\"T_799e5_row11_col2\" class=\"data row11 col2\" >5.000000</td>\n",
       "      <td id=\"T_799e5_row11_col3\" class=\"data row11 col3\" >06</td>\n",
       "      <td id=\"T_799e5_row11_col4\" class=\"data row11 col4\" >Pollo</td>\n",
       "      <td id=\"T_799e5_row11_col5\" class=\"data row11 col5\" >3.600000</td>\n",
       "    </tr>\n",
       "    <tr>\n",
       "      <th id=\"T_799e5_level0_row12\" class=\"row_heading level0 row12\" >12</th>\n",
       "      <td id=\"T_799e5_row12_col0\" class=\"data row12 col0\" >11</td>\n",
       "      <td id=\"T_799e5_row12_col1\" class=\"data row12 col1\" >Menú de Pollo</td>\n",
       "      <td id=\"T_799e5_row12_col2\" class=\"data row12 col2\" >5.000000</td>\n",
       "      <td id=\"T_799e5_row12_col3\" class=\"data row12 col3\" >17</td>\n",
       "      <td id=\"T_799e5_row12_col4\" class=\"data row12 col4\" >Fruta</td>\n",
       "      <td id=\"T_799e5_row12_col5\" class=\"data row12 col5\" >1.000000</td>\n",
       "    </tr>\n",
       "    <tr>\n",
       "      <th id=\"T_799e5_level0_row13\" class=\"row_heading level0 row13\" >13</th>\n",
       "      <td id=\"T_799e5_row13_col0\" class=\"data row13 col0\" >11</td>\n",
       "      <td id=\"T_799e5_row13_col1\" class=\"data row13 col1\" >Menú de Pollo</td>\n",
       "      <td id=\"T_799e5_row13_col2\" class=\"data row13 col2\" >5.000000</td>\n",
       "      <td id=\"T_799e5_row13_col3\" class=\"data row13 col3\" >18</td>\n",
       "      <td id=\"T_799e5_row13_col4\" class=\"data row13 col4\" >Agua</td>\n",
       "      <td id=\"T_799e5_row13_col5\" class=\"data row13 col5\" >2.000000</td>\n",
       "    </tr>\n",
       "    <tr>\n",
       "      <th id=\"T_799e5_level0_row14\" class=\"row_heading level0 row14\" >14</th>\n",
       "      <td id=\"T_799e5_row14_col0\" class=\"data row14 col0\" >12</td>\n",
       "      <td id=\"T_799e5_row14_col1\" class=\"data row14 col1\" >Menú de Hamburguesa con queso</td>\n",
       "      <td id=\"T_799e5_row14_col2\" class=\"data row14 col2\" >6.000000</td>\n",
       "      <td id=\"T_799e5_row14_col3\" class=\"data row14 col3\" >01</td>\n",
       "      <td id=\"T_799e5_row14_col4\" class=\"data row14 col4\" >Hamburguesa</td>\n",
       "      <td id=\"T_799e5_row14_col5\" class=\"data row14 col5\" >2.600000</td>\n",
       "    </tr>\n",
       "    <tr>\n",
       "      <th id=\"T_799e5_level0_row15\" class=\"row_heading level0 row15\" >15</th>\n",
       "      <td id=\"T_799e5_row15_col0\" class=\"data row15 col0\" >12</td>\n",
       "      <td id=\"T_799e5_row15_col1\" class=\"data row15 col1\" >Menú de Hamburguesa con queso</td>\n",
       "      <td id=\"T_799e5_row15_col2\" class=\"data row15 col2\" >6.000000</td>\n",
       "      <td id=\"T_799e5_row15_col3\" class=\"data row15 col3\" >02</td>\n",
       "      <td id=\"T_799e5_row15_col4\" class=\"data row15 col4\" >Patatas</td>\n",
       "      <td id=\"T_799e5_row15_col5\" class=\"data row15 col5\" >2.000000</td>\n",
       "    </tr>\n",
       "    <tr>\n",
       "      <th id=\"T_799e5_level0_row16\" class=\"row_heading level0 row16\" >16</th>\n",
       "      <td id=\"T_799e5_row16_col0\" class=\"data row16 col0\" >12</td>\n",
       "      <td id=\"T_799e5_row16_col1\" class=\"data row16 col1\" >Menú de Hamburguesa con queso</td>\n",
       "      <td id=\"T_799e5_row16_col2\" class=\"data row16 col2\" >6.000000</td>\n",
       "      <td id=\"T_799e5_row16_col3\" class=\"data row16 col3\" >04</td>\n",
       "      <td id=\"T_799e5_row16_col4\" class=\"data row16 col4\" >Queso</td>\n",
       "      <td id=\"T_799e5_row16_col5\" class=\"data row16 col5\" >1.000000</td>\n",
       "    </tr>\n",
       "    <tr>\n",
       "      <th id=\"T_799e5_level0_row17\" class=\"row_heading level0 row17\" >17</th>\n",
       "      <td id=\"T_799e5_row17_col0\" class=\"data row17 col0\" >12</td>\n",
       "      <td id=\"T_799e5_row17_col1\" class=\"data row17 col1\" >Menú de Hamburguesa con queso</td>\n",
       "      <td id=\"T_799e5_row17_col2\" class=\"data row17 col2\" >6.000000</td>\n",
       "      <td id=\"T_799e5_row17_col3\" class=\"data row17 col3\" >10</td>\n",
       "      <td id=\"T_799e5_row17_col4\" class=\"data row17 col4\" >Nestea</td>\n",
       "      <td id=\"T_799e5_row17_col5\" class=\"data row17 col5\" >3.000000</td>\n",
       "    </tr>\n",
       "    <tr>\n",
       "      <th id=\"T_799e5_level0_row18\" class=\"row_heading level0 row18\" >18</th>\n",
       "      <td id=\"T_799e5_row18_col0\" class=\"data row18 col0\" >12</td>\n",
       "      <td id=\"T_799e5_row18_col1\" class=\"data row18 col1\" >Menú de Hamburguesa con queso</td>\n",
       "      <td id=\"T_799e5_row18_col2\" class=\"data row18 col2\" >6.000000</td>\n",
       "      <td id=\"T_799e5_row18_col3\" class=\"data row18 col3\" >16</td>\n",
       "      <td id=\"T_799e5_row18_col4\" class=\"data row18 col4\" >Tarta</td>\n",
       "      <td id=\"T_799e5_row18_col5\" class=\"data row18 col5\" >2.000000</td>\n",
       "    </tr>\n",
       "    <tr>\n",
       "      <th id=\"T_799e5_level0_row19\" class=\"row_heading level0 row19\" >19</th>\n",
       "      <td id=\"T_799e5_row19_col0\" class=\"data row19 col0\" >13</td>\n",
       "      <td id=\"T_799e5_row19_col1\" class=\"data row19 col1\" >Menú de Pollo con queso</td>\n",
       "      <td id=\"T_799e5_row19_col2\" class=\"data row19 col2\" >6.000000</td>\n",
       "      <td id=\"T_799e5_row19_col3\" class=\"data row19 col3\" >02</td>\n",
       "      <td id=\"T_799e5_row19_col4\" class=\"data row19 col4\" >Patatas</td>\n",
       "      <td id=\"T_799e5_row19_col5\" class=\"data row19 col5\" >2.000000</td>\n",
       "    </tr>\n",
       "    <tr>\n",
       "      <th id=\"T_799e5_level0_row20\" class=\"row_heading level0 row20\" >20</th>\n",
       "      <td id=\"T_799e5_row20_col0\" class=\"data row20 col0\" >13</td>\n",
       "      <td id=\"T_799e5_row20_col1\" class=\"data row20 col1\" >Menú de Pollo con queso</td>\n",
       "      <td id=\"T_799e5_row20_col2\" class=\"data row20 col2\" >6.000000</td>\n",
       "      <td id=\"T_799e5_row20_col3\" class=\"data row20 col3\" >04</td>\n",
       "      <td id=\"T_799e5_row20_col4\" class=\"data row20 col4\" >Queso</td>\n",
       "      <td id=\"T_799e5_row20_col5\" class=\"data row20 col5\" >1.000000</td>\n",
       "    </tr>\n",
       "    <tr>\n",
       "      <th id=\"T_799e5_level0_row21\" class=\"row_heading level0 row21\" >21</th>\n",
       "      <td id=\"T_799e5_row21_col0\" class=\"data row21 col0\" >13</td>\n",
       "      <td id=\"T_799e5_row21_col1\" class=\"data row21 col1\" >Menú de Pollo con queso</td>\n",
       "      <td id=\"T_799e5_row21_col2\" class=\"data row21 col2\" >6.000000</td>\n",
       "      <td id=\"T_799e5_row21_col3\" class=\"data row21 col3\" >06</td>\n",
       "      <td id=\"T_799e5_row21_col4\" class=\"data row21 col4\" >Pollo</td>\n",
       "      <td id=\"T_799e5_row21_col5\" class=\"data row21 col5\" >3.600000</td>\n",
       "    </tr>\n",
       "    <tr>\n",
       "      <th id=\"T_799e5_level0_row22\" class=\"row_heading level0 row22\" >22</th>\n",
       "      <td id=\"T_799e5_row22_col0\" class=\"data row22 col0\" >13</td>\n",
       "      <td id=\"T_799e5_row22_col1\" class=\"data row22 col1\" >Menú de Pollo con queso</td>\n",
       "      <td id=\"T_799e5_row22_col2\" class=\"data row22 col2\" >6.000000</td>\n",
       "      <td id=\"T_799e5_row22_col3\" class=\"data row22 col3\" >08</td>\n",
       "      <td id=\"T_799e5_row22_col4\" class=\"data row22 col4\" >Bacon</td>\n",
       "      <td id=\"T_799e5_row22_col5\" class=\"data row22 col5\" >1.500000</td>\n",
       "    </tr>\n",
       "    <tr>\n",
       "      <th id=\"T_799e5_level0_row23\" class=\"row_heading level0 row23\" >23</th>\n",
       "      <td id=\"T_799e5_row23_col0\" class=\"data row23 col0\" >13</td>\n",
       "      <td id=\"T_799e5_row23_col1\" class=\"data row23 col1\" >Menú de Pollo con queso</td>\n",
       "      <td id=\"T_799e5_row23_col2\" class=\"data row23 col2\" >6.000000</td>\n",
       "      <td id=\"T_799e5_row23_col3\" class=\"data row23 col3\" >09</td>\n",
       "      <td id=\"T_799e5_row23_col4\" class=\"data row23 col4\" >Coca cola</td>\n",
       "      <td id=\"T_799e5_row23_col5\" class=\"data row23 col5\" >3.000000</td>\n",
       "    </tr>\n",
       "    <tr>\n",
       "      <th id=\"T_799e5_level0_row24\" class=\"row_heading level0 row24\" >24</th>\n",
       "      <td id=\"T_799e5_row24_col0\" class=\"data row24 col0\" >13</td>\n",
       "      <td id=\"T_799e5_row24_col1\" class=\"data row24 col1\" >Menú de Pollo con queso</td>\n",
       "      <td id=\"T_799e5_row24_col2\" class=\"data row24 col2\" >6.000000</td>\n",
       "      <td id=\"T_799e5_row24_col3\" class=\"data row24 col3\" >15</td>\n",
       "      <td id=\"T_799e5_row24_col4\" class=\"data row24 col4\" >Helado</td>\n",
       "      <td id=\"T_799e5_row24_col5\" class=\"data row24 col5\" >1.000000</td>\n",
       "    </tr>\n",
       "    <tr>\n",
       "      <th id=\"T_799e5_level0_row25\" class=\"row_heading level0 row25\" >25</th>\n",
       "      <td id=\"T_799e5_row25_col0\" class=\"data row25 col0\" >14</td>\n",
       "      <td id=\"T_799e5_row25_col1\" class=\"data row25 col1\" >Menú de Hamburguesa</td>\n",
       "      <td id=\"T_799e5_row25_col2\" class=\"data row25 col2\" >6.000000</td>\n",
       "      <td id=\"T_799e5_row25_col3\" class=\"data row25 col3\" >01</td>\n",
       "      <td id=\"T_799e5_row25_col4\" class=\"data row25 col4\" >Hamburguesa</td>\n",
       "      <td id=\"T_799e5_row25_col5\" class=\"data row25 col5\" >2.600000</td>\n",
       "    </tr>\n",
       "    <tr>\n",
       "      <th id=\"T_799e5_level0_row26\" class=\"row_heading level0 row26\" >26</th>\n",
       "      <td id=\"T_799e5_row26_col0\" class=\"data row26 col0\" >14</td>\n",
       "      <td id=\"T_799e5_row26_col1\" class=\"data row26 col1\" >Menú de Hamburguesa</td>\n",
       "      <td id=\"T_799e5_row26_col2\" class=\"data row26 col2\" >6.000000</td>\n",
       "      <td id=\"T_799e5_row26_col3\" class=\"data row26 col3\" >02</td>\n",
       "      <td id=\"T_799e5_row26_col4\" class=\"data row26 col4\" >Patatas</td>\n",
       "      <td id=\"T_799e5_row26_col5\" class=\"data row26 col5\" >2.000000</td>\n",
       "    </tr>\n",
       "    <tr>\n",
       "      <th id=\"T_799e5_level0_row27\" class=\"row_heading level0 row27\" >27</th>\n",
       "      <td id=\"T_799e5_row27_col0\" class=\"data row27 col0\" >14</td>\n",
       "      <td id=\"T_799e5_row27_col1\" class=\"data row27 col1\" >Menú de Hamburguesa</td>\n",
       "      <td id=\"T_799e5_row27_col2\" class=\"data row27 col2\" >6.000000</td>\n",
       "      <td id=\"T_799e5_row27_col3\" class=\"data row27 col3\" >03</td>\n",
       "      <td id=\"T_799e5_row27_col4\" class=\"data row27 col4\" >tomate</td>\n",
       "      <td id=\"T_799e5_row27_col5\" class=\"data row27 col5\" >0.500000</td>\n",
       "    </tr>\n",
       "    <tr>\n",
       "      <th id=\"T_799e5_level0_row28\" class=\"row_heading level0 row28\" >28</th>\n",
       "      <td id=\"T_799e5_row28_col0\" class=\"data row28 col0\" >14</td>\n",
       "      <td id=\"T_799e5_row28_col1\" class=\"data row28 col1\" >Menú de Hamburguesa</td>\n",
       "      <td id=\"T_799e5_row28_col2\" class=\"data row28 col2\" >6.000000</td>\n",
       "      <td id=\"T_799e5_row28_col3\" class=\"data row28 col3\" >05</td>\n",
       "      <td id=\"T_799e5_row28_col4\" class=\"data row28 col4\" >Lechuga</td>\n",
       "      <td id=\"T_799e5_row28_col5\" class=\"data row28 col5\" >0.500000</td>\n",
       "    </tr>\n",
       "    <tr>\n",
       "      <th id=\"T_799e5_level0_row29\" class=\"row_heading level0 row29\" >29</th>\n",
       "      <td id=\"T_799e5_row29_col0\" class=\"data row29 col0\" >14</td>\n",
       "      <td id=\"T_799e5_row29_col1\" class=\"data row29 col1\" >Menú de Hamburguesa</td>\n",
       "      <td id=\"T_799e5_row29_col2\" class=\"data row29 col2\" >6.000000</td>\n",
       "      <td id=\"T_799e5_row29_col3\" class=\"data row29 col3\" >08</td>\n",
       "      <td id=\"T_799e5_row29_col4\" class=\"data row29 col4\" >Bacon</td>\n",
       "      <td id=\"T_799e5_row29_col5\" class=\"data row29 col5\" >1.500000</td>\n",
       "    </tr>\n",
       "    <tr>\n",
       "      <th id=\"T_799e5_level0_row30\" class=\"row_heading level0 row30\" >30</th>\n",
       "      <td id=\"T_799e5_row30_col0\" class=\"data row30 col0\" >14</td>\n",
       "      <td id=\"T_799e5_row30_col1\" class=\"data row30 col1\" >Menú de Hamburguesa</td>\n",
       "      <td id=\"T_799e5_row30_col2\" class=\"data row30 col2\" >6.000000</td>\n",
       "      <td id=\"T_799e5_row30_col3\" class=\"data row30 col3\" >09</td>\n",
       "      <td id=\"T_799e5_row30_col4\" class=\"data row30 col4\" >Coca cola</td>\n",
       "      <td id=\"T_799e5_row30_col5\" class=\"data row30 col5\" >3.000000</td>\n",
       "    </tr>\n",
       "    <tr>\n",
       "      <th id=\"T_799e5_level0_row31\" class=\"row_heading level0 row31\" >31</th>\n",
       "      <td id=\"T_799e5_row31_col0\" class=\"data row31 col0\" >14</td>\n",
       "      <td id=\"T_799e5_row31_col1\" class=\"data row31 col1\" >Menú de Hamburguesa</td>\n",
       "      <td id=\"T_799e5_row31_col2\" class=\"data row31 col2\" >6.000000</td>\n",
       "      <td id=\"T_799e5_row31_col3\" class=\"data row31 col3\" >15</td>\n",
       "      <td id=\"T_799e5_row31_col4\" class=\"data row31 col4\" >Helado</td>\n",
       "      <td id=\"T_799e5_row31_col5\" class=\"data row31 col5\" >1.000000</td>\n",
       "    </tr>\n",
       "    <tr>\n",
       "      <th id=\"T_799e5_level0_row32\" class=\"row_heading level0 row32\" >32</th>\n",
       "      <td id=\"T_799e5_row32_col0\" class=\"data row32 col0\" >15</td>\n",
       "      <td id=\"T_799e5_row32_col1\" class=\"data row32 col1\" >Helado</td>\n",
       "      <td id=\"T_799e5_row32_col2\" class=\"data row32 col2\" >1.000000</td>\n",
       "      <td id=\"T_799e5_row32_col3\" class=\"data row32 col3\" >None</td>\n",
       "      <td id=\"T_799e5_row32_col4\" class=\"data row32 col4\" >None</td>\n",
       "      <td id=\"T_799e5_row32_col5\" class=\"data row32 col5\" >nan</td>\n",
       "    </tr>\n",
       "    <tr>\n",
       "      <th id=\"T_799e5_level0_row33\" class=\"row_heading level0 row33\" >33</th>\n",
       "      <td id=\"T_799e5_row33_col0\" class=\"data row33 col0\" >16</td>\n",
       "      <td id=\"T_799e5_row33_col1\" class=\"data row33 col1\" >Tarta</td>\n",
       "      <td id=\"T_799e5_row33_col2\" class=\"data row33 col2\" >2.000000</td>\n",
       "      <td id=\"T_799e5_row33_col3\" class=\"data row33 col3\" >None</td>\n",
       "      <td id=\"T_799e5_row33_col4\" class=\"data row33 col4\" >None</td>\n",
       "      <td id=\"T_799e5_row33_col5\" class=\"data row33 col5\" >nan</td>\n",
       "    </tr>\n",
       "    <tr>\n",
       "      <th id=\"T_799e5_level0_row34\" class=\"row_heading level0 row34\" >34</th>\n",
       "      <td id=\"T_799e5_row34_col0\" class=\"data row34 col0\" >17</td>\n",
       "      <td id=\"T_799e5_row34_col1\" class=\"data row34 col1\" >Fruta</td>\n",
       "      <td id=\"T_799e5_row34_col2\" class=\"data row34 col2\" >1.000000</td>\n",
       "      <td id=\"T_799e5_row34_col3\" class=\"data row34 col3\" >None</td>\n",
       "      <td id=\"T_799e5_row34_col4\" class=\"data row34 col4\" >None</td>\n",
       "      <td id=\"T_799e5_row34_col5\" class=\"data row34 col5\" >nan</td>\n",
       "    </tr>\n",
       "    <tr>\n",
       "      <th id=\"T_799e5_level0_row35\" class=\"row_heading level0 row35\" >35</th>\n",
       "      <td id=\"T_799e5_row35_col0\" class=\"data row35 col0\" >18</td>\n",
       "      <td id=\"T_799e5_row35_col1\" class=\"data row35 col1\" >Agua</td>\n",
       "      <td id=\"T_799e5_row35_col2\" class=\"data row35 col2\" >2.000000</td>\n",
       "      <td id=\"T_799e5_row35_col3\" class=\"data row35 col3\" >None</td>\n",
       "      <td id=\"T_799e5_row35_col4\" class=\"data row35 col4\" >None</td>\n",
       "      <td id=\"T_799e5_row35_col5\" class=\"data row35 col5\" >nan</td>\n",
       "    </tr>\n",
       "    <tr>\n",
       "      <th id=\"T_799e5_level0_row36\" class=\"row_heading level0 row36\" >36</th>\n",
       "      <td id=\"T_799e5_row36_col0\" class=\"data row36 col0\" >19</td>\n",
       "      <td id=\"T_799e5_row36_col1\" class=\"data row36 col1\" >Fanta</td>\n",
       "      <td id=\"T_799e5_row36_col2\" class=\"data row36 col2\" >3.000000</td>\n",
       "      <td id=\"T_799e5_row36_col3\" class=\"data row36 col3\" >None</td>\n",
       "      <td id=\"T_799e5_row36_col4\" class=\"data row36 col4\" >None</td>\n",
       "      <td id=\"T_799e5_row36_col5\" class=\"data row36 col5\" >nan</td>\n",
       "    </tr>\n",
       "  </tbody>\n",
       "</table>\n"
      ],
      "text/plain": [
       "<pandas.io.formats.style.Styler at 0x2862230ca50>"
      ]
     },
     "execution_count": 111,
     "metadata": {},
     "output_type": "execute_result"
    }
   ],
   "source": [
    "df11 = pd.read_sql(query11, connection)\n",
    "left_align(df11)"
   ]
  },
  {
   "cell_type": "code",
   "execution_count": 112,
   "metadata": {},
   "outputs": [],
   "source": [
    "df11.to_csv('csvs\\consulta11.csv', index=False)"
   ]
  },
  {
   "cell_type": "markdown",
   "metadata": {},
   "source": [
    "### 12. Obtener el importe total de todos los pedidos."
   ]
  },
  {
   "cell_type": "code",
   "execution_count": 90,
   "metadata": {},
   "outputs": [
    {
     "data": {
      "text/plain": [
       "[(234.0,)]"
      ]
     },
     "execution_count": 90,
     "metadata": {},
     "output_type": "execute_result"
    }
   ],
   "source": [
    "connection = mysql.connector.connect(host=' ', database='  ', user='   ', password='    ', connection_timeout= )\n",
    "cursor = connection.cursor()\n",
    "query12 = '''SELECT SUM(importe) FROM PEDIDO;'''\n",
    "cursor.execute(query12)\n",
    "cursor.fetchall()"
   ]
  },
  {
   "cell_type": "code",
   "execution_count": 91,
   "metadata": {},
   "outputs": [
    {
     "name": "stderr",
     "output_type": "stream",
     "text": [
      "C:\\Users\\Usuario\\AppData\\Local\\Temp\\ipykernel_111492\\658907531.py:1: UserWarning: pandas only supports SQLAlchemy connectable (engine/connection) or database string URI or sqlite3 DBAPI2 connection. Other DBAPI2 objects are not tested. Please consider using SQLAlchemy.\n",
      "  df12 = pd.read_sql(query12, connection)\n"
     ]
    },
    {
     "data": {
      "text/html": [
       "<style type=\"text/css\">\n",
       "#T_09930 th {\n",
       "  text-align: left;\n",
       "}\n",
       "#T_09930_row0_col0 {\n",
       "  text-align: left;\n",
       "}\n",
       "</style>\n",
       "<table id=\"T_09930\">\n",
       "  <thead>\n",
       "    <tr>\n",
       "      <th class=\"blank level0\" >&nbsp;</th>\n",
       "      <th id=\"T_09930_level0_col0\" class=\"col_heading level0 col0\" >SUM(importe)</th>\n",
       "    </tr>\n",
       "  </thead>\n",
       "  <tbody>\n",
       "    <tr>\n",
       "      <th id=\"T_09930_level0_row0\" class=\"row_heading level0 row0\" >0</th>\n",
       "      <td id=\"T_09930_row0_col0\" class=\"data row0 col0\" >234.000000</td>\n",
       "    </tr>\n",
       "  </tbody>\n",
       "</table>\n"
      ],
      "text/plain": [
       "<pandas.io.formats.style.Styler at 0x28622233090>"
      ]
     },
     "execution_count": 91,
     "metadata": {},
     "output_type": "execute_result"
    }
   ],
   "source": [
    "df12 = pd.read_sql(query12, connection)\n",
    "left_align(df12)"
   ]
  },
  {
   "cell_type": "code",
   "execution_count": 92,
   "metadata": {},
   "outputs": [],
   "source": [
    "df12.to_csv('csvs\\consulta12.csv', index=False)"
   ]
  },
  {
   "cell_type": "markdown",
   "metadata": {},
   "source": [
    "### 13. Mostrar los empleados que no son repartidores."
   ]
  },
  {
   "cell_type": "code",
   "execution_count": 93,
   "metadata": {},
   "outputs": [
    {
     "data": {
      "text/plain": [
       "[('María Luisa Galdón Ter',),\n",
       " ('Úrsula Delta Camacho',),\n",
       " ('Luis Ramírez Pardo',),\n",
       " ('Sergio Lérida Campos',),\n",
       " ('Piedad Colmenero Zapillo',),\n",
       " ('María Sánchez Cid',),\n",
       " ('Martín Guerrero López',),\n",
       " ('Carmen Hernández Pío',),\n",
       " ('Pedro Jiménez Ruiz',),\n",
       " ('Soledad Campillo Molina',),\n",
       " ('Raúl Rodrigo Roca',)]"
      ]
     },
     "execution_count": 93,
     "metadata": {},
     "output_type": "execute_result"
    }
   ],
   "source": [
    "connection = mysql.connector.connect(host=' ', database='  ', user='   ', password='    ', connection_timeout= )\n",
    "cursor = connection.cursor()\n",
    "query13 = '''SELECT nombre FROM EMPLEADO;'''\n",
    "cursor.execute(query13)\n",
    "cursor.fetchall()"
   ]
  },
  {
   "cell_type": "code",
   "execution_count": 94,
   "metadata": {},
   "outputs": [
    {
     "name": "stderr",
     "output_type": "stream",
     "text": [
      "C:\\Users\\Usuario\\AppData\\Local\\Temp\\ipykernel_111492\\3883311498.py:1: UserWarning: pandas only supports SQLAlchemy connectable (engine/connection) or database string URI or sqlite3 DBAPI2 connection. Other DBAPI2 objects are not tested. Please consider using SQLAlchemy.\n",
      "  df13 = pd.read_sql(query13, connection)\n"
     ]
    },
    {
     "data": {
      "text/html": [
       "<style type=\"text/css\">\n",
       "#T_fadf6 th {\n",
       "  text-align: left;\n",
       "}\n",
       "#T_fadf6_row0_col0, #T_fadf6_row1_col0, #T_fadf6_row2_col0, #T_fadf6_row3_col0, #T_fadf6_row4_col0, #T_fadf6_row5_col0, #T_fadf6_row6_col0, #T_fadf6_row7_col0, #T_fadf6_row8_col0, #T_fadf6_row9_col0, #T_fadf6_row10_col0 {\n",
       "  text-align: left;\n",
       "}\n",
       "</style>\n",
       "<table id=\"T_fadf6\">\n",
       "  <thead>\n",
       "    <tr>\n",
       "      <th class=\"blank level0\" >&nbsp;</th>\n",
       "      <th id=\"T_fadf6_level0_col0\" class=\"col_heading level0 col0\" >nombre</th>\n",
       "    </tr>\n",
       "  </thead>\n",
       "  <tbody>\n",
       "    <tr>\n",
       "      <th id=\"T_fadf6_level0_row0\" class=\"row_heading level0 row0\" >0</th>\n",
       "      <td id=\"T_fadf6_row0_col0\" class=\"data row0 col0\" >María Luisa Galdón Ter</td>\n",
       "    </tr>\n",
       "    <tr>\n",
       "      <th id=\"T_fadf6_level0_row1\" class=\"row_heading level0 row1\" >1</th>\n",
       "      <td id=\"T_fadf6_row1_col0\" class=\"data row1 col0\" >Úrsula Delta Camacho</td>\n",
       "    </tr>\n",
       "    <tr>\n",
       "      <th id=\"T_fadf6_level0_row2\" class=\"row_heading level0 row2\" >2</th>\n",
       "      <td id=\"T_fadf6_row2_col0\" class=\"data row2 col0\" >Luis Ramírez Pardo</td>\n",
       "    </tr>\n",
       "    <tr>\n",
       "      <th id=\"T_fadf6_level0_row3\" class=\"row_heading level0 row3\" >3</th>\n",
       "      <td id=\"T_fadf6_row3_col0\" class=\"data row3 col0\" >Sergio Lérida Campos</td>\n",
       "    </tr>\n",
       "    <tr>\n",
       "      <th id=\"T_fadf6_level0_row4\" class=\"row_heading level0 row4\" >4</th>\n",
       "      <td id=\"T_fadf6_row4_col0\" class=\"data row4 col0\" >Piedad Colmenero Zapillo</td>\n",
       "    </tr>\n",
       "    <tr>\n",
       "      <th id=\"T_fadf6_level0_row5\" class=\"row_heading level0 row5\" >5</th>\n",
       "      <td id=\"T_fadf6_row5_col0\" class=\"data row5 col0\" >María Sánchez Cid</td>\n",
       "    </tr>\n",
       "    <tr>\n",
       "      <th id=\"T_fadf6_level0_row6\" class=\"row_heading level0 row6\" >6</th>\n",
       "      <td id=\"T_fadf6_row6_col0\" class=\"data row6 col0\" >Martín Guerrero López</td>\n",
       "    </tr>\n",
       "    <tr>\n",
       "      <th id=\"T_fadf6_level0_row7\" class=\"row_heading level0 row7\" >7</th>\n",
       "      <td id=\"T_fadf6_row7_col0\" class=\"data row7 col0\" >Carmen Hernández Pío</td>\n",
       "    </tr>\n",
       "    <tr>\n",
       "      <th id=\"T_fadf6_level0_row8\" class=\"row_heading level0 row8\" >8</th>\n",
       "      <td id=\"T_fadf6_row8_col0\" class=\"data row8 col0\" >Pedro Jiménez Ruiz</td>\n",
       "    </tr>\n",
       "    <tr>\n",
       "      <th id=\"T_fadf6_level0_row9\" class=\"row_heading level0 row9\" >9</th>\n",
       "      <td id=\"T_fadf6_row9_col0\" class=\"data row9 col0\" >Soledad Campillo Molina</td>\n",
       "    </tr>\n",
       "    <tr>\n",
       "      <th id=\"T_fadf6_level0_row10\" class=\"row_heading level0 row10\" >10</th>\n",
       "      <td id=\"T_fadf6_row10_col0\" class=\"data row10 col0\" >Raúl Rodrigo Roca</td>\n",
       "    </tr>\n",
       "  </tbody>\n",
       "</table>\n"
      ],
      "text/plain": [
       "<pandas.io.formats.style.Styler at 0x2862227b090>"
      ]
     },
     "execution_count": 94,
     "metadata": {},
     "output_type": "execute_result"
    }
   ],
   "source": [
    "df13 = pd.read_sql(query13, connection)\n",
    "left_align(df13)"
   ]
  },
  {
   "cell_type": "code",
   "execution_count": 95,
   "metadata": {},
   "outputs": [],
   "source": [
    "df13.to_csv('csvs\\consulta13.csv', index=False)"
   ]
  },
  {
   "cell_type": "markdown",
   "metadata": {},
   "source": [
    "### 14. Listar los pedidos junto con el nombre del empleado que tomó el pedido."
   ]
  },
  {
   "cell_type": "code",
   "execution_count": 96,
   "metadata": {},
   "outputs": [
    {
     "data": {
      "text/plain": [
       "[('0005', 'María Luisa Galdón Ter'),\n",
       " ('0001', 'Úrsula Delta Camacho'),\n",
       " ('0010', 'Piedad Colmenero Zapillo'),\n",
       " ('0011', 'Piedad Colmenero Zapillo'),\n",
       " ('0003', 'María Sánchez Cid'),\n",
       " ('0008', 'Martín Guerrero López'),\n",
       " ('0009', 'Carmen Hernández Pío'),\n",
       " ('0002', 'Pedro Jiménez Ruiz'),\n",
       " ('0004', 'Pedro Jiménez Ruiz'),\n",
       " ('0006', 'Soledad Campillo Molina'),\n",
       " ('0007', 'Soledad Campillo Molina')]"
      ]
     },
     "execution_count": 96,
     "metadata": {},
     "output_type": "execute_result"
    }
   ],
   "source": [
    "connection = mysql.connector.connect(host=' ', database='  ', user='   ', password='    ', connection_timeout= )\n",
    "cursor = connection.cursor()\n",
    "query14 = '''SELECT p.numero, e.nombre\n",
    "FROM PEDIDO AS p\n",
    "INNER JOIN EMPLEADO AS e ON p.DNI_EP = e.DNI;'''\n",
    "cursor.execute(query14)\n",
    "cursor.fetchall()"
   ]
  },
  {
   "cell_type": "code",
   "execution_count": 97,
   "metadata": {},
   "outputs": [
    {
     "name": "stderr",
     "output_type": "stream",
     "text": [
      "C:\\Users\\Usuario\\AppData\\Local\\Temp\\ipykernel_111492\\2416693713.py:1: UserWarning: pandas only supports SQLAlchemy connectable (engine/connection) or database string URI or sqlite3 DBAPI2 connection. Other DBAPI2 objects are not tested. Please consider using SQLAlchemy.\n",
      "  df14 = pd.read_sql(query14, connection)\n"
     ]
    },
    {
     "data": {
      "text/html": [
       "<style type=\"text/css\">\n",
       "#T_0321d th {\n",
       "  text-align: left;\n",
       "}\n",
       "#T_0321d_row0_col0, #T_0321d_row0_col1, #T_0321d_row1_col0, #T_0321d_row1_col1, #T_0321d_row2_col0, #T_0321d_row2_col1, #T_0321d_row3_col0, #T_0321d_row3_col1, #T_0321d_row4_col0, #T_0321d_row4_col1, #T_0321d_row5_col0, #T_0321d_row5_col1, #T_0321d_row6_col0, #T_0321d_row6_col1, #T_0321d_row7_col0, #T_0321d_row7_col1, #T_0321d_row8_col0, #T_0321d_row8_col1, #T_0321d_row9_col0, #T_0321d_row9_col1, #T_0321d_row10_col0, #T_0321d_row10_col1 {\n",
       "  text-align: left;\n",
       "}\n",
       "</style>\n",
       "<table id=\"T_0321d\">\n",
       "  <thead>\n",
       "    <tr>\n",
       "      <th class=\"blank level0\" >&nbsp;</th>\n",
       "      <th id=\"T_0321d_level0_col0\" class=\"col_heading level0 col0\" >numero</th>\n",
       "      <th id=\"T_0321d_level0_col1\" class=\"col_heading level0 col1\" >nombre</th>\n",
       "    </tr>\n",
       "  </thead>\n",
       "  <tbody>\n",
       "    <tr>\n",
       "      <th id=\"T_0321d_level0_row0\" class=\"row_heading level0 row0\" >0</th>\n",
       "      <td id=\"T_0321d_row0_col0\" class=\"data row0 col0\" >0005</td>\n",
       "      <td id=\"T_0321d_row0_col1\" class=\"data row0 col1\" >María Luisa Galdón Ter</td>\n",
       "    </tr>\n",
       "    <tr>\n",
       "      <th id=\"T_0321d_level0_row1\" class=\"row_heading level0 row1\" >1</th>\n",
       "      <td id=\"T_0321d_row1_col0\" class=\"data row1 col0\" >0001</td>\n",
       "      <td id=\"T_0321d_row1_col1\" class=\"data row1 col1\" >Úrsula Delta Camacho</td>\n",
       "    </tr>\n",
       "    <tr>\n",
       "      <th id=\"T_0321d_level0_row2\" class=\"row_heading level0 row2\" >2</th>\n",
       "      <td id=\"T_0321d_row2_col0\" class=\"data row2 col0\" >0010</td>\n",
       "      <td id=\"T_0321d_row2_col1\" class=\"data row2 col1\" >Piedad Colmenero Zapillo</td>\n",
       "    </tr>\n",
       "    <tr>\n",
       "      <th id=\"T_0321d_level0_row3\" class=\"row_heading level0 row3\" >3</th>\n",
       "      <td id=\"T_0321d_row3_col0\" class=\"data row3 col0\" >0011</td>\n",
       "      <td id=\"T_0321d_row3_col1\" class=\"data row3 col1\" >Piedad Colmenero Zapillo</td>\n",
       "    </tr>\n",
       "    <tr>\n",
       "      <th id=\"T_0321d_level0_row4\" class=\"row_heading level0 row4\" >4</th>\n",
       "      <td id=\"T_0321d_row4_col0\" class=\"data row4 col0\" >0003</td>\n",
       "      <td id=\"T_0321d_row4_col1\" class=\"data row4 col1\" >María Sánchez Cid</td>\n",
       "    </tr>\n",
       "    <tr>\n",
       "      <th id=\"T_0321d_level0_row5\" class=\"row_heading level0 row5\" >5</th>\n",
       "      <td id=\"T_0321d_row5_col0\" class=\"data row5 col0\" >0008</td>\n",
       "      <td id=\"T_0321d_row5_col1\" class=\"data row5 col1\" >Martín Guerrero López</td>\n",
       "    </tr>\n",
       "    <tr>\n",
       "      <th id=\"T_0321d_level0_row6\" class=\"row_heading level0 row6\" >6</th>\n",
       "      <td id=\"T_0321d_row6_col0\" class=\"data row6 col0\" >0009</td>\n",
       "      <td id=\"T_0321d_row6_col1\" class=\"data row6 col1\" >Carmen Hernández Pío</td>\n",
       "    </tr>\n",
       "    <tr>\n",
       "      <th id=\"T_0321d_level0_row7\" class=\"row_heading level0 row7\" >7</th>\n",
       "      <td id=\"T_0321d_row7_col0\" class=\"data row7 col0\" >0002</td>\n",
       "      <td id=\"T_0321d_row7_col1\" class=\"data row7 col1\" >Pedro Jiménez Ruiz</td>\n",
       "    </tr>\n",
       "    <tr>\n",
       "      <th id=\"T_0321d_level0_row8\" class=\"row_heading level0 row8\" >8</th>\n",
       "      <td id=\"T_0321d_row8_col0\" class=\"data row8 col0\" >0004</td>\n",
       "      <td id=\"T_0321d_row8_col1\" class=\"data row8 col1\" >Pedro Jiménez Ruiz</td>\n",
       "    </tr>\n",
       "    <tr>\n",
       "      <th id=\"T_0321d_level0_row9\" class=\"row_heading level0 row9\" >9</th>\n",
       "      <td id=\"T_0321d_row9_col0\" class=\"data row9 col0\" >0006</td>\n",
       "      <td id=\"T_0321d_row9_col1\" class=\"data row9 col1\" >Soledad Campillo Molina</td>\n",
       "    </tr>\n",
       "    <tr>\n",
       "      <th id=\"T_0321d_level0_row10\" class=\"row_heading level0 row10\" >10</th>\n",
       "      <td id=\"T_0321d_row10_col0\" class=\"data row10 col0\" >0007</td>\n",
       "      <td id=\"T_0321d_row10_col1\" class=\"data row10 col1\" >Soledad Campillo Molina</td>\n",
       "    </tr>\n",
       "  </tbody>\n",
       "</table>\n"
      ],
      "text/plain": [
       "<pandas.io.formats.style.Styler at 0x28622211790>"
      ]
     },
     "execution_count": 97,
     "metadata": {},
     "output_type": "execute_result"
    }
   ],
   "source": [
    "df14 = pd.read_sql(query14, connection)\n",
    "left_align(df14)"
   ]
  },
  {
   "cell_type": "code",
   "execution_count": 98,
   "metadata": {},
   "outputs": [],
   "source": [
    "df14.to_csv('csvs\\consulta14.csv', index=False)"
   ]
  },
  {
   "cell_type": "markdown",
   "metadata": {},
   "source": [
    "### 15. Encontrar la cantidad total de productos en cada pedido."
   ]
  },
  {
   "cell_type": "code",
   "execution_count": 100,
   "metadata": {},
   "outputs": [
    {
     "data": {
      "text/plain": [
       "[('0005', 1),\n",
       " ('0007', 1),\n",
       " ('0004', 1),\n",
       " ('0010', 3),\n",
       " ('0011', 2),\n",
       " ('0007', 1),\n",
       " ('0001', 2),\n",
       " ('0002', 1),\n",
       " ('0008', 1),\n",
       " ('0001', 1),\n",
       " ('0002', 2),\n",
       " ('0005', 1),\n",
       " ('0006', 2),\n",
       " ('0007', 2),\n",
       " ('0010', 3),\n",
       " ('0004', 3),\n",
       " ('0005', 2),\n",
       " ('0006', 1),\n",
       " ('0008', 2),\n",
       " ('0009', 4),\n",
       " ('0010', 3),\n",
       " ('0003', 2),\n",
       " ('0002', 2),\n",
       " ('0009', 1),\n",
       " ('0010', 3),\n",
       " ('0003', 1),\n",
       " ('0006', 1),\n",
       " ('0006', 1)]"
      ]
     },
     "execution_count": 100,
     "metadata": {},
     "output_type": "execute_result"
    }
   ],
   "source": [
    "connection = mysql.connector.connect(host=' ', database='  ', user='   ', password='    ', connection_timeout= )\n",
    "cursor = connection.cursor()\n",
    "query15 = '''SELECT numero_p, cantidad FROM consta;'''\n",
    "cursor.execute(query15)\n",
    "cursor.fetchall()"
   ]
  },
  {
   "cell_type": "code",
   "execution_count": 101,
   "metadata": {},
   "outputs": [
    {
     "name": "stderr",
     "output_type": "stream",
     "text": [
      "C:\\Users\\Usuario\\AppData\\Local\\Temp\\ipykernel_111492\\84671114.py:1: UserWarning: pandas only supports SQLAlchemy connectable (engine/connection) or database string URI or sqlite3 DBAPI2 connection. Other DBAPI2 objects are not tested. Please consider using SQLAlchemy.\n",
      "  df15 = pd.read_sql(query15, connection)\n"
     ]
    },
    {
     "data": {
      "text/html": [
       "<style type=\"text/css\">\n",
       "#T_81692 th {\n",
       "  text-align: left;\n",
       "}\n",
       "#T_81692_row0_col0, #T_81692_row0_col1, #T_81692_row1_col0, #T_81692_row1_col1, #T_81692_row2_col0, #T_81692_row2_col1, #T_81692_row3_col0, #T_81692_row3_col1, #T_81692_row4_col0, #T_81692_row4_col1, #T_81692_row5_col0, #T_81692_row5_col1, #T_81692_row6_col0, #T_81692_row6_col1, #T_81692_row7_col0, #T_81692_row7_col1, #T_81692_row8_col0, #T_81692_row8_col1, #T_81692_row9_col0, #T_81692_row9_col1, #T_81692_row10_col0, #T_81692_row10_col1, #T_81692_row11_col0, #T_81692_row11_col1, #T_81692_row12_col0, #T_81692_row12_col1, #T_81692_row13_col0, #T_81692_row13_col1, #T_81692_row14_col0, #T_81692_row14_col1, #T_81692_row15_col0, #T_81692_row15_col1, #T_81692_row16_col0, #T_81692_row16_col1, #T_81692_row17_col0, #T_81692_row17_col1, #T_81692_row18_col0, #T_81692_row18_col1, #T_81692_row19_col0, #T_81692_row19_col1, #T_81692_row20_col0, #T_81692_row20_col1, #T_81692_row21_col0, #T_81692_row21_col1, #T_81692_row22_col0, #T_81692_row22_col1, #T_81692_row23_col0, #T_81692_row23_col1, #T_81692_row24_col0, #T_81692_row24_col1, #T_81692_row25_col0, #T_81692_row25_col1, #T_81692_row26_col0, #T_81692_row26_col1, #T_81692_row27_col0, #T_81692_row27_col1 {\n",
       "  text-align: left;\n",
       "}\n",
       "</style>\n",
       "<table id=\"T_81692\">\n",
       "  <thead>\n",
       "    <tr>\n",
       "      <th class=\"blank level0\" >&nbsp;</th>\n",
       "      <th id=\"T_81692_level0_col0\" class=\"col_heading level0 col0\" >numero_p</th>\n",
       "      <th id=\"T_81692_level0_col1\" class=\"col_heading level0 col1\" >cantidad</th>\n",
       "    </tr>\n",
       "  </thead>\n",
       "  <tbody>\n",
       "    <tr>\n",
       "      <th id=\"T_81692_level0_row0\" class=\"row_heading level0 row0\" >0</th>\n",
       "      <td id=\"T_81692_row0_col0\" class=\"data row0 col0\" >0005</td>\n",
       "      <td id=\"T_81692_row0_col1\" class=\"data row0 col1\" >1</td>\n",
       "    </tr>\n",
       "    <tr>\n",
       "      <th id=\"T_81692_level0_row1\" class=\"row_heading level0 row1\" >1</th>\n",
       "      <td id=\"T_81692_row1_col0\" class=\"data row1 col0\" >0007</td>\n",
       "      <td id=\"T_81692_row1_col1\" class=\"data row1 col1\" >1</td>\n",
       "    </tr>\n",
       "    <tr>\n",
       "      <th id=\"T_81692_level0_row2\" class=\"row_heading level0 row2\" >2</th>\n",
       "      <td id=\"T_81692_row2_col0\" class=\"data row2 col0\" >0004</td>\n",
       "      <td id=\"T_81692_row2_col1\" class=\"data row2 col1\" >1</td>\n",
       "    </tr>\n",
       "    <tr>\n",
       "      <th id=\"T_81692_level0_row3\" class=\"row_heading level0 row3\" >3</th>\n",
       "      <td id=\"T_81692_row3_col0\" class=\"data row3 col0\" >0010</td>\n",
       "      <td id=\"T_81692_row3_col1\" class=\"data row3 col1\" >3</td>\n",
       "    </tr>\n",
       "    <tr>\n",
       "      <th id=\"T_81692_level0_row4\" class=\"row_heading level0 row4\" >4</th>\n",
       "      <td id=\"T_81692_row4_col0\" class=\"data row4 col0\" >0011</td>\n",
       "      <td id=\"T_81692_row4_col1\" class=\"data row4 col1\" >2</td>\n",
       "    </tr>\n",
       "    <tr>\n",
       "      <th id=\"T_81692_level0_row5\" class=\"row_heading level0 row5\" >5</th>\n",
       "      <td id=\"T_81692_row5_col0\" class=\"data row5 col0\" >0007</td>\n",
       "      <td id=\"T_81692_row5_col1\" class=\"data row5 col1\" >1</td>\n",
       "    </tr>\n",
       "    <tr>\n",
       "      <th id=\"T_81692_level0_row6\" class=\"row_heading level0 row6\" >6</th>\n",
       "      <td id=\"T_81692_row6_col0\" class=\"data row6 col0\" >0001</td>\n",
       "      <td id=\"T_81692_row6_col1\" class=\"data row6 col1\" >2</td>\n",
       "    </tr>\n",
       "    <tr>\n",
       "      <th id=\"T_81692_level0_row7\" class=\"row_heading level0 row7\" >7</th>\n",
       "      <td id=\"T_81692_row7_col0\" class=\"data row7 col0\" >0002</td>\n",
       "      <td id=\"T_81692_row7_col1\" class=\"data row7 col1\" >1</td>\n",
       "    </tr>\n",
       "    <tr>\n",
       "      <th id=\"T_81692_level0_row8\" class=\"row_heading level0 row8\" >8</th>\n",
       "      <td id=\"T_81692_row8_col0\" class=\"data row8 col0\" >0008</td>\n",
       "      <td id=\"T_81692_row8_col1\" class=\"data row8 col1\" >1</td>\n",
       "    </tr>\n",
       "    <tr>\n",
       "      <th id=\"T_81692_level0_row9\" class=\"row_heading level0 row9\" >9</th>\n",
       "      <td id=\"T_81692_row9_col0\" class=\"data row9 col0\" >0001</td>\n",
       "      <td id=\"T_81692_row9_col1\" class=\"data row9 col1\" >1</td>\n",
       "    </tr>\n",
       "    <tr>\n",
       "      <th id=\"T_81692_level0_row10\" class=\"row_heading level0 row10\" >10</th>\n",
       "      <td id=\"T_81692_row10_col0\" class=\"data row10 col0\" >0002</td>\n",
       "      <td id=\"T_81692_row10_col1\" class=\"data row10 col1\" >2</td>\n",
       "    </tr>\n",
       "    <tr>\n",
       "      <th id=\"T_81692_level0_row11\" class=\"row_heading level0 row11\" >11</th>\n",
       "      <td id=\"T_81692_row11_col0\" class=\"data row11 col0\" >0005</td>\n",
       "      <td id=\"T_81692_row11_col1\" class=\"data row11 col1\" >1</td>\n",
       "    </tr>\n",
       "    <tr>\n",
       "      <th id=\"T_81692_level0_row12\" class=\"row_heading level0 row12\" >12</th>\n",
       "      <td id=\"T_81692_row12_col0\" class=\"data row12 col0\" >0006</td>\n",
       "      <td id=\"T_81692_row12_col1\" class=\"data row12 col1\" >2</td>\n",
       "    </tr>\n",
       "    <tr>\n",
       "      <th id=\"T_81692_level0_row13\" class=\"row_heading level0 row13\" >13</th>\n",
       "      <td id=\"T_81692_row13_col0\" class=\"data row13 col0\" >0007</td>\n",
       "      <td id=\"T_81692_row13_col1\" class=\"data row13 col1\" >2</td>\n",
       "    </tr>\n",
       "    <tr>\n",
       "      <th id=\"T_81692_level0_row14\" class=\"row_heading level0 row14\" >14</th>\n",
       "      <td id=\"T_81692_row14_col0\" class=\"data row14 col0\" >0010</td>\n",
       "      <td id=\"T_81692_row14_col1\" class=\"data row14 col1\" >3</td>\n",
       "    </tr>\n",
       "    <tr>\n",
       "      <th id=\"T_81692_level0_row15\" class=\"row_heading level0 row15\" >15</th>\n",
       "      <td id=\"T_81692_row15_col0\" class=\"data row15 col0\" >0004</td>\n",
       "      <td id=\"T_81692_row15_col1\" class=\"data row15 col1\" >3</td>\n",
       "    </tr>\n",
       "    <tr>\n",
       "      <th id=\"T_81692_level0_row16\" class=\"row_heading level0 row16\" >16</th>\n",
       "      <td id=\"T_81692_row16_col0\" class=\"data row16 col0\" >0005</td>\n",
       "      <td id=\"T_81692_row16_col1\" class=\"data row16 col1\" >2</td>\n",
       "    </tr>\n",
       "    <tr>\n",
       "      <th id=\"T_81692_level0_row17\" class=\"row_heading level0 row17\" >17</th>\n",
       "      <td id=\"T_81692_row17_col0\" class=\"data row17 col0\" >0006</td>\n",
       "      <td id=\"T_81692_row17_col1\" class=\"data row17 col1\" >1</td>\n",
       "    </tr>\n",
       "    <tr>\n",
       "      <th id=\"T_81692_level0_row18\" class=\"row_heading level0 row18\" >18</th>\n",
       "      <td id=\"T_81692_row18_col0\" class=\"data row18 col0\" >0008</td>\n",
       "      <td id=\"T_81692_row18_col1\" class=\"data row18 col1\" >2</td>\n",
       "    </tr>\n",
       "    <tr>\n",
       "      <th id=\"T_81692_level0_row19\" class=\"row_heading level0 row19\" >19</th>\n",
       "      <td id=\"T_81692_row19_col0\" class=\"data row19 col0\" >0009</td>\n",
       "      <td id=\"T_81692_row19_col1\" class=\"data row19 col1\" >4</td>\n",
       "    </tr>\n",
       "    <tr>\n",
       "      <th id=\"T_81692_level0_row20\" class=\"row_heading level0 row20\" >20</th>\n",
       "      <td id=\"T_81692_row20_col0\" class=\"data row20 col0\" >0010</td>\n",
       "      <td id=\"T_81692_row20_col1\" class=\"data row20 col1\" >3</td>\n",
       "    </tr>\n",
       "    <tr>\n",
       "      <th id=\"T_81692_level0_row21\" class=\"row_heading level0 row21\" >21</th>\n",
       "      <td id=\"T_81692_row21_col0\" class=\"data row21 col0\" >0003</td>\n",
       "      <td id=\"T_81692_row21_col1\" class=\"data row21 col1\" >2</td>\n",
       "    </tr>\n",
       "    <tr>\n",
       "      <th id=\"T_81692_level0_row22\" class=\"row_heading level0 row22\" >22</th>\n",
       "      <td id=\"T_81692_row22_col0\" class=\"data row22 col0\" >0002</td>\n",
       "      <td id=\"T_81692_row22_col1\" class=\"data row22 col1\" >2</td>\n",
       "    </tr>\n",
       "    <tr>\n",
       "      <th id=\"T_81692_level0_row23\" class=\"row_heading level0 row23\" >23</th>\n",
       "      <td id=\"T_81692_row23_col0\" class=\"data row23 col0\" >0009</td>\n",
       "      <td id=\"T_81692_row23_col1\" class=\"data row23 col1\" >1</td>\n",
       "    </tr>\n",
       "    <tr>\n",
       "      <th id=\"T_81692_level0_row24\" class=\"row_heading level0 row24\" >24</th>\n",
       "      <td id=\"T_81692_row24_col0\" class=\"data row24 col0\" >0010</td>\n",
       "      <td id=\"T_81692_row24_col1\" class=\"data row24 col1\" >3</td>\n",
       "    </tr>\n",
       "    <tr>\n",
       "      <th id=\"T_81692_level0_row25\" class=\"row_heading level0 row25\" >25</th>\n",
       "      <td id=\"T_81692_row25_col0\" class=\"data row25 col0\" >0003</td>\n",
       "      <td id=\"T_81692_row25_col1\" class=\"data row25 col1\" >1</td>\n",
       "    </tr>\n",
       "    <tr>\n",
       "      <th id=\"T_81692_level0_row26\" class=\"row_heading level0 row26\" >26</th>\n",
       "      <td id=\"T_81692_row26_col0\" class=\"data row26 col0\" >0006</td>\n",
       "      <td id=\"T_81692_row26_col1\" class=\"data row26 col1\" >1</td>\n",
       "    </tr>\n",
       "    <tr>\n",
       "      <th id=\"T_81692_level0_row27\" class=\"row_heading level0 row27\" >27</th>\n",
       "      <td id=\"T_81692_row27_col0\" class=\"data row27 col0\" >0006</td>\n",
       "      <td id=\"T_81692_row27_col1\" class=\"data row27 col1\" >1</td>\n",
       "    </tr>\n",
       "  </tbody>\n",
       "</table>\n"
      ],
      "text/plain": [
       "<pandas.io.formats.style.Styler at 0x28621a85bd0>"
      ]
     },
     "execution_count": 101,
     "metadata": {},
     "output_type": "execute_result"
    }
   ],
   "source": [
    "df15 = pd.read_sql(query15, connection)\n",
    "left_align(df15)"
   ]
  },
  {
   "cell_type": "code",
   "execution_count": 102,
   "metadata": {},
   "outputs": [],
   "source": [
    "df15.to_csv('csvs\\consulta15.csv', index=False)"
   ]
  },
  {
   "cell_type": "markdown",
   "metadata": {},
   "source": [
    "### 16. Obtener el nombre del repartidor y el importe de los pedidos que ha entregado."
   ]
  },
  {
   "cell_type": "code",
   "execution_count": 107,
   "metadata": {},
   "outputs": [
    {
     "data": {
      "text/plain": [
       "[('Laura Jiménez Jiménez', 13.0),\n",
       " ('Laura Jiménez Jiménez', 23.0),\n",
       " ('Juan Pardo Rubio', 14.0),\n",
       " ('Carlos Sánchez Ruíz', 14.0),\n",
       " ('Carlos Sánchez Ruíz', 17.0),\n",
       " ('Juan Sánchez López', 10.0),\n",
       " ('Alejandro Pardo López', 15.0),\n",
       " ('Alejandro Pardo López', 13.0),\n",
       " ('Alejandro Pardo López', 25.0)]"
      ]
     },
     "execution_count": 107,
     "metadata": {},
     "output_type": "execute_result"
    }
   ],
   "source": [
    "connection = mysql.connector.connect(host=' ', database='  ', user='   ', password='    ', connection_timeout= )\n",
    "cursor = connection.cursor()\n",
    "query16 = '''SELECT r.nombre, p.importe\n",
    "FROM PEDIDO AS p\n",
    "INNER JOIN REPARTIDOR AS r ON p.DNI_R = r.DNI;'''\n",
    "cursor.execute(query16)\n",
    "cursor.fetchall()"
   ]
  },
  {
   "cell_type": "code",
   "execution_count": 108,
   "metadata": {},
   "outputs": [
    {
     "name": "stderr",
     "output_type": "stream",
     "text": [
      "C:\\Users\\Usuario\\AppData\\Local\\Temp\\ipykernel_111492\\1869198543.py:1: UserWarning: pandas only supports SQLAlchemy connectable (engine/connection) or database string URI or sqlite3 DBAPI2 connection. Other DBAPI2 objects are not tested. Please consider using SQLAlchemy.\n",
      "  df16 = pd.read_sql(query16, connection)\n"
     ]
    },
    {
     "data": {
      "text/html": [
       "<style type=\"text/css\">\n",
       "#T_75fb5 th {\n",
       "  text-align: left;\n",
       "}\n",
       "#T_75fb5_row0_col0, #T_75fb5_row0_col1, #T_75fb5_row1_col0, #T_75fb5_row1_col1, #T_75fb5_row2_col0, #T_75fb5_row2_col1, #T_75fb5_row3_col0, #T_75fb5_row3_col1, #T_75fb5_row4_col0, #T_75fb5_row4_col1, #T_75fb5_row5_col0, #T_75fb5_row5_col1, #T_75fb5_row6_col0, #T_75fb5_row6_col1, #T_75fb5_row7_col0, #T_75fb5_row7_col1, #T_75fb5_row8_col0, #T_75fb5_row8_col1 {\n",
       "  text-align: left;\n",
       "}\n",
       "</style>\n",
       "<table id=\"T_75fb5\">\n",
       "  <thead>\n",
       "    <tr>\n",
       "      <th class=\"blank level0\" >&nbsp;</th>\n",
       "      <th id=\"T_75fb5_level0_col0\" class=\"col_heading level0 col0\" >nombre</th>\n",
       "      <th id=\"T_75fb5_level0_col1\" class=\"col_heading level0 col1\" >importe</th>\n",
       "    </tr>\n",
       "  </thead>\n",
       "  <tbody>\n",
       "    <tr>\n",
       "      <th id=\"T_75fb5_level0_row0\" class=\"row_heading level0 row0\" >0</th>\n",
       "      <td id=\"T_75fb5_row0_col0\" class=\"data row0 col0\" >Laura Jiménez Jiménez</td>\n",
       "      <td id=\"T_75fb5_row0_col1\" class=\"data row0 col1\" >13.000000</td>\n",
       "    </tr>\n",
       "    <tr>\n",
       "      <th id=\"T_75fb5_level0_row1\" class=\"row_heading level0 row1\" >1</th>\n",
       "      <td id=\"T_75fb5_row1_col0\" class=\"data row1 col0\" >Laura Jiménez Jiménez</td>\n",
       "      <td id=\"T_75fb5_row1_col1\" class=\"data row1 col1\" >23.000000</td>\n",
       "    </tr>\n",
       "    <tr>\n",
       "      <th id=\"T_75fb5_level0_row2\" class=\"row_heading level0 row2\" >2</th>\n",
       "      <td id=\"T_75fb5_row2_col0\" class=\"data row2 col0\" >Juan Pardo Rubio</td>\n",
       "      <td id=\"T_75fb5_row2_col1\" class=\"data row2 col1\" >14.000000</td>\n",
       "    </tr>\n",
       "    <tr>\n",
       "      <th id=\"T_75fb5_level0_row3\" class=\"row_heading level0 row3\" >3</th>\n",
       "      <td id=\"T_75fb5_row3_col0\" class=\"data row3 col0\" >Carlos Sánchez Ruíz</td>\n",
       "      <td id=\"T_75fb5_row3_col1\" class=\"data row3 col1\" >14.000000</td>\n",
       "    </tr>\n",
       "    <tr>\n",
       "      <th id=\"T_75fb5_level0_row4\" class=\"row_heading level0 row4\" >4</th>\n",
       "      <td id=\"T_75fb5_row4_col0\" class=\"data row4 col0\" >Carlos Sánchez Ruíz</td>\n",
       "      <td id=\"T_75fb5_row4_col1\" class=\"data row4 col1\" >17.000000</td>\n",
       "    </tr>\n",
       "    <tr>\n",
       "      <th id=\"T_75fb5_level0_row5\" class=\"row_heading level0 row5\" >5</th>\n",
       "      <td id=\"T_75fb5_row5_col0\" class=\"data row5 col0\" >Juan Sánchez López</td>\n",
       "      <td id=\"T_75fb5_row5_col1\" class=\"data row5 col1\" >10.000000</td>\n",
       "    </tr>\n",
       "    <tr>\n",
       "      <th id=\"T_75fb5_level0_row6\" class=\"row_heading level0 row6\" >6</th>\n",
       "      <td id=\"T_75fb5_row6_col0\" class=\"data row6 col0\" >Alejandro Pardo López</td>\n",
       "      <td id=\"T_75fb5_row6_col1\" class=\"data row6 col1\" >15.000000</td>\n",
       "    </tr>\n",
       "    <tr>\n",
       "      <th id=\"T_75fb5_level0_row7\" class=\"row_heading level0 row7\" >7</th>\n",
       "      <td id=\"T_75fb5_row7_col0\" class=\"data row7 col0\" >Alejandro Pardo López</td>\n",
       "      <td id=\"T_75fb5_row7_col1\" class=\"data row7 col1\" >13.000000</td>\n",
       "    </tr>\n",
       "    <tr>\n",
       "      <th id=\"T_75fb5_level0_row8\" class=\"row_heading level0 row8\" >8</th>\n",
       "      <td id=\"T_75fb5_row8_col0\" class=\"data row8 col0\" >Alejandro Pardo López</td>\n",
       "      <td id=\"T_75fb5_row8_col1\" class=\"data row8 col1\" >25.000000</td>\n",
       "    </tr>\n",
       "  </tbody>\n",
       "</table>\n"
      ],
      "text/plain": [
       "<pandas.io.formats.style.Styler at 0x28622237810>"
      ]
     },
     "execution_count": 108,
     "metadata": {},
     "output_type": "execute_result"
    }
   ],
   "source": [
    "df16 = pd.read_sql(query16, connection)\n",
    "left_align(df16)"
   ]
  },
  {
   "cell_type": "code",
   "execution_count": 109,
   "metadata": {},
   "outputs": [],
   "source": [
    "df16.to_csv('csvs\\consulta16.csv', index=False)"
   ]
  },
  {
   "cell_type": "markdown",
   "metadata": {},
   "source": [
    "### 17. Listar todos los pedidos junto con la hora en que fueron tomados y preparados"
   ]
  },
  {
   "cell_type": "code",
   "execution_count": 114,
   "metadata": {},
   "outputs": [
    {
     "data": {
      "text/plain": [
       "[('0009',\n",
       "  datetime.timedelta(seconds=39720),\n",
       "  datetime.timedelta(seconds=41400)),\n",
       " ('0001',\n",
       "  datetime.timedelta(seconds=43200),\n",
       "  datetime.timedelta(seconds=44100)),\n",
       " ('0002',\n",
       "  datetime.timedelta(seconds=48600),\n",
       "  datetime.timedelta(seconds=49500)),\n",
       " ('0004',\n",
       "  datetime.timedelta(seconds=50520),\n",
       "  datetime.timedelta(seconds=52200)),\n",
       " ('0003',\n",
       "  datetime.timedelta(seconds=54000),\n",
       "  datetime.timedelta(seconds=54900)),\n",
       " ('0008',\n",
       "  datetime.timedelta(seconds=64920),\n",
       "  datetime.timedelta(seconds=66600)),\n",
       " ('0005',\n",
       "  datetime.timedelta(seconds=68520),\n",
       "  datetime.timedelta(seconds=70200)),\n",
       " ('0006',\n",
       "  datetime.timedelta(seconds=75720),\n",
       "  datetime.timedelta(seconds=77700)),\n",
       " ('0010',\n",
       "  datetime.timedelta(seconds=79500),\n",
       "  datetime.timedelta(seconds=79920)),\n",
       " ('0011', datetime.timedelta(seconds=79500), None),\n",
       " ('0007',\n",
       "  datetime.timedelta(seconds=83100),\n",
       "  datetime.timedelta(seconds=83520))]"
      ]
     },
     "execution_count": 114,
     "metadata": {},
     "output_type": "execute_result"
    }
   ],
   "source": [
    "connection = mysql.connector.connect(host=' ', database='  ', user='   ', password='    ', connection_timeout= )\n",
    "cursor = connection.cursor()\n",
    "query17 = '''SELECT numero, hora_tm, hora_pre\n",
    "FROM PEDIDO\n",
    "ORDER BY hora_tm ASC;'''\n",
    "cursor.execute(query17)\n",
    "cursor.fetchall()"
   ]
  },
  {
   "cell_type": "code",
   "execution_count": 115,
   "metadata": {},
   "outputs": [
    {
     "name": "stderr",
     "output_type": "stream",
     "text": [
      "C:\\Users\\Usuario\\AppData\\Local\\Temp\\ipykernel_111492\\654980495.py:1: UserWarning: pandas only supports SQLAlchemy connectable (engine/connection) or database string URI or sqlite3 DBAPI2 connection. Other DBAPI2 objects are not tested. Please consider using SQLAlchemy.\n",
      "  df17 = pd.read_sql(query17, connection)\n"
     ]
    },
    {
     "data": {
      "text/html": [
       "<style type=\"text/css\">\n",
       "#T_0c43f th {\n",
       "  text-align: left;\n",
       "}\n",
       "#T_0c43f_row0_col0, #T_0c43f_row0_col1, #T_0c43f_row0_col2, #T_0c43f_row1_col0, #T_0c43f_row1_col1, #T_0c43f_row1_col2, #T_0c43f_row2_col0, #T_0c43f_row2_col1, #T_0c43f_row2_col2, #T_0c43f_row3_col0, #T_0c43f_row3_col1, #T_0c43f_row3_col2, #T_0c43f_row4_col0, #T_0c43f_row4_col1, #T_0c43f_row4_col2, #T_0c43f_row5_col0, #T_0c43f_row5_col1, #T_0c43f_row5_col2, #T_0c43f_row6_col0, #T_0c43f_row6_col1, #T_0c43f_row6_col2, #T_0c43f_row7_col0, #T_0c43f_row7_col1, #T_0c43f_row7_col2, #T_0c43f_row8_col0, #T_0c43f_row8_col1, #T_0c43f_row8_col2, #T_0c43f_row9_col0, #T_0c43f_row9_col1, #T_0c43f_row9_col2, #T_0c43f_row10_col0, #T_0c43f_row10_col1, #T_0c43f_row10_col2 {\n",
       "  text-align: left;\n",
       "}\n",
       "</style>\n",
       "<table id=\"T_0c43f\">\n",
       "  <thead>\n",
       "    <tr>\n",
       "      <th class=\"blank level0\" >&nbsp;</th>\n",
       "      <th id=\"T_0c43f_level0_col0\" class=\"col_heading level0 col0\" >numero</th>\n",
       "      <th id=\"T_0c43f_level0_col1\" class=\"col_heading level0 col1\" >hora_tm</th>\n",
       "      <th id=\"T_0c43f_level0_col2\" class=\"col_heading level0 col2\" >hora_pre</th>\n",
       "    </tr>\n",
       "  </thead>\n",
       "  <tbody>\n",
       "    <tr>\n",
       "      <th id=\"T_0c43f_level0_row0\" class=\"row_heading level0 row0\" >0</th>\n",
       "      <td id=\"T_0c43f_row0_col0\" class=\"data row0 col0\" >0009</td>\n",
       "      <td id=\"T_0c43f_row0_col1\" class=\"data row0 col1\" >0 days 11:02:00</td>\n",
       "      <td id=\"T_0c43f_row0_col2\" class=\"data row0 col2\" >0 days 11:30:00</td>\n",
       "    </tr>\n",
       "    <tr>\n",
       "      <th id=\"T_0c43f_level0_row1\" class=\"row_heading level0 row1\" >1</th>\n",
       "      <td id=\"T_0c43f_row1_col0\" class=\"data row1 col0\" >0001</td>\n",
       "      <td id=\"T_0c43f_row1_col1\" class=\"data row1 col1\" >0 days 12:00:00</td>\n",
       "      <td id=\"T_0c43f_row1_col2\" class=\"data row1 col2\" >0 days 12:15:00</td>\n",
       "    </tr>\n",
       "    <tr>\n",
       "      <th id=\"T_0c43f_level0_row2\" class=\"row_heading level0 row2\" >2</th>\n",
       "      <td id=\"T_0c43f_row2_col0\" class=\"data row2 col0\" >0002</td>\n",
       "      <td id=\"T_0c43f_row2_col1\" class=\"data row2 col1\" >0 days 13:30:00</td>\n",
       "      <td id=\"T_0c43f_row2_col2\" class=\"data row2 col2\" >0 days 13:45:00</td>\n",
       "    </tr>\n",
       "    <tr>\n",
       "      <th id=\"T_0c43f_level0_row3\" class=\"row_heading level0 row3\" >3</th>\n",
       "      <td id=\"T_0c43f_row3_col0\" class=\"data row3 col0\" >0004</td>\n",
       "      <td id=\"T_0c43f_row3_col1\" class=\"data row3 col1\" >0 days 14:02:00</td>\n",
       "      <td id=\"T_0c43f_row3_col2\" class=\"data row3 col2\" >0 days 14:30:00</td>\n",
       "    </tr>\n",
       "    <tr>\n",
       "      <th id=\"T_0c43f_level0_row4\" class=\"row_heading level0 row4\" >4</th>\n",
       "      <td id=\"T_0c43f_row4_col0\" class=\"data row4 col0\" >0003</td>\n",
       "      <td id=\"T_0c43f_row4_col1\" class=\"data row4 col1\" >0 days 15:00:00</td>\n",
       "      <td id=\"T_0c43f_row4_col2\" class=\"data row4 col2\" >0 days 15:15:00</td>\n",
       "    </tr>\n",
       "    <tr>\n",
       "      <th id=\"T_0c43f_level0_row5\" class=\"row_heading level0 row5\" >5</th>\n",
       "      <td id=\"T_0c43f_row5_col0\" class=\"data row5 col0\" >0008</td>\n",
       "      <td id=\"T_0c43f_row5_col1\" class=\"data row5 col1\" >0 days 18:02:00</td>\n",
       "      <td id=\"T_0c43f_row5_col2\" class=\"data row5 col2\" >0 days 18:30:00</td>\n",
       "    </tr>\n",
       "    <tr>\n",
       "      <th id=\"T_0c43f_level0_row6\" class=\"row_heading level0 row6\" >6</th>\n",
       "      <td id=\"T_0c43f_row6_col0\" class=\"data row6 col0\" >0005</td>\n",
       "      <td id=\"T_0c43f_row6_col1\" class=\"data row6 col1\" >0 days 19:02:00</td>\n",
       "      <td id=\"T_0c43f_row6_col2\" class=\"data row6 col2\" >0 days 19:30:00</td>\n",
       "    </tr>\n",
       "    <tr>\n",
       "      <th id=\"T_0c43f_level0_row7\" class=\"row_heading level0 row7\" >7</th>\n",
       "      <td id=\"T_0c43f_row7_col0\" class=\"data row7 col0\" >0006</td>\n",
       "      <td id=\"T_0c43f_row7_col1\" class=\"data row7 col1\" >0 days 21:02:00</td>\n",
       "      <td id=\"T_0c43f_row7_col2\" class=\"data row7 col2\" >0 days 21:35:00</td>\n",
       "    </tr>\n",
       "    <tr>\n",
       "      <th id=\"T_0c43f_level0_row8\" class=\"row_heading level0 row8\" >8</th>\n",
       "      <td id=\"T_0c43f_row8_col0\" class=\"data row8 col0\" >0010</td>\n",
       "      <td id=\"T_0c43f_row8_col1\" class=\"data row8 col1\" >0 days 22:05:00</td>\n",
       "      <td id=\"T_0c43f_row8_col2\" class=\"data row8 col2\" >0 days 22:12:00</td>\n",
       "    </tr>\n",
       "    <tr>\n",
       "      <th id=\"T_0c43f_level0_row9\" class=\"row_heading level0 row9\" >9</th>\n",
       "      <td id=\"T_0c43f_row9_col0\" class=\"data row9 col0\" >0011</td>\n",
       "      <td id=\"T_0c43f_row9_col1\" class=\"data row9 col1\" >0 days 22:05:00</td>\n",
       "      <td id=\"T_0c43f_row9_col2\" class=\"data row9 col2\" >NaT</td>\n",
       "    </tr>\n",
       "    <tr>\n",
       "      <th id=\"T_0c43f_level0_row10\" class=\"row_heading level0 row10\" >10</th>\n",
       "      <td id=\"T_0c43f_row10_col0\" class=\"data row10 col0\" >0007</td>\n",
       "      <td id=\"T_0c43f_row10_col1\" class=\"data row10 col1\" >0 days 23:05:00</td>\n",
       "      <td id=\"T_0c43f_row10_col2\" class=\"data row10 col2\" >0 days 23:12:00</td>\n",
       "    </tr>\n",
       "  </tbody>\n",
       "</table>\n"
      ],
      "text/plain": [
       "<pandas.io.formats.style.Styler at 0x28621eb0890>"
      ]
     },
     "execution_count": 115,
     "metadata": {},
     "output_type": "execute_result"
    }
   ],
   "source": [
    "df17 = pd.read_sql(query17, connection)\n",
    "left_align(df17)"
   ]
  },
  {
   "cell_type": "code",
   "execution_count": 116,
   "metadata": {},
   "outputs": [],
   "source": [
    "df17.to_csv('csvs\\consulta17.csv', index=False)"
   ]
  },
  {
   "cell_type": "markdown",
   "metadata": {},
   "source": [
    "### 18. Mostrar el total de incentivos pagados a los repartidores."
   ]
  },
  {
   "cell_type": "code",
   "execution_count": 117,
   "metadata": {},
   "outputs": [
    {
     "data": {
      "text/plain": [
       "[(2000.0,)]"
      ]
     },
     "execution_count": 117,
     "metadata": {},
     "output_type": "execute_result"
    }
   ],
   "source": [
    "connection = mysql.connector.connect(host=' ', database='  ', user='   ', password='    ', connection_timeout= )\n",
    "cursor = connection.cursor()\n",
    "query18 = '''SELECT SUM(incentivo) FROM REPARTIDOR;'''\n",
    "cursor.execute(query18)\n",
    "cursor.fetchall()"
   ]
  },
  {
   "cell_type": "code",
   "execution_count": 118,
   "metadata": {},
   "outputs": [
    {
     "name": "stderr",
     "output_type": "stream",
     "text": [
      "C:\\Users\\Usuario\\AppData\\Local\\Temp\\ipykernel_111492\\1871482429.py:1: UserWarning: pandas only supports SQLAlchemy connectable (engine/connection) or database string URI or sqlite3 DBAPI2 connection. Other DBAPI2 objects are not tested. Please consider using SQLAlchemy.\n",
      "  df18 = pd.read_sql(query18, connection)\n"
     ]
    },
    {
     "data": {
      "text/html": [
       "<style type=\"text/css\">\n",
       "#T_97cf6 th {\n",
       "  text-align: left;\n",
       "}\n",
       "#T_97cf6_row0_col0 {\n",
       "  text-align: left;\n",
       "}\n",
       "</style>\n",
       "<table id=\"T_97cf6\">\n",
       "  <thead>\n",
       "    <tr>\n",
       "      <th class=\"blank level0\" >&nbsp;</th>\n",
       "      <th id=\"T_97cf6_level0_col0\" class=\"col_heading level0 col0\" >SUM(incentivo)</th>\n",
       "    </tr>\n",
       "  </thead>\n",
       "  <tbody>\n",
       "    <tr>\n",
       "      <th id=\"T_97cf6_level0_row0\" class=\"row_heading level0 row0\" >0</th>\n",
       "      <td id=\"T_97cf6_row0_col0\" class=\"data row0 col0\" >2000.000000</td>\n",
       "    </tr>\n",
       "  </tbody>\n",
       "</table>\n"
      ],
      "text/plain": [
       "<pandas.io.formats.style.Styler at 0x286223b2310>"
      ]
     },
     "execution_count": 118,
     "metadata": {},
     "output_type": "execute_result"
    }
   ],
   "source": [
    "df18 = pd.read_sql(query18, connection)\n",
    "left_align(df18)"
   ]
  },
  {
   "cell_type": "code",
   "execution_count": 119,
   "metadata": {},
   "outputs": [],
   "source": [
    "df18.to_csv('csvs\\consulta18.csv', index=False)"
   ]
  },
  {
   "cell_type": "markdown",
   "metadata": {},
   "source": [
    "### 19. Encontrar los empleados que han tomado más de 5 pedidos."
   ]
  },
  {
   "cell_type": "code",
   "execution_count": 121,
   "metadata": {},
   "outputs": [
    {
     "data": {
      "text/plain": [
       "[]"
      ]
     },
     "execution_count": 121,
     "metadata": {},
     "output_type": "execute_result"
    }
   ],
   "source": [
    "connection = mysql.connector.connect(host=' ', database='  ', user='   ', password='    ', connection_timeout= )\n",
    "cursor = connection.cursor()\n",
    "query19 = '''SELECT e.nombre, COUNT(DISTINCT p.numero) AS numero_pedidos\n",
    "FROM PEDIDO AS p\n",
    "INNER JOIN EMPLEADO AS e ON p.DNI_EP = e.DNI\n",
    "GROUP BY e.nombre\n",
    "HAVING numero_pedidos > 5;'''\n",
    "cursor.execute(query19)\n",
    "cursor.fetchall()"
   ]
  },
  {
   "cell_type": "code",
   "execution_count": 122,
   "metadata": {},
   "outputs": [
    {
     "name": "stderr",
     "output_type": "stream",
     "text": [
      "C:\\Users\\Usuario\\AppData\\Local\\Temp\\ipykernel_111492\\1725146508.py:1: UserWarning: pandas only supports SQLAlchemy connectable (engine/connection) or database string URI or sqlite3 DBAPI2 connection. Other DBAPI2 objects are not tested. Please consider using SQLAlchemy.\n",
      "  df19 = pd.read_sql(query19, connection)\n"
     ]
    },
    {
     "data": {
      "text/html": [
       "<style type=\"text/css\">\n",
       "#T_4041d th {\n",
       "  text-align: left;\n",
       "}\n",
       "</style>\n",
       "<table id=\"T_4041d\">\n",
       "  <thead>\n",
       "    <tr>\n",
       "      <th class=\"blank level0\" >&nbsp;</th>\n",
       "      <th id=\"T_4041d_level0_col0\" class=\"col_heading level0 col0\" >nombre</th>\n",
       "      <th id=\"T_4041d_level0_col1\" class=\"col_heading level0 col1\" >numero_pedidos</th>\n",
       "    </tr>\n",
       "  </thead>\n",
       "  <tbody>\n",
       "  </tbody>\n",
       "</table>\n"
      ],
      "text/plain": [
       "<pandas.io.formats.style.Styler at 0x2862232e910>"
      ]
     },
     "execution_count": 122,
     "metadata": {},
     "output_type": "execute_result"
    }
   ],
   "source": [
    "df19 = pd.read_sql(query19, connection)\n",
    "left_align(df19)"
   ]
  },
  {
   "cell_type": "code",
   "execution_count": 123,
   "metadata": {},
   "outputs": [],
   "source": [
    "df19.to_csv('csvs\\consulta19.csv', index=False)"
   ]
  },
  {
   "cell_type": "markdown",
   "metadata": {},
   "source": [
    "### 20. Listar todos los pedidos junto con el nombre del empleado que los preparó."
   ]
  },
  {
   "cell_type": "code",
   "execution_count": 125,
   "metadata": {},
   "outputs": [
    {
     "data": {
      "text/plain": [
       "[('0005', 'María Luisa Galdón Ter', 'Patatas'),\n",
       " ('0005', 'María Luisa Galdón Ter', 'Menú de Hamburguesa con queso'),\n",
       " ('0005', 'María Luisa Galdón Ter', 'Menú de Pollo con queso'),\n",
       " ('0001', 'Úrsula Delta Camacho', 'Menú de Pollo'),\n",
       " ('0001', 'Úrsula Delta Camacho', 'Menú de Hamburguesa con queso'),\n",
       " ('0010', 'Piedad Colmenero Zapillo', 'Queso'),\n",
       " ('0010', 'Piedad Colmenero Zapillo', 'Menú de Hamburguesa con queso'),\n",
       " ('0010', 'Piedad Colmenero Zapillo', 'Menú de Pollo con queso'),\n",
       " ('0010', 'Piedad Colmenero Zapillo', 'Tarta'),\n",
       " ('0011', 'Piedad Colmenero Zapillo', 'Queso'),\n",
       " ('0003', 'María Sánchez Cid', 'Menú de Hamburguesa'),\n",
       " ('0003', 'María Sánchez Cid', 'Fruta'),\n",
       " ('0008', 'Martín Guerrero López', 'Menú de Pollo'),\n",
       " ('0008', 'Martín Guerrero López', 'Menú de Pollo con queso'),\n",
       " ('0009', 'Carmen Hernández Pío', 'Menú de Pollo con queso'),\n",
       " ('0009', 'Carmen Hernández Pío', 'Helado'),\n",
       " ('0002', 'Pedro Jiménez Ruiz', 'Menú de Pollo'),\n",
       " ('0002', 'Pedro Jiménez Ruiz', 'Menú de Hamburguesa con queso'),\n",
       " ('0002', 'Pedro Jiménez Ruiz', 'Helado'),\n",
       " ('0004', 'Pedro Jiménez Ruiz', 'Queso'),\n",
       " ('0004', 'Pedro Jiménez Ruiz', 'Menú de Pollo con queso'),\n",
       " ('0006', 'Soledad Campillo Molina', 'Menú de Hamburguesa con queso'),\n",
       " ('0006', 'Soledad Campillo Molina', 'Menú de Pollo con queso'),\n",
       " ('0006', 'Soledad Campillo Molina', 'Agua'),\n",
       " ('0006', 'Soledad Campillo Molina', 'Fanta'),\n",
       " ('0007', 'Soledad Campillo Molina', 'Patatas'),\n",
       " ('0007', 'Soledad Campillo Molina', 'Coca cola'),\n",
       " ('0007', 'Soledad Campillo Molina', 'Menú de Hamburguesa con queso')]"
      ]
     },
     "execution_count": 125,
     "metadata": {},
     "output_type": "execute_result"
    }
   ],
   "source": [
    "connection = mysql.connector.connect(host=' ', database='  ', user='   ', password='    ', connection_timeout= )\n",
    "cursor = connection.cursor()\n",
    "query20 = '''SELECT p.numero as Numero_pedido, e.nombre as Nombre_empleado, pr.nombre as producto \n",
    "FROM PEDIDO as p\n",
    "INNER JOIN EMPLEADO as e ON p.DNI_EP = e.DNI\n",
    "INNER JOIN consta as c ON p.numero = c.numero_p\n",
    "INNER JOIN PRODUCTO as pr ON c.codigo_pr = pr.codigo;'''\n",
    "cursor.execute(query20)\n",
    "cursor.fetchall()"
   ]
  },
  {
   "cell_type": "code",
   "execution_count": 126,
   "metadata": {},
   "outputs": [
    {
     "name": "stderr",
     "output_type": "stream",
     "text": [
      "C:\\Users\\Usuario\\AppData\\Local\\Temp\\ipykernel_111492\\2511702440.py:1: UserWarning: pandas only supports SQLAlchemy connectable (engine/connection) or database string URI or sqlite3 DBAPI2 connection. Other DBAPI2 objects are not tested. Please consider using SQLAlchemy.\n",
      "  df20 = pd.read_sql(query20, connection)\n"
     ]
    },
    {
     "data": {
      "text/html": [
       "<style type=\"text/css\">\n",
       "#T_13bc2 th {\n",
       "  text-align: left;\n",
       "}\n",
       "#T_13bc2_row0_col0, #T_13bc2_row0_col1, #T_13bc2_row0_col2, #T_13bc2_row1_col0, #T_13bc2_row1_col1, #T_13bc2_row1_col2, #T_13bc2_row2_col0, #T_13bc2_row2_col1, #T_13bc2_row2_col2, #T_13bc2_row3_col0, #T_13bc2_row3_col1, #T_13bc2_row3_col2, #T_13bc2_row4_col0, #T_13bc2_row4_col1, #T_13bc2_row4_col2, #T_13bc2_row5_col0, #T_13bc2_row5_col1, #T_13bc2_row5_col2, #T_13bc2_row6_col0, #T_13bc2_row6_col1, #T_13bc2_row6_col2, #T_13bc2_row7_col0, #T_13bc2_row7_col1, #T_13bc2_row7_col2, #T_13bc2_row8_col0, #T_13bc2_row8_col1, #T_13bc2_row8_col2, #T_13bc2_row9_col0, #T_13bc2_row9_col1, #T_13bc2_row9_col2, #T_13bc2_row10_col0, #T_13bc2_row10_col1, #T_13bc2_row10_col2, #T_13bc2_row11_col0, #T_13bc2_row11_col1, #T_13bc2_row11_col2, #T_13bc2_row12_col0, #T_13bc2_row12_col1, #T_13bc2_row12_col2, #T_13bc2_row13_col0, #T_13bc2_row13_col1, #T_13bc2_row13_col2, #T_13bc2_row14_col0, #T_13bc2_row14_col1, #T_13bc2_row14_col2, #T_13bc2_row15_col0, #T_13bc2_row15_col1, #T_13bc2_row15_col2, #T_13bc2_row16_col0, #T_13bc2_row16_col1, #T_13bc2_row16_col2, #T_13bc2_row17_col0, #T_13bc2_row17_col1, #T_13bc2_row17_col2, #T_13bc2_row18_col0, #T_13bc2_row18_col1, #T_13bc2_row18_col2, #T_13bc2_row19_col0, #T_13bc2_row19_col1, #T_13bc2_row19_col2, #T_13bc2_row20_col0, #T_13bc2_row20_col1, #T_13bc2_row20_col2, #T_13bc2_row21_col0, #T_13bc2_row21_col1, #T_13bc2_row21_col2, #T_13bc2_row22_col0, #T_13bc2_row22_col1, #T_13bc2_row22_col2, #T_13bc2_row23_col0, #T_13bc2_row23_col1, #T_13bc2_row23_col2, #T_13bc2_row24_col0, #T_13bc2_row24_col1, #T_13bc2_row24_col2, #T_13bc2_row25_col0, #T_13bc2_row25_col1, #T_13bc2_row25_col2, #T_13bc2_row26_col0, #T_13bc2_row26_col1, #T_13bc2_row26_col2, #T_13bc2_row27_col0, #T_13bc2_row27_col1, #T_13bc2_row27_col2 {\n",
       "  text-align: left;\n",
       "}\n",
       "</style>\n",
       "<table id=\"T_13bc2\">\n",
       "  <thead>\n",
       "    <tr>\n",
       "      <th class=\"blank level0\" >&nbsp;</th>\n",
       "      <th id=\"T_13bc2_level0_col0\" class=\"col_heading level0 col0\" >Numero_pedido</th>\n",
       "      <th id=\"T_13bc2_level0_col1\" class=\"col_heading level0 col1\" >Nombre_empleado</th>\n",
       "      <th id=\"T_13bc2_level0_col2\" class=\"col_heading level0 col2\" >producto</th>\n",
       "    </tr>\n",
       "  </thead>\n",
       "  <tbody>\n",
       "    <tr>\n",
       "      <th id=\"T_13bc2_level0_row0\" class=\"row_heading level0 row0\" >0</th>\n",
       "      <td id=\"T_13bc2_row0_col0\" class=\"data row0 col0\" >0005</td>\n",
       "      <td id=\"T_13bc2_row0_col1\" class=\"data row0 col1\" >María Luisa Galdón Ter</td>\n",
       "      <td id=\"T_13bc2_row0_col2\" class=\"data row0 col2\" >Patatas</td>\n",
       "    </tr>\n",
       "    <tr>\n",
       "      <th id=\"T_13bc2_level0_row1\" class=\"row_heading level0 row1\" >1</th>\n",
       "      <td id=\"T_13bc2_row1_col0\" class=\"data row1 col0\" >0005</td>\n",
       "      <td id=\"T_13bc2_row1_col1\" class=\"data row1 col1\" >María Luisa Galdón Ter</td>\n",
       "      <td id=\"T_13bc2_row1_col2\" class=\"data row1 col2\" >Menú de Hamburguesa con queso</td>\n",
       "    </tr>\n",
       "    <tr>\n",
       "      <th id=\"T_13bc2_level0_row2\" class=\"row_heading level0 row2\" >2</th>\n",
       "      <td id=\"T_13bc2_row2_col0\" class=\"data row2 col0\" >0005</td>\n",
       "      <td id=\"T_13bc2_row2_col1\" class=\"data row2 col1\" >María Luisa Galdón Ter</td>\n",
       "      <td id=\"T_13bc2_row2_col2\" class=\"data row2 col2\" >Menú de Pollo con queso</td>\n",
       "    </tr>\n",
       "    <tr>\n",
       "      <th id=\"T_13bc2_level0_row3\" class=\"row_heading level0 row3\" >3</th>\n",
       "      <td id=\"T_13bc2_row3_col0\" class=\"data row3 col0\" >0001</td>\n",
       "      <td id=\"T_13bc2_row3_col1\" class=\"data row3 col1\" >Úrsula Delta Camacho</td>\n",
       "      <td id=\"T_13bc2_row3_col2\" class=\"data row3 col2\" >Menú de Pollo</td>\n",
       "    </tr>\n",
       "    <tr>\n",
       "      <th id=\"T_13bc2_level0_row4\" class=\"row_heading level0 row4\" >4</th>\n",
       "      <td id=\"T_13bc2_row4_col0\" class=\"data row4 col0\" >0001</td>\n",
       "      <td id=\"T_13bc2_row4_col1\" class=\"data row4 col1\" >Úrsula Delta Camacho</td>\n",
       "      <td id=\"T_13bc2_row4_col2\" class=\"data row4 col2\" >Menú de Hamburguesa con queso</td>\n",
       "    </tr>\n",
       "    <tr>\n",
       "      <th id=\"T_13bc2_level0_row5\" class=\"row_heading level0 row5\" >5</th>\n",
       "      <td id=\"T_13bc2_row5_col0\" class=\"data row5 col0\" >0010</td>\n",
       "      <td id=\"T_13bc2_row5_col1\" class=\"data row5 col1\" >Piedad Colmenero Zapillo</td>\n",
       "      <td id=\"T_13bc2_row5_col2\" class=\"data row5 col2\" >Queso</td>\n",
       "    </tr>\n",
       "    <tr>\n",
       "      <th id=\"T_13bc2_level0_row6\" class=\"row_heading level0 row6\" >6</th>\n",
       "      <td id=\"T_13bc2_row6_col0\" class=\"data row6 col0\" >0010</td>\n",
       "      <td id=\"T_13bc2_row6_col1\" class=\"data row6 col1\" >Piedad Colmenero Zapillo</td>\n",
       "      <td id=\"T_13bc2_row6_col2\" class=\"data row6 col2\" >Menú de Hamburguesa con queso</td>\n",
       "    </tr>\n",
       "    <tr>\n",
       "      <th id=\"T_13bc2_level0_row7\" class=\"row_heading level0 row7\" >7</th>\n",
       "      <td id=\"T_13bc2_row7_col0\" class=\"data row7 col0\" >0010</td>\n",
       "      <td id=\"T_13bc2_row7_col1\" class=\"data row7 col1\" >Piedad Colmenero Zapillo</td>\n",
       "      <td id=\"T_13bc2_row7_col2\" class=\"data row7 col2\" >Menú de Pollo con queso</td>\n",
       "    </tr>\n",
       "    <tr>\n",
       "      <th id=\"T_13bc2_level0_row8\" class=\"row_heading level0 row8\" >8</th>\n",
       "      <td id=\"T_13bc2_row8_col0\" class=\"data row8 col0\" >0010</td>\n",
       "      <td id=\"T_13bc2_row8_col1\" class=\"data row8 col1\" >Piedad Colmenero Zapillo</td>\n",
       "      <td id=\"T_13bc2_row8_col2\" class=\"data row8 col2\" >Tarta</td>\n",
       "    </tr>\n",
       "    <tr>\n",
       "      <th id=\"T_13bc2_level0_row9\" class=\"row_heading level0 row9\" >9</th>\n",
       "      <td id=\"T_13bc2_row9_col0\" class=\"data row9 col0\" >0011</td>\n",
       "      <td id=\"T_13bc2_row9_col1\" class=\"data row9 col1\" >Piedad Colmenero Zapillo</td>\n",
       "      <td id=\"T_13bc2_row9_col2\" class=\"data row9 col2\" >Queso</td>\n",
       "    </tr>\n",
       "    <tr>\n",
       "      <th id=\"T_13bc2_level0_row10\" class=\"row_heading level0 row10\" >10</th>\n",
       "      <td id=\"T_13bc2_row10_col0\" class=\"data row10 col0\" >0003</td>\n",
       "      <td id=\"T_13bc2_row10_col1\" class=\"data row10 col1\" >María Sánchez Cid</td>\n",
       "      <td id=\"T_13bc2_row10_col2\" class=\"data row10 col2\" >Menú de Hamburguesa</td>\n",
       "    </tr>\n",
       "    <tr>\n",
       "      <th id=\"T_13bc2_level0_row11\" class=\"row_heading level0 row11\" >11</th>\n",
       "      <td id=\"T_13bc2_row11_col0\" class=\"data row11 col0\" >0003</td>\n",
       "      <td id=\"T_13bc2_row11_col1\" class=\"data row11 col1\" >María Sánchez Cid</td>\n",
       "      <td id=\"T_13bc2_row11_col2\" class=\"data row11 col2\" >Fruta</td>\n",
       "    </tr>\n",
       "    <tr>\n",
       "      <th id=\"T_13bc2_level0_row12\" class=\"row_heading level0 row12\" >12</th>\n",
       "      <td id=\"T_13bc2_row12_col0\" class=\"data row12 col0\" >0008</td>\n",
       "      <td id=\"T_13bc2_row12_col1\" class=\"data row12 col1\" >Martín Guerrero López</td>\n",
       "      <td id=\"T_13bc2_row12_col2\" class=\"data row12 col2\" >Menú de Pollo</td>\n",
       "    </tr>\n",
       "    <tr>\n",
       "      <th id=\"T_13bc2_level0_row13\" class=\"row_heading level0 row13\" >13</th>\n",
       "      <td id=\"T_13bc2_row13_col0\" class=\"data row13 col0\" >0008</td>\n",
       "      <td id=\"T_13bc2_row13_col1\" class=\"data row13 col1\" >Martín Guerrero López</td>\n",
       "      <td id=\"T_13bc2_row13_col2\" class=\"data row13 col2\" >Menú de Pollo con queso</td>\n",
       "    </tr>\n",
       "    <tr>\n",
       "      <th id=\"T_13bc2_level0_row14\" class=\"row_heading level0 row14\" >14</th>\n",
       "      <td id=\"T_13bc2_row14_col0\" class=\"data row14 col0\" >0009</td>\n",
       "      <td id=\"T_13bc2_row14_col1\" class=\"data row14 col1\" >Carmen Hernández Pío</td>\n",
       "      <td id=\"T_13bc2_row14_col2\" class=\"data row14 col2\" >Menú de Pollo con queso</td>\n",
       "    </tr>\n",
       "    <tr>\n",
       "      <th id=\"T_13bc2_level0_row15\" class=\"row_heading level0 row15\" >15</th>\n",
       "      <td id=\"T_13bc2_row15_col0\" class=\"data row15 col0\" >0009</td>\n",
       "      <td id=\"T_13bc2_row15_col1\" class=\"data row15 col1\" >Carmen Hernández Pío</td>\n",
       "      <td id=\"T_13bc2_row15_col2\" class=\"data row15 col2\" >Helado</td>\n",
       "    </tr>\n",
       "    <tr>\n",
       "      <th id=\"T_13bc2_level0_row16\" class=\"row_heading level0 row16\" >16</th>\n",
       "      <td id=\"T_13bc2_row16_col0\" class=\"data row16 col0\" >0002</td>\n",
       "      <td id=\"T_13bc2_row16_col1\" class=\"data row16 col1\" >Pedro Jiménez Ruiz</td>\n",
       "      <td id=\"T_13bc2_row16_col2\" class=\"data row16 col2\" >Menú de Pollo</td>\n",
       "    </tr>\n",
       "    <tr>\n",
       "      <th id=\"T_13bc2_level0_row17\" class=\"row_heading level0 row17\" >17</th>\n",
       "      <td id=\"T_13bc2_row17_col0\" class=\"data row17 col0\" >0002</td>\n",
       "      <td id=\"T_13bc2_row17_col1\" class=\"data row17 col1\" >Pedro Jiménez Ruiz</td>\n",
       "      <td id=\"T_13bc2_row17_col2\" class=\"data row17 col2\" >Menú de Hamburguesa con queso</td>\n",
       "    </tr>\n",
       "    <tr>\n",
       "      <th id=\"T_13bc2_level0_row18\" class=\"row_heading level0 row18\" >18</th>\n",
       "      <td id=\"T_13bc2_row18_col0\" class=\"data row18 col0\" >0002</td>\n",
       "      <td id=\"T_13bc2_row18_col1\" class=\"data row18 col1\" >Pedro Jiménez Ruiz</td>\n",
       "      <td id=\"T_13bc2_row18_col2\" class=\"data row18 col2\" >Helado</td>\n",
       "    </tr>\n",
       "    <tr>\n",
       "      <th id=\"T_13bc2_level0_row19\" class=\"row_heading level0 row19\" >19</th>\n",
       "      <td id=\"T_13bc2_row19_col0\" class=\"data row19 col0\" >0004</td>\n",
       "      <td id=\"T_13bc2_row19_col1\" class=\"data row19 col1\" >Pedro Jiménez Ruiz</td>\n",
       "      <td id=\"T_13bc2_row19_col2\" class=\"data row19 col2\" >Queso</td>\n",
       "    </tr>\n",
       "    <tr>\n",
       "      <th id=\"T_13bc2_level0_row20\" class=\"row_heading level0 row20\" >20</th>\n",
       "      <td id=\"T_13bc2_row20_col0\" class=\"data row20 col0\" >0004</td>\n",
       "      <td id=\"T_13bc2_row20_col1\" class=\"data row20 col1\" >Pedro Jiménez Ruiz</td>\n",
       "      <td id=\"T_13bc2_row20_col2\" class=\"data row20 col2\" >Menú de Pollo con queso</td>\n",
       "    </tr>\n",
       "    <tr>\n",
       "      <th id=\"T_13bc2_level0_row21\" class=\"row_heading level0 row21\" >21</th>\n",
       "      <td id=\"T_13bc2_row21_col0\" class=\"data row21 col0\" >0006</td>\n",
       "      <td id=\"T_13bc2_row21_col1\" class=\"data row21 col1\" >Soledad Campillo Molina</td>\n",
       "      <td id=\"T_13bc2_row21_col2\" class=\"data row21 col2\" >Menú de Hamburguesa con queso</td>\n",
       "    </tr>\n",
       "    <tr>\n",
       "      <th id=\"T_13bc2_level0_row22\" class=\"row_heading level0 row22\" >22</th>\n",
       "      <td id=\"T_13bc2_row22_col0\" class=\"data row22 col0\" >0006</td>\n",
       "      <td id=\"T_13bc2_row22_col1\" class=\"data row22 col1\" >Soledad Campillo Molina</td>\n",
       "      <td id=\"T_13bc2_row22_col2\" class=\"data row22 col2\" >Menú de Pollo con queso</td>\n",
       "    </tr>\n",
       "    <tr>\n",
       "      <th id=\"T_13bc2_level0_row23\" class=\"row_heading level0 row23\" >23</th>\n",
       "      <td id=\"T_13bc2_row23_col0\" class=\"data row23 col0\" >0006</td>\n",
       "      <td id=\"T_13bc2_row23_col1\" class=\"data row23 col1\" >Soledad Campillo Molina</td>\n",
       "      <td id=\"T_13bc2_row23_col2\" class=\"data row23 col2\" >Agua</td>\n",
       "    </tr>\n",
       "    <tr>\n",
       "      <th id=\"T_13bc2_level0_row24\" class=\"row_heading level0 row24\" >24</th>\n",
       "      <td id=\"T_13bc2_row24_col0\" class=\"data row24 col0\" >0006</td>\n",
       "      <td id=\"T_13bc2_row24_col1\" class=\"data row24 col1\" >Soledad Campillo Molina</td>\n",
       "      <td id=\"T_13bc2_row24_col2\" class=\"data row24 col2\" >Fanta</td>\n",
       "    </tr>\n",
       "    <tr>\n",
       "      <th id=\"T_13bc2_level0_row25\" class=\"row_heading level0 row25\" >25</th>\n",
       "      <td id=\"T_13bc2_row25_col0\" class=\"data row25 col0\" >0007</td>\n",
       "      <td id=\"T_13bc2_row25_col1\" class=\"data row25 col1\" >Soledad Campillo Molina</td>\n",
       "      <td id=\"T_13bc2_row25_col2\" class=\"data row25 col2\" >Patatas</td>\n",
       "    </tr>\n",
       "    <tr>\n",
       "      <th id=\"T_13bc2_level0_row26\" class=\"row_heading level0 row26\" >26</th>\n",
       "      <td id=\"T_13bc2_row26_col0\" class=\"data row26 col0\" >0007</td>\n",
       "      <td id=\"T_13bc2_row26_col1\" class=\"data row26 col1\" >Soledad Campillo Molina</td>\n",
       "      <td id=\"T_13bc2_row26_col2\" class=\"data row26 col2\" >Coca cola</td>\n",
       "    </tr>\n",
       "    <tr>\n",
       "      <th id=\"T_13bc2_level0_row27\" class=\"row_heading level0 row27\" >27</th>\n",
       "      <td id=\"T_13bc2_row27_col0\" class=\"data row27 col0\" >0007</td>\n",
       "      <td id=\"T_13bc2_row27_col1\" class=\"data row27 col1\" >Soledad Campillo Molina</td>\n",
       "      <td id=\"T_13bc2_row27_col2\" class=\"data row27 col2\" >Menú de Hamburguesa con queso</td>\n",
       "    </tr>\n",
       "  </tbody>\n",
       "</table>\n"
      ],
      "text/plain": [
       "<pandas.io.formats.style.Styler at 0x28621fbb090>"
      ]
     },
     "execution_count": 126,
     "metadata": {},
     "output_type": "execute_result"
    }
   ],
   "source": [
    "df20 = pd.read_sql(query20, connection)\n",
    "left_align(df20)"
   ]
  },
  {
   "cell_type": "code",
   "execution_count": 127,
   "metadata": {},
   "outputs": [],
   "source": [
    "df20.to_csv('csvs\\consulta20.csv', index=False)"
   ]
  },
  {
   "cell_type": "markdown",
   "metadata": {},
   "source": [
    "### 21. Mostrar los productos cuyo precio es mayor que el precio promedio de todos los productos."
   ]
  },
  {
   "cell_type": "code",
   "execution_count": 135,
   "metadata": {},
   "outputs": [
    {
     "data": {
      "text/plain": [
       "[('Coca cola', 3.0),\n",
       " ('Nestea', 3.0),\n",
       " ('Fanta', 3.0),\n",
       " ('Pollo', 3.6),\n",
       " ('Menú de Pollo', 5.0),\n",
       " ('Menú de Hamburguesa con queso', 6.0),\n",
       " ('Menú de Pollo con queso', 6.0),\n",
       " ('Menú de Hamburguesa', 6.0)]"
      ]
     },
     "execution_count": 135,
     "metadata": {},
     "output_type": "execute_result"
    }
   ],
   "source": [
    "connection = mysql.connector.connect(host=' ', database='  ', user='   ', password='    ', connection_timeout= )\n",
    "cursor = connection.cursor()\n",
    "query21 = '''SELECT nombre, precio FROM PRODUCTO WHERE precio >(SELECT AVG(precio) FROM PRODUCTO)\n",
    "ORDER BY precio ASC;'''\n",
    "cursor.execute(query21)\n",
    "cursor.fetchall()"
   ]
  },
  {
   "cell_type": "code",
   "execution_count": 136,
   "metadata": {},
   "outputs": [
    {
     "name": "stderr",
     "output_type": "stream",
     "text": [
      "C:\\Users\\Usuario\\AppData\\Local\\Temp\\ipykernel_111492\\2121420067.py:1: UserWarning: pandas only supports SQLAlchemy connectable (engine/connection) or database string URI or sqlite3 DBAPI2 connection. Other DBAPI2 objects are not tested. Please consider using SQLAlchemy.\n",
      "  df21 = pd.read_sql(query21, connection)\n"
     ]
    },
    {
     "data": {
      "text/html": [
       "<style type=\"text/css\">\n",
       "#T_cad60 th {\n",
       "  text-align: left;\n",
       "}\n",
       "#T_cad60_row0_col0, #T_cad60_row0_col1, #T_cad60_row1_col0, #T_cad60_row1_col1, #T_cad60_row2_col0, #T_cad60_row2_col1, #T_cad60_row3_col0, #T_cad60_row3_col1, #T_cad60_row4_col0, #T_cad60_row4_col1, #T_cad60_row5_col0, #T_cad60_row5_col1, #T_cad60_row6_col0, #T_cad60_row6_col1, #T_cad60_row7_col0, #T_cad60_row7_col1 {\n",
       "  text-align: left;\n",
       "}\n",
       "</style>\n",
       "<table id=\"T_cad60\">\n",
       "  <thead>\n",
       "    <tr>\n",
       "      <th class=\"blank level0\" >&nbsp;</th>\n",
       "      <th id=\"T_cad60_level0_col0\" class=\"col_heading level0 col0\" >nombre</th>\n",
       "      <th id=\"T_cad60_level0_col1\" class=\"col_heading level0 col1\" >precio</th>\n",
       "    </tr>\n",
       "  </thead>\n",
       "  <tbody>\n",
       "    <tr>\n",
       "      <th id=\"T_cad60_level0_row0\" class=\"row_heading level0 row0\" >0</th>\n",
       "      <td id=\"T_cad60_row0_col0\" class=\"data row0 col0\" >Coca cola</td>\n",
       "      <td id=\"T_cad60_row0_col1\" class=\"data row0 col1\" >3.000000</td>\n",
       "    </tr>\n",
       "    <tr>\n",
       "      <th id=\"T_cad60_level0_row1\" class=\"row_heading level0 row1\" >1</th>\n",
       "      <td id=\"T_cad60_row1_col0\" class=\"data row1 col0\" >Nestea</td>\n",
       "      <td id=\"T_cad60_row1_col1\" class=\"data row1 col1\" >3.000000</td>\n",
       "    </tr>\n",
       "    <tr>\n",
       "      <th id=\"T_cad60_level0_row2\" class=\"row_heading level0 row2\" >2</th>\n",
       "      <td id=\"T_cad60_row2_col0\" class=\"data row2 col0\" >Fanta</td>\n",
       "      <td id=\"T_cad60_row2_col1\" class=\"data row2 col1\" >3.000000</td>\n",
       "    </tr>\n",
       "    <tr>\n",
       "      <th id=\"T_cad60_level0_row3\" class=\"row_heading level0 row3\" >3</th>\n",
       "      <td id=\"T_cad60_row3_col0\" class=\"data row3 col0\" >Pollo</td>\n",
       "      <td id=\"T_cad60_row3_col1\" class=\"data row3 col1\" >3.600000</td>\n",
       "    </tr>\n",
       "    <tr>\n",
       "      <th id=\"T_cad60_level0_row4\" class=\"row_heading level0 row4\" >4</th>\n",
       "      <td id=\"T_cad60_row4_col0\" class=\"data row4 col0\" >Menú de Pollo</td>\n",
       "      <td id=\"T_cad60_row4_col1\" class=\"data row4 col1\" >5.000000</td>\n",
       "    </tr>\n",
       "    <tr>\n",
       "      <th id=\"T_cad60_level0_row5\" class=\"row_heading level0 row5\" >5</th>\n",
       "      <td id=\"T_cad60_row5_col0\" class=\"data row5 col0\" >Menú de Hamburguesa con queso</td>\n",
       "      <td id=\"T_cad60_row5_col1\" class=\"data row5 col1\" >6.000000</td>\n",
       "    </tr>\n",
       "    <tr>\n",
       "      <th id=\"T_cad60_level0_row6\" class=\"row_heading level0 row6\" >6</th>\n",
       "      <td id=\"T_cad60_row6_col0\" class=\"data row6 col0\" >Menú de Pollo con queso</td>\n",
       "      <td id=\"T_cad60_row6_col1\" class=\"data row6 col1\" >6.000000</td>\n",
       "    </tr>\n",
       "    <tr>\n",
       "      <th id=\"T_cad60_level0_row7\" class=\"row_heading level0 row7\" >7</th>\n",
       "      <td id=\"T_cad60_row7_col0\" class=\"data row7 col0\" >Menú de Hamburguesa</td>\n",
       "      <td id=\"T_cad60_row7_col1\" class=\"data row7 col1\" >6.000000</td>\n",
       "    </tr>\n",
       "  </tbody>\n",
       "</table>\n"
      ],
      "text/plain": [
       "<pandas.io.formats.style.Styler at 0x2862239fa10>"
      ]
     },
     "execution_count": 136,
     "metadata": {},
     "output_type": "execute_result"
    }
   ],
   "source": [
    "df21 = pd.read_sql(query21, connection)\n",
    "left_align(df21)"
   ]
  },
  {
   "cell_type": "code",
   "execution_count": 137,
   "metadata": {},
   "outputs": [],
   "source": [
    "df21.to_csv('csvs\\consulta21.csv', index=False)"
   ]
  },
  {
   "cell_type": "markdown",
   "metadata": {},
   "source": [
    "###  22. Listar los empleados y repartidores con el mismo turno.\n"
   ]
  },
  {
   "cell_type": "code",
   "execution_count": 140,
   "metadata": {},
   "outputs": [
    {
     "data": {
      "text/plain": [
       "[('Alejandro Pardo López', 'mañana'),\n",
       " ('Carmen Hernández Pío', 'mañana'),\n",
       " ('Juan Sánchez López', 'mañana'),\n",
       " ('Luis Ramírez Pardo', 'mañana'),\n",
       " ('Úrsula Delta Camacho', 'mañana'),\n",
       " ('Juan Pardo Rubio', 'noche'),\n",
       " ('Laura Jiménez Jiménez', 'noche'),\n",
       " ('María Luisa Galdón Ter', 'noche'),\n",
       " ('Piedad Colmenero Zapillo', 'noche'),\n",
       " ('Soledad Campillo Molina', 'noche'),\n",
       " ('Carlos Sánchez Ruíz', 'tarde'),\n",
       " ('Carmen Capel Pío', 'tarde'),\n",
       " ('María Sánchez Cid', 'tarde'),\n",
       " ('Martín Guerrero López', 'tarde'),\n",
       " ('Pedro Jiménez Ruiz', 'tarde'),\n",
       " ('Raúl Rodrigo Roca', 'tarde'),\n",
       " ('Sergio Lérida Campos', 'tarde')]"
      ]
     },
     "execution_count": 140,
     "metadata": {},
     "output_type": "execute_result"
    }
   ],
   "source": [
    "connection = mysql.connector.connect(host=' ', database=' ', user=' ', password=' ', connection_timeout= )\n",
    "cursor = connection.cursor()\n",
    "query22 = '''SELECT * FROM (SELECT nombre, turno FROM EMPLEADO UNION ALL SELECT nombre, turno FROM REPARTIDOR) AS unioned ORDER BY turno, nombre;'''\n",
    "cursor.execute(query22)\n",
    "cursor.fetchall()"
   ]
  },
  {
   "cell_type": "code",
   "execution_count": 141,
   "metadata": {},
   "outputs": [
    {
     "name": "stderr",
     "output_type": "stream",
     "text": [
      "C:\\Users\\Usuario\\AppData\\Local\\Temp\\ipykernel_111492\\283141536.py:1: UserWarning: pandas only supports SQLAlchemy connectable (engine/connection) or database string URI or sqlite3 DBAPI2 connection. Other DBAPI2 objects are not tested. Please consider using SQLAlchemy.\n",
      "  df22 = pd.read_sql(query22, connection)\n"
     ]
    },
    {
     "data": {
      "text/html": [
       "<style type=\"text/css\">\n",
       "#T_9ba4f th {\n",
       "  text-align: left;\n",
       "}\n",
       "#T_9ba4f_row0_col0, #T_9ba4f_row0_col1, #T_9ba4f_row1_col0, #T_9ba4f_row1_col1, #T_9ba4f_row2_col0, #T_9ba4f_row2_col1, #T_9ba4f_row3_col0, #T_9ba4f_row3_col1, #T_9ba4f_row4_col0, #T_9ba4f_row4_col1, #T_9ba4f_row5_col0, #T_9ba4f_row5_col1, #T_9ba4f_row6_col0, #T_9ba4f_row6_col1, #T_9ba4f_row7_col0, #T_9ba4f_row7_col1, #T_9ba4f_row8_col0, #T_9ba4f_row8_col1, #T_9ba4f_row9_col0, #T_9ba4f_row9_col1, #T_9ba4f_row10_col0, #T_9ba4f_row10_col1, #T_9ba4f_row11_col0, #T_9ba4f_row11_col1, #T_9ba4f_row12_col0, #T_9ba4f_row12_col1, #T_9ba4f_row13_col0, #T_9ba4f_row13_col1, #T_9ba4f_row14_col0, #T_9ba4f_row14_col1, #T_9ba4f_row15_col0, #T_9ba4f_row15_col1, #T_9ba4f_row16_col0, #T_9ba4f_row16_col1 {\n",
       "  text-align: left;\n",
       "}\n",
       "</style>\n",
       "<table id=\"T_9ba4f\">\n",
       "  <thead>\n",
       "    <tr>\n",
       "      <th class=\"blank level0\" >&nbsp;</th>\n",
       "      <th id=\"T_9ba4f_level0_col0\" class=\"col_heading level0 col0\" >nombre</th>\n",
       "      <th id=\"T_9ba4f_level0_col1\" class=\"col_heading level0 col1\" >turno</th>\n",
       "    </tr>\n",
       "  </thead>\n",
       "  <tbody>\n",
       "    <tr>\n",
       "      <th id=\"T_9ba4f_level0_row0\" class=\"row_heading level0 row0\" >0</th>\n",
       "      <td id=\"T_9ba4f_row0_col0\" class=\"data row0 col0\" >Alejandro Pardo López</td>\n",
       "      <td id=\"T_9ba4f_row0_col1\" class=\"data row0 col1\" >mañana</td>\n",
       "    </tr>\n",
       "    <tr>\n",
       "      <th id=\"T_9ba4f_level0_row1\" class=\"row_heading level0 row1\" >1</th>\n",
       "      <td id=\"T_9ba4f_row1_col0\" class=\"data row1 col0\" >Carmen Hernández Pío</td>\n",
       "      <td id=\"T_9ba4f_row1_col1\" class=\"data row1 col1\" >mañana</td>\n",
       "    </tr>\n",
       "    <tr>\n",
       "      <th id=\"T_9ba4f_level0_row2\" class=\"row_heading level0 row2\" >2</th>\n",
       "      <td id=\"T_9ba4f_row2_col0\" class=\"data row2 col0\" >Juan Sánchez López</td>\n",
       "      <td id=\"T_9ba4f_row2_col1\" class=\"data row2 col1\" >mañana</td>\n",
       "    </tr>\n",
       "    <tr>\n",
       "      <th id=\"T_9ba4f_level0_row3\" class=\"row_heading level0 row3\" >3</th>\n",
       "      <td id=\"T_9ba4f_row3_col0\" class=\"data row3 col0\" >Luis Ramírez Pardo</td>\n",
       "      <td id=\"T_9ba4f_row3_col1\" class=\"data row3 col1\" >mañana</td>\n",
       "    </tr>\n",
       "    <tr>\n",
       "      <th id=\"T_9ba4f_level0_row4\" class=\"row_heading level0 row4\" >4</th>\n",
       "      <td id=\"T_9ba4f_row4_col0\" class=\"data row4 col0\" >Úrsula Delta Camacho</td>\n",
       "      <td id=\"T_9ba4f_row4_col1\" class=\"data row4 col1\" >mañana</td>\n",
       "    </tr>\n",
       "    <tr>\n",
       "      <th id=\"T_9ba4f_level0_row5\" class=\"row_heading level0 row5\" >5</th>\n",
       "      <td id=\"T_9ba4f_row5_col0\" class=\"data row5 col0\" >Juan Pardo Rubio</td>\n",
       "      <td id=\"T_9ba4f_row5_col1\" class=\"data row5 col1\" >noche</td>\n",
       "    </tr>\n",
       "    <tr>\n",
       "      <th id=\"T_9ba4f_level0_row6\" class=\"row_heading level0 row6\" >6</th>\n",
       "      <td id=\"T_9ba4f_row6_col0\" class=\"data row6 col0\" >Laura Jiménez Jiménez</td>\n",
       "      <td id=\"T_9ba4f_row6_col1\" class=\"data row6 col1\" >noche</td>\n",
       "    </tr>\n",
       "    <tr>\n",
       "      <th id=\"T_9ba4f_level0_row7\" class=\"row_heading level0 row7\" >7</th>\n",
       "      <td id=\"T_9ba4f_row7_col0\" class=\"data row7 col0\" >María Luisa Galdón Ter</td>\n",
       "      <td id=\"T_9ba4f_row7_col1\" class=\"data row7 col1\" >noche</td>\n",
       "    </tr>\n",
       "    <tr>\n",
       "      <th id=\"T_9ba4f_level0_row8\" class=\"row_heading level0 row8\" >8</th>\n",
       "      <td id=\"T_9ba4f_row8_col0\" class=\"data row8 col0\" >Piedad Colmenero Zapillo</td>\n",
       "      <td id=\"T_9ba4f_row8_col1\" class=\"data row8 col1\" >noche</td>\n",
       "    </tr>\n",
       "    <tr>\n",
       "      <th id=\"T_9ba4f_level0_row9\" class=\"row_heading level0 row9\" >9</th>\n",
       "      <td id=\"T_9ba4f_row9_col0\" class=\"data row9 col0\" >Soledad Campillo Molina</td>\n",
       "      <td id=\"T_9ba4f_row9_col1\" class=\"data row9 col1\" >noche</td>\n",
       "    </tr>\n",
       "    <tr>\n",
       "      <th id=\"T_9ba4f_level0_row10\" class=\"row_heading level0 row10\" >10</th>\n",
       "      <td id=\"T_9ba4f_row10_col0\" class=\"data row10 col0\" >Carlos Sánchez Ruíz</td>\n",
       "      <td id=\"T_9ba4f_row10_col1\" class=\"data row10 col1\" >tarde</td>\n",
       "    </tr>\n",
       "    <tr>\n",
       "      <th id=\"T_9ba4f_level0_row11\" class=\"row_heading level0 row11\" >11</th>\n",
       "      <td id=\"T_9ba4f_row11_col0\" class=\"data row11 col0\" >Carmen Capel Pío</td>\n",
       "      <td id=\"T_9ba4f_row11_col1\" class=\"data row11 col1\" >tarde</td>\n",
       "    </tr>\n",
       "    <tr>\n",
       "      <th id=\"T_9ba4f_level0_row12\" class=\"row_heading level0 row12\" >12</th>\n",
       "      <td id=\"T_9ba4f_row12_col0\" class=\"data row12 col0\" >María Sánchez Cid</td>\n",
       "      <td id=\"T_9ba4f_row12_col1\" class=\"data row12 col1\" >tarde</td>\n",
       "    </tr>\n",
       "    <tr>\n",
       "      <th id=\"T_9ba4f_level0_row13\" class=\"row_heading level0 row13\" >13</th>\n",
       "      <td id=\"T_9ba4f_row13_col0\" class=\"data row13 col0\" >Martín Guerrero López</td>\n",
       "      <td id=\"T_9ba4f_row13_col1\" class=\"data row13 col1\" >tarde</td>\n",
       "    </tr>\n",
       "    <tr>\n",
       "      <th id=\"T_9ba4f_level0_row14\" class=\"row_heading level0 row14\" >14</th>\n",
       "      <td id=\"T_9ba4f_row14_col0\" class=\"data row14 col0\" >Pedro Jiménez Ruiz</td>\n",
       "      <td id=\"T_9ba4f_row14_col1\" class=\"data row14 col1\" >tarde</td>\n",
       "    </tr>\n",
       "    <tr>\n",
       "      <th id=\"T_9ba4f_level0_row15\" class=\"row_heading level0 row15\" >15</th>\n",
       "      <td id=\"T_9ba4f_row15_col0\" class=\"data row15 col0\" >Raúl Rodrigo Roca</td>\n",
       "      <td id=\"T_9ba4f_row15_col1\" class=\"data row15 col1\" >tarde</td>\n",
       "    </tr>\n",
       "    <tr>\n",
       "      <th id=\"T_9ba4f_level0_row16\" class=\"row_heading level0 row16\" >16</th>\n",
       "      <td id=\"T_9ba4f_row16_col0\" class=\"data row16 col0\" >Sergio Lérida Campos</td>\n",
       "      <td id=\"T_9ba4f_row16_col1\" class=\"data row16 col1\" >tarde</td>\n",
       "    </tr>\n",
       "  </tbody>\n",
       "</table>\n"
      ],
      "text/plain": [
       "<pandas.io.formats.style.Styler at 0x28621fac550>"
      ]
     },
     "execution_count": 141,
     "metadata": {},
     "output_type": "execute_result"
    }
   ],
   "source": [
    "df22 = pd.read_sql(query22, connection)\n",
    "left_align(df22)"
   ]
  },
  {
   "cell_type": "code",
   "execution_count": 143,
   "metadata": {},
   "outputs": [],
   "source": [
    "df22.to_csv('csvs\\consulta22.csv', index=False)"
   ]
  },
  {
   "cell_type": "markdown",
   "metadata": {},
   "source": [
    "### 23. Obtener los pedidos junto con el nombre del empleado que los tomó y el nombre del repartidor que los entregó."
   ]
  },
  {
   "cell_type": "code",
   "execution_count": 145,
   "metadata": {},
   "outputs": [
    {
     "data": {
      "text/plain": [
       "[('0004', 'Pedro Jiménez Ruiz', 'Laura Jiménez Jiménez'),\n",
       " ('0006', 'Soledad Campillo Molina', 'Laura Jiménez Jiménez'),\n",
       " ('0008', 'Martín Guerrero López', 'Juan Pardo Rubio'),\n",
       " ('0005', 'María Luisa Galdón Ter', 'Carlos Sánchez Ruíz'),\n",
       " ('0007', 'Soledad Campillo Molina', 'Carlos Sánchez Ruíz'),\n",
       " ('0001', 'Úrsula Delta Camacho', 'Juan Sánchez López'),\n",
       " ('0002', 'Pedro Jiménez Ruiz', 'Alejandro Pardo López'),\n",
       " ('0003', 'María Sánchez Cid', 'Alejandro Pardo López'),\n",
       " ('0009', 'Carmen Hernández Pío', 'Alejandro Pardo López')]"
      ]
     },
     "execution_count": 145,
     "metadata": {},
     "output_type": "execute_result"
    }
   ],
   "source": [
    "connection = mysql.connector.connect(host=' ', database=' ', user=' ', password=' ', connection_timeout= )\n",
    "cursor = connection.cursor()\n",
    "query23 = '''SELECT p.numero, e.nombre AS Empleado, r.nombre AS Repartidor\n",
    "FROM PEDIDO AS p\n",
    "JOIN EMPLEADO AS e ON p.DNI_EP = e.DNI\n",
    "JOIN REPARTIDOR AS r ON p.DNI_R = r.DNI;'''\n",
    "cursor.execute(query23)\n",
    "cursor.fetchall()\n"
   ]
  },
  {
   "cell_type": "code",
   "execution_count": 146,
   "metadata": {},
   "outputs": [
    {
     "name": "stderr",
     "output_type": "stream",
     "text": [
      "C:\\Users\\Usuario\\AppData\\Local\\Temp\\ipykernel_111492\\3477407828.py:1: UserWarning: pandas only supports SQLAlchemy connectable (engine/connection) or database string URI or sqlite3 DBAPI2 connection. Other DBAPI2 objects are not tested. Please consider using SQLAlchemy.\n",
      "  df23 = pd.read_sql(query23, connection)\n"
     ]
    },
    {
     "data": {
      "text/html": [
       "<style type=\"text/css\">\n",
       "#T_a83aa th {\n",
       "  text-align: left;\n",
       "}\n",
       "#T_a83aa_row0_col0, #T_a83aa_row0_col1, #T_a83aa_row0_col2, #T_a83aa_row1_col0, #T_a83aa_row1_col1, #T_a83aa_row1_col2, #T_a83aa_row2_col0, #T_a83aa_row2_col1, #T_a83aa_row2_col2, #T_a83aa_row3_col0, #T_a83aa_row3_col1, #T_a83aa_row3_col2, #T_a83aa_row4_col0, #T_a83aa_row4_col1, #T_a83aa_row4_col2, #T_a83aa_row5_col0, #T_a83aa_row5_col1, #T_a83aa_row5_col2, #T_a83aa_row6_col0, #T_a83aa_row6_col1, #T_a83aa_row6_col2, #T_a83aa_row7_col0, #T_a83aa_row7_col1, #T_a83aa_row7_col2, #T_a83aa_row8_col0, #T_a83aa_row8_col1, #T_a83aa_row8_col2 {\n",
       "  text-align: left;\n",
       "}\n",
       "</style>\n",
       "<table id=\"T_a83aa\">\n",
       "  <thead>\n",
       "    <tr>\n",
       "      <th class=\"blank level0\" >&nbsp;</th>\n",
       "      <th id=\"T_a83aa_level0_col0\" class=\"col_heading level0 col0\" >numero</th>\n",
       "      <th id=\"T_a83aa_level0_col1\" class=\"col_heading level0 col1\" >Empleado</th>\n",
       "      <th id=\"T_a83aa_level0_col2\" class=\"col_heading level0 col2\" >Repartidor</th>\n",
       "    </tr>\n",
       "  </thead>\n",
       "  <tbody>\n",
       "    <tr>\n",
       "      <th id=\"T_a83aa_level0_row0\" class=\"row_heading level0 row0\" >0</th>\n",
       "      <td id=\"T_a83aa_row0_col0\" class=\"data row0 col0\" >0004</td>\n",
       "      <td id=\"T_a83aa_row0_col1\" class=\"data row0 col1\" >Pedro Jiménez Ruiz</td>\n",
       "      <td id=\"T_a83aa_row0_col2\" class=\"data row0 col2\" >Laura Jiménez Jiménez</td>\n",
       "    </tr>\n",
       "    <tr>\n",
       "      <th id=\"T_a83aa_level0_row1\" class=\"row_heading level0 row1\" >1</th>\n",
       "      <td id=\"T_a83aa_row1_col0\" class=\"data row1 col0\" >0006</td>\n",
       "      <td id=\"T_a83aa_row1_col1\" class=\"data row1 col1\" >Soledad Campillo Molina</td>\n",
       "      <td id=\"T_a83aa_row1_col2\" class=\"data row1 col2\" >Laura Jiménez Jiménez</td>\n",
       "    </tr>\n",
       "    <tr>\n",
       "      <th id=\"T_a83aa_level0_row2\" class=\"row_heading level0 row2\" >2</th>\n",
       "      <td id=\"T_a83aa_row2_col0\" class=\"data row2 col0\" >0008</td>\n",
       "      <td id=\"T_a83aa_row2_col1\" class=\"data row2 col1\" >Martín Guerrero López</td>\n",
       "      <td id=\"T_a83aa_row2_col2\" class=\"data row2 col2\" >Juan Pardo Rubio</td>\n",
       "    </tr>\n",
       "    <tr>\n",
       "      <th id=\"T_a83aa_level0_row3\" class=\"row_heading level0 row3\" >3</th>\n",
       "      <td id=\"T_a83aa_row3_col0\" class=\"data row3 col0\" >0005</td>\n",
       "      <td id=\"T_a83aa_row3_col1\" class=\"data row3 col1\" >María Luisa Galdón Ter</td>\n",
       "      <td id=\"T_a83aa_row3_col2\" class=\"data row3 col2\" >Carlos Sánchez Ruíz</td>\n",
       "    </tr>\n",
       "    <tr>\n",
       "      <th id=\"T_a83aa_level0_row4\" class=\"row_heading level0 row4\" >4</th>\n",
       "      <td id=\"T_a83aa_row4_col0\" class=\"data row4 col0\" >0007</td>\n",
       "      <td id=\"T_a83aa_row4_col1\" class=\"data row4 col1\" >Soledad Campillo Molina</td>\n",
       "      <td id=\"T_a83aa_row4_col2\" class=\"data row4 col2\" >Carlos Sánchez Ruíz</td>\n",
       "    </tr>\n",
       "    <tr>\n",
       "      <th id=\"T_a83aa_level0_row5\" class=\"row_heading level0 row5\" >5</th>\n",
       "      <td id=\"T_a83aa_row5_col0\" class=\"data row5 col0\" >0001</td>\n",
       "      <td id=\"T_a83aa_row5_col1\" class=\"data row5 col1\" >Úrsula Delta Camacho</td>\n",
       "      <td id=\"T_a83aa_row5_col2\" class=\"data row5 col2\" >Juan Sánchez López</td>\n",
       "    </tr>\n",
       "    <tr>\n",
       "      <th id=\"T_a83aa_level0_row6\" class=\"row_heading level0 row6\" >6</th>\n",
       "      <td id=\"T_a83aa_row6_col0\" class=\"data row6 col0\" >0002</td>\n",
       "      <td id=\"T_a83aa_row6_col1\" class=\"data row6 col1\" >Pedro Jiménez Ruiz</td>\n",
       "      <td id=\"T_a83aa_row6_col2\" class=\"data row6 col2\" >Alejandro Pardo López</td>\n",
       "    </tr>\n",
       "    <tr>\n",
       "      <th id=\"T_a83aa_level0_row7\" class=\"row_heading level0 row7\" >7</th>\n",
       "      <td id=\"T_a83aa_row7_col0\" class=\"data row7 col0\" >0003</td>\n",
       "      <td id=\"T_a83aa_row7_col1\" class=\"data row7 col1\" >María Sánchez Cid</td>\n",
       "      <td id=\"T_a83aa_row7_col2\" class=\"data row7 col2\" >Alejandro Pardo López</td>\n",
       "    </tr>\n",
       "    <tr>\n",
       "      <th id=\"T_a83aa_level0_row8\" class=\"row_heading level0 row8\" >8</th>\n",
       "      <td id=\"T_a83aa_row8_col0\" class=\"data row8 col0\" >0009</td>\n",
       "      <td id=\"T_a83aa_row8_col1\" class=\"data row8 col1\" >Carmen Hernández Pío</td>\n",
       "      <td id=\"T_a83aa_row8_col2\" class=\"data row8 col2\" >Alejandro Pardo López</td>\n",
       "    </tr>\n",
       "  </tbody>\n",
       "</table>\n"
      ],
      "text/plain": [
       "<pandas.io.formats.style.Styler at 0x286222b3090>"
      ]
     },
     "execution_count": 146,
     "metadata": {},
     "output_type": "execute_result"
    }
   ],
   "source": [
    "df23 = pd.read_sql(query23, connection)\n",
    "left_align(df23)"
   ]
  },
  {
   "cell_type": "code",
   "execution_count": 147,
   "metadata": {},
   "outputs": [],
   "source": [
    "df23.to_csv('csvs\\consulta23.csv', index=False)"
   ]
  },
  {
   "cell_type": "markdown",
   "metadata": {},
   "source": [
    "### 24. Mostrar los nombres de los productos en mayúsculas."
   ]
  },
  {
   "cell_type": "code",
   "execution_count": 151,
   "metadata": {},
   "outputs": [
    {
     "data": {
      "text/plain": [
       "[('AGUA',),\n",
       " ('BACON',),\n",
       " ('COCA COLA',),\n",
       " ('FANTA',),\n",
       " ('FRUTA',),\n",
       " ('HAMBURGUESA',),\n",
       " ('HELADO',),\n",
       " ('LECHUGA',),\n",
       " ('MENÚ DE HAMBURGUESA',),\n",
       " ('MENÚ DE HAMBURGUESA CON QUESO',),\n",
       " ('MENÚ DE POLLO',),\n",
       " ('MENÚ DE POLLO CON QUESO',),\n",
       " ('NESTEA',),\n",
       " ('PATATAS',),\n",
       " ('POLLO',),\n",
       " ('QUESO',),\n",
       " ('TARTA',),\n",
       " ('TOMATE',)]"
      ]
     },
     "execution_count": 151,
     "metadata": {},
     "output_type": "execute_result"
    }
   ],
   "source": [
    "connection = mysql.connector.connect(host=' ', database=' ', user=' ', password=' ', connection_timeout= )\n",
    "cursor = connection.cursor()\n",
    "query24 = '''SELECT UPPER(nombre) as PRODUCTOS FROM PRODUCTO;'''\n",
    "cursor.execute(query24)\n",
    "cursor.fetchall()"
   ]
  },
  {
   "cell_type": "code",
   "execution_count": 152,
   "metadata": {},
   "outputs": [
    {
     "name": "stderr",
     "output_type": "stream",
     "text": [
      "C:\\Users\\Usuario\\AppData\\Local\\Temp\\ipykernel_111492\\1385786268.py:1: UserWarning: pandas only supports SQLAlchemy connectable (engine/connection) or database string URI or sqlite3 DBAPI2 connection. Other DBAPI2 objects are not tested. Please consider using SQLAlchemy.\n",
      "  df24 = pd.read_sql(query24, connection)\n"
     ]
    },
    {
     "data": {
      "text/html": [
       "<style type=\"text/css\">\n",
       "#T_0f6c6 th {\n",
       "  text-align: left;\n",
       "}\n",
       "#T_0f6c6_row0_col0, #T_0f6c6_row1_col0, #T_0f6c6_row2_col0, #T_0f6c6_row3_col0, #T_0f6c6_row4_col0, #T_0f6c6_row5_col0, #T_0f6c6_row6_col0, #T_0f6c6_row7_col0, #T_0f6c6_row8_col0, #T_0f6c6_row9_col0, #T_0f6c6_row10_col0, #T_0f6c6_row11_col0, #T_0f6c6_row12_col0, #T_0f6c6_row13_col0, #T_0f6c6_row14_col0, #T_0f6c6_row15_col0, #T_0f6c6_row16_col0, #T_0f6c6_row17_col0 {\n",
       "  text-align: left;\n",
       "}\n",
       "</style>\n",
       "<table id=\"T_0f6c6\">\n",
       "  <thead>\n",
       "    <tr>\n",
       "      <th class=\"blank level0\" >&nbsp;</th>\n",
       "      <th id=\"T_0f6c6_level0_col0\" class=\"col_heading level0 col0\" >PRODUCTOS</th>\n",
       "    </tr>\n",
       "  </thead>\n",
       "  <tbody>\n",
       "    <tr>\n",
       "      <th id=\"T_0f6c6_level0_row0\" class=\"row_heading level0 row0\" >0</th>\n",
       "      <td id=\"T_0f6c6_row0_col0\" class=\"data row0 col0\" >AGUA</td>\n",
       "    </tr>\n",
       "    <tr>\n",
       "      <th id=\"T_0f6c6_level0_row1\" class=\"row_heading level0 row1\" >1</th>\n",
       "      <td id=\"T_0f6c6_row1_col0\" class=\"data row1 col0\" >BACON</td>\n",
       "    </tr>\n",
       "    <tr>\n",
       "      <th id=\"T_0f6c6_level0_row2\" class=\"row_heading level0 row2\" >2</th>\n",
       "      <td id=\"T_0f6c6_row2_col0\" class=\"data row2 col0\" >COCA COLA</td>\n",
       "    </tr>\n",
       "    <tr>\n",
       "      <th id=\"T_0f6c6_level0_row3\" class=\"row_heading level0 row3\" >3</th>\n",
       "      <td id=\"T_0f6c6_row3_col0\" class=\"data row3 col0\" >FANTA</td>\n",
       "    </tr>\n",
       "    <tr>\n",
       "      <th id=\"T_0f6c6_level0_row4\" class=\"row_heading level0 row4\" >4</th>\n",
       "      <td id=\"T_0f6c6_row4_col0\" class=\"data row4 col0\" >FRUTA</td>\n",
       "    </tr>\n",
       "    <tr>\n",
       "      <th id=\"T_0f6c6_level0_row5\" class=\"row_heading level0 row5\" >5</th>\n",
       "      <td id=\"T_0f6c6_row5_col0\" class=\"data row5 col0\" >HAMBURGUESA</td>\n",
       "    </tr>\n",
       "    <tr>\n",
       "      <th id=\"T_0f6c6_level0_row6\" class=\"row_heading level0 row6\" >6</th>\n",
       "      <td id=\"T_0f6c6_row6_col0\" class=\"data row6 col0\" >HELADO</td>\n",
       "    </tr>\n",
       "    <tr>\n",
       "      <th id=\"T_0f6c6_level0_row7\" class=\"row_heading level0 row7\" >7</th>\n",
       "      <td id=\"T_0f6c6_row7_col0\" class=\"data row7 col0\" >LECHUGA</td>\n",
       "    </tr>\n",
       "    <tr>\n",
       "      <th id=\"T_0f6c6_level0_row8\" class=\"row_heading level0 row8\" >8</th>\n",
       "      <td id=\"T_0f6c6_row8_col0\" class=\"data row8 col0\" >MENÚ DE HAMBURGUESA</td>\n",
       "    </tr>\n",
       "    <tr>\n",
       "      <th id=\"T_0f6c6_level0_row9\" class=\"row_heading level0 row9\" >9</th>\n",
       "      <td id=\"T_0f6c6_row9_col0\" class=\"data row9 col0\" >MENÚ DE HAMBURGUESA CON QUESO</td>\n",
       "    </tr>\n",
       "    <tr>\n",
       "      <th id=\"T_0f6c6_level0_row10\" class=\"row_heading level0 row10\" >10</th>\n",
       "      <td id=\"T_0f6c6_row10_col0\" class=\"data row10 col0\" >MENÚ DE POLLO</td>\n",
       "    </tr>\n",
       "    <tr>\n",
       "      <th id=\"T_0f6c6_level0_row11\" class=\"row_heading level0 row11\" >11</th>\n",
       "      <td id=\"T_0f6c6_row11_col0\" class=\"data row11 col0\" >MENÚ DE POLLO CON QUESO</td>\n",
       "    </tr>\n",
       "    <tr>\n",
       "      <th id=\"T_0f6c6_level0_row12\" class=\"row_heading level0 row12\" >12</th>\n",
       "      <td id=\"T_0f6c6_row12_col0\" class=\"data row12 col0\" >NESTEA</td>\n",
       "    </tr>\n",
       "    <tr>\n",
       "      <th id=\"T_0f6c6_level0_row13\" class=\"row_heading level0 row13\" >13</th>\n",
       "      <td id=\"T_0f6c6_row13_col0\" class=\"data row13 col0\" >PATATAS</td>\n",
       "    </tr>\n",
       "    <tr>\n",
       "      <th id=\"T_0f6c6_level0_row14\" class=\"row_heading level0 row14\" >14</th>\n",
       "      <td id=\"T_0f6c6_row14_col0\" class=\"data row14 col0\" >POLLO</td>\n",
       "    </tr>\n",
       "    <tr>\n",
       "      <th id=\"T_0f6c6_level0_row15\" class=\"row_heading level0 row15\" >15</th>\n",
       "      <td id=\"T_0f6c6_row15_col0\" class=\"data row15 col0\" >QUESO</td>\n",
       "    </tr>\n",
       "    <tr>\n",
       "      <th id=\"T_0f6c6_level0_row16\" class=\"row_heading level0 row16\" >16</th>\n",
       "      <td id=\"T_0f6c6_row16_col0\" class=\"data row16 col0\" >TARTA</td>\n",
       "    </tr>\n",
       "    <tr>\n",
       "      <th id=\"T_0f6c6_level0_row17\" class=\"row_heading level0 row17\" >17</th>\n",
       "      <td id=\"T_0f6c6_row17_col0\" class=\"data row17 col0\" >TOMATE</td>\n",
       "    </tr>\n",
       "  </tbody>\n",
       "</table>\n"
      ],
      "text/plain": [
       "<pandas.io.formats.style.Styler at 0x28621f075d0>"
      ]
     },
     "execution_count": 152,
     "metadata": {},
     "output_type": "execute_result"
    }
   ],
   "source": [
    "df24 = pd.read_sql(query24, connection)\n",
    "left_align(df24)"
   ]
  },
  {
   "cell_type": "code",
   "execution_count": 153,
   "metadata": {},
   "outputs": [],
   "source": [
    "df24.to_csv('csvs\\consulta24.csv', index=False)"
   ]
  },
  {
   "cell_type": "markdown",
   "metadata": {},
   "source": [
    "### 25. Obtener el número de pedidos y el total del importe para cada repartidor."
   ]
  },
  {
   "cell_type": "code",
   "execution_count": 154,
   "metadata": {},
   "outputs": [
    {
     "data": {
      "text/plain": [
       "[('Alejandro Pardo López', 3, 53.0),\n",
       " ('Laura Jiménez Jiménez', 2, 36.0),\n",
       " ('Carlos Sánchez Ruíz', 2, 31.0),\n",
       " ('Juan Pardo Rubio', 1, 14.0),\n",
       " ('Juan Sánchez López', 1, 10.0)]"
      ]
     },
     "execution_count": 154,
     "metadata": {},
     "output_type": "execute_result"
    }
   ],
   "source": [
    "connection = mysql.connector.connect(host=' ', database=' ', user=' ', password=' ', connection_timeout= )\n",
    "cursor = connection.cursor()\n",
    "query25 = '''SELECT r.nombre as Repartidor, COUNT(p.numero) as Numero_Pedidos, SUM(p.importe) as Total_Importe\n",
    "FROM PEDIDO as p\n",
    "JOIN REPARTIDOR as r ON p.DNI_r = r.DNI\n",
    "GROUP BY r.nombre\n",
    "ORDER BY Numero_pedidos DESC;'''\n",
    "cursor.execute(query25)\n",
    "cursor.fetchall()"
   ]
  },
  {
   "cell_type": "code",
   "execution_count": 155,
   "metadata": {},
   "outputs": [
    {
     "name": "stderr",
     "output_type": "stream",
     "text": [
      "C:\\Users\\Usuario\\AppData\\Local\\Temp\\ipykernel_111492\\2211371322.py:1: UserWarning: pandas only supports SQLAlchemy connectable (engine/connection) or database string URI or sqlite3 DBAPI2 connection. Other DBAPI2 objects are not tested. Please consider using SQLAlchemy.\n",
      "  df25 = pd.read_sql(query25, connection)\n"
     ]
    },
    {
     "data": {
      "text/html": [
       "<style type=\"text/css\">\n",
       "#T_aacae th {\n",
       "  text-align: left;\n",
       "}\n",
       "#T_aacae_row0_col0, #T_aacae_row0_col1, #T_aacae_row0_col2, #T_aacae_row1_col0, #T_aacae_row1_col1, #T_aacae_row1_col2, #T_aacae_row2_col0, #T_aacae_row2_col1, #T_aacae_row2_col2, #T_aacae_row3_col0, #T_aacae_row3_col1, #T_aacae_row3_col2, #T_aacae_row4_col0, #T_aacae_row4_col1, #T_aacae_row4_col2 {\n",
       "  text-align: left;\n",
       "}\n",
       "</style>\n",
       "<table id=\"T_aacae\">\n",
       "  <thead>\n",
       "    <tr>\n",
       "      <th class=\"blank level0\" >&nbsp;</th>\n",
       "      <th id=\"T_aacae_level0_col0\" class=\"col_heading level0 col0\" >Repartidor</th>\n",
       "      <th id=\"T_aacae_level0_col1\" class=\"col_heading level0 col1\" >Numero_Pedidos</th>\n",
       "      <th id=\"T_aacae_level0_col2\" class=\"col_heading level0 col2\" >Total_Importe</th>\n",
       "    </tr>\n",
       "  </thead>\n",
       "  <tbody>\n",
       "    <tr>\n",
       "      <th id=\"T_aacae_level0_row0\" class=\"row_heading level0 row0\" >0</th>\n",
       "      <td id=\"T_aacae_row0_col0\" class=\"data row0 col0\" >Alejandro Pardo López</td>\n",
       "      <td id=\"T_aacae_row0_col1\" class=\"data row0 col1\" >3</td>\n",
       "      <td id=\"T_aacae_row0_col2\" class=\"data row0 col2\" >53.000000</td>\n",
       "    </tr>\n",
       "    <tr>\n",
       "      <th id=\"T_aacae_level0_row1\" class=\"row_heading level0 row1\" >1</th>\n",
       "      <td id=\"T_aacae_row1_col0\" class=\"data row1 col0\" >Laura Jiménez Jiménez</td>\n",
       "      <td id=\"T_aacae_row1_col1\" class=\"data row1 col1\" >2</td>\n",
       "      <td id=\"T_aacae_row1_col2\" class=\"data row1 col2\" >36.000000</td>\n",
       "    </tr>\n",
       "    <tr>\n",
       "      <th id=\"T_aacae_level0_row2\" class=\"row_heading level0 row2\" >2</th>\n",
       "      <td id=\"T_aacae_row2_col0\" class=\"data row2 col0\" >Carlos Sánchez Ruíz</td>\n",
       "      <td id=\"T_aacae_row2_col1\" class=\"data row2 col1\" >2</td>\n",
       "      <td id=\"T_aacae_row2_col2\" class=\"data row2 col2\" >31.000000</td>\n",
       "    </tr>\n",
       "    <tr>\n",
       "      <th id=\"T_aacae_level0_row3\" class=\"row_heading level0 row3\" >3</th>\n",
       "      <td id=\"T_aacae_row3_col0\" class=\"data row3 col0\" >Juan Pardo Rubio</td>\n",
       "      <td id=\"T_aacae_row3_col1\" class=\"data row3 col1\" >1</td>\n",
       "      <td id=\"T_aacae_row3_col2\" class=\"data row3 col2\" >14.000000</td>\n",
       "    </tr>\n",
       "    <tr>\n",
       "      <th id=\"T_aacae_level0_row4\" class=\"row_heading level0 row4\" >4</th>\n",
       "      <td id=\"T_aacae_row4_col0\" class=\"data row4 col0\" >Juan Sánchez López</td>\n",
       "      <td id=\"T_aacae_row4_col1\" class=\"data row4 col1\" >1</td>\n",
       "      <td id=\"T_aacae_row4_col2\" class=\"data row4 col2\" >10.000000</td>\n",
       "    </tr>\n",
       "  </tbody>\n",
       "</table>\n"
      ],
      "text/plain": [
       "<pandas.io.formats.style.Styler at 0x2862229acd0>"
      ]
     },
     "execution_count": 155,
     "metadata": {},
     "output_type": "execute_result"
    }
   ],
   "source": [
    "df25 = pd.read_sql(query25, connection)\n",
    "left_align(df25)"
   ]
  },
  {
   "cell_type": "code",
   "execution_count": 156,
   "metadata": {},
   "outputs": [],
   "source": [
    "df25.to_csv('csvs\\consulta25.csv', index=False)"
   ]
  },
  {
   "cell_type": "markdown",
   "metadata": {},
   "source": [
    "### 26. Mostrar los pedidos realizados en el año 2023."
   ]
  },
  {
   "cell_type": "code",
   "execution_count": 157,
   "metadata": {},
   "outputs": [
    {
     "data": {
      "text/plain": [
       "[]"
      ]
     },
     "execution_count": 157,
     "metadata": {},
     "output_type": "execute_result"
    }
   ],
   "source": [
    "connection = mysql.connector.connect(host=' ', database=' ', user=' ', password=' ', connection_timeout= )\n",
    "cursor = connection.cursor()\n",
    "query26 = '''SELECT numero as Numero_pedido, fecha\n",
    "FROM PEDIDO\n",
    "WHERE fecha BETWEEN '2023-01-01' AND '2023-12-31';'''\n",
    "cursor.execute(query26)\n",
    "cursor.fetchall()"
   ]
  },
  {
   "cell_type": "code",
   "execution_count": 158,
   "metadata": {},
   "outputs": [
    {
     "name": "stderr",
     "output_type": "stream",
     "text": [
      "C:\\Users\\Usuario\\AppData\\Local\\Temp\\ipykernel_111492\\1425475203.py:1: UserWarning: pandas only supports SQLAlchemy connectable (engine/connection) or database string URI or sqlite3 DBAPI2 connection. Other DBAPI2 objects are not tested. Please consider using SQLAlchemy.\n",
      "  df26 = pd.read_sql(query26, connection)\n"
     ]
    },
    {
     "data": {
      "text/html": [
       "<style type=\"text/css\">\n",
       "#T_a91c5 th {\n",
       "  text-align: left;\n",
       "}\n",
       "</style>\n",
       "<table id=\"T_a91c5\">\n",
       "  <thead>\n",
       "    <tr>\n",
       "      <th class=\"blank level0\" >&nbsp;</th>\n",
       "      <th id=\"T_a91c5_level0_col0\" class=\"col_heading level0 col0\" >Numero_pedido</th>\n",
       "      <th id=\"T_a91c5_level0_col1\" class=\"col_heading level0 col1\" >fecha</th>\n",
       "    </tr>\n",
       "  </thead>\n",
       "  <tbody>\n",
       "  </tbody>\n",
       "</table>\n"
      ],
      "text/plain": [
       "<pandas.io.formats.style.Styler at 0x28621ecce10>"
      ]
     },
     "execution_count": 158,
     "metadata": {},
     "output_type": "execute_result"
    }
   ],
   "source": [
    "df26 = pd.read_sql(query26, connection)\n",
    "left_align(df26)"
   ]
  },
  {
   "cell_type": "code",
   "execution_count": 159,
   "metadata": {},
   "outputs": [],
   "source": [
    "df26.to_csv('csvs\\consulta26.csv', index=False)"
   ]
  },
  {
   "cell_type": "markdown",
   "metadata": {},
   "source": [
    "### 27. Listar los repartidores que han entregado pedidos en la última semana."
   ]
  },
  {
   "cell_type": "code",
   "execution_count": 166,
   "metadata": {},
   "outputs": [
    {
     "data": {
      "text/plain": [
       "[]"
      ]
     },
     "execution_count": 166,
     "metadata": {},
     "output_type": "execute_result"
    }
   ],
   "source": [
    "connection = mysql.connector.connect(host=' ', database=' ', user=' ', password=' ', connection_timeout= )\n",
    "cursor = connection.cursor()\n",
    "query27 = '''SELECT Nombre, DNI FROM REPARTIDOR WHERE DNI IN (SELECT DNI_R FROM PEDIDO Where Fecha >= (DATE_SUB(CURDATE(), INTERVAL 1 WEEK)));'''\n",
    "cursor.execute(query27)\n",
    "cursor.fetchall()"
   ]
  },
  {
   "cell_type": "code",
   "execution_count": 167,
   "metadata": {},
   "outputs": [
    {
     "name": "stderr",
     "output_type": "stream",
     "text": [
      "C:\\Users\\Usuario\\AppData\\Local\\Temp\\ipykernel_111492\\3532403309.py:1: UserWarning: pandas only supports SQLAlchemy connectable (engine/connection) or database string URI or sqlite3 DBAPI2 connection. Other DBAPI2 objects are not tested. Please consider using SQLAlchemy.\n",
      "  df27 = pd.read_sql(query27, connection)\n"
     ]
    },
    {
     "data": {
      "text/html": [
       "<style type=\"text/css\">\n",
       "#T_22b06 th {\n",
       "  text-align: left;\n",
       "}\n",
       "</style>\n",
       "<table id=\"T_22b06\">\n",
       "  <thead>\n",
       "    <tr>\n",
       "      <th class=\"blank level0\" >&nbsp;</th>\n",
       "      <th id=\"T_22b06_level0_col0\" class=\"col_heading level0 col0\" >Nombre</th>\n",
       "      <th id=\"T_22b06_level0_col1\" class=\"col_heading level0 col1\" >DNI</th>\n",
       "    </tr>\n",
       "  </thead>\n",
       "  <tbody>\n",
       "  </tbody>\n",
       "</table>\n"
      ],
      "text/plain": [
       "<pandas.io.formats.style.Styler at 0x28622273090>"
      ]
     },
     "execution_count": 167,
     "metadata": {},
     "output_type": "execute_result"
    }
   ],
   "source": [
    "df27 = pd.read_sql(query27, connection)\n",
    "left_align(df27)"
   ]
  },
  {
   "cell_type": "code",
   "execution_count": 168,
   "metadata": {},
   "outputs": [],
   "source": [
    "df27.to_csv('csvs\\consulta27.csv', index=False)"
   ]
  },
  {
   "cell_type": "markdown",
   "metadata": {},
   "source": [
    "### 28. Obtener la diferencia en días entre la fecha del pedido y la fecha actual para todos los pedidos."
   ]
  },
  {
   "cell_type": "code",
   "execution_count": 169,
   "metadata": {},
   "outputs": [
    {
     "data": {
      "text/plain": [
       "[(datetime.date(2020, 10, 15), datetime.date(2024, 5, 30), 1323),\n",
       " (datetime.date(2020, 11, 11), datetime.date(2024, 5, 30), 1296),\n",
       " (datetime.date(2020, 10, 15), datetime.date(2024, 5, 30), 1323),\n",
       " (datetime.date(2020, 11, 10), datetime.date(2024, 5, 30), 1297),\n",
       " (datetime.date(2020, 9, 5), datetime.date(2024, 5, 30), 1363),\n",
       " (datetime.date(2020, 11, 15), datetime.date(2024, 5, 30), 1292),\n",
       " (datetime.date(2020, 9, 25), datetime.date(2024, 5, 30), 1343),\n",
       " (datetime.date(2020, 9, 15), datetime.date(2024, 5, 30), 1353),\n",
       " (datetime.date(2020, 11, 23), datetime.date(2024, 5, 30), 1284),\n",
       " (datetime.date(2020, 11, 5), datetime.date(2024, 5, 30), 1302),\n",
       " (datetime.date(2020, 11, 5), datetime.date(2024, 5, 30), 1302)]"
      ]
     },
     "execution_count": 169,
     "metadata": {},
     "output_type": "execute_result"
    }
   ],
   "source": [
    "connection = mysql.connector.connect(host=' ', database=' ', user=' ', password=' ', connection_timeout= )\n",
    "cursor = connection.cursor()\n",
    "query28 = '''SELECT fecha as fecha_pedido, CURDATE() as fecha_Actual, DATEDIFF(CURDATE(), fecha) as Dias_diferencia\n",
    "FROM PEDIDO;'''\n",
    "cursor.execute(query28)\n",
    "cursor.fetchall()"
   ]
  },
  {
   "cell_type": "code",
   "execution_count": 170,
   "metadata": {},
   "outputs": [
    {
     "name": "stderr",
     "output_type": "stream",
     "text": [
      "C:\\Users\\Usuario\\AppData\\Local\\Temp\\ipykernel_111492\\4041525905.py:1: UserWarning: pandas only supports SQLAlchemy connectable (engine/connection) or database string URI or sqlite3 DBAPI2 connection. Other DBAPI2 objects are not tested. Please consider using SQLAlchemy.\n",
      "  df28 = pd.read_sql(query28, connection)\n"
     ]
    },
    {
     "data": {
      "text/html": [
       "<style type=\"text/css\">\n",
       "#T_89d98 th {\n",
       "  text-align: left;\n",
       "}\n",
       "#T_89d98_row0_col0, #T_89d98_row0_col1, #T_89d98_row0_col2, #T_89d98_row1_col0, #T_89d98_row1_col1, #T_89d98_row1_col2, #T_89d98_row2_col0, #T_89d98_row2_col1, #T_89d98_row2_col2, #T_89d98_row3_col0, #T_89d98_row3_col1, #T_89d98_row3_col2, #T_89d98_row4_col0, #T_89d98_row4_col1, #T_89d98_row4_col2, #T_89d98_row5_col0, #T_89d98_row5_col1, #T_89d98_row5_col2, #T_89d98_row6_col0, #T_89d98_row6_col1, #T_89d98_row6_col2, #T_89d98_row7_col0, #T_89d98_row7_col1, #T_89d98_row7_col2, #T_89d98_row8_col0, #T_89d98_row8_col1, #T_89d98_row8_col2, #T_89d98_row9_col0, #T_89d98_row9_col1, #T_89d98_row9_col2, #T_89d98_row10_col0, #T_89d98_row10_col1, #T_89d98_row10_col2 {\n",
       "  text-align: left;\n",
       "}\n",
       "</style>\n",
       "<table id=\"T_89d98\">\n",
       "  <thead>\n",
       "    <tr>\n",
       "      <th class=\"blank level0\" >&nbsp;</th>\n",
       "      <th id=\"T_89d98_level0_col0\" class=\"col_heading level0 col0\" >fecha_pedido</th>\n",
       "      <th id=\"T_89d98_level0_col1\" class=\"col_heading level0 col1\" >fecha_Actual</th>\n",
       "      <th id=\"T_89d98_level0_col2\" class=\"col_heading level0 col2\" >Dias_diferencia</th>\n",
       "    </tr>\n",
       "  </thead>\n",
       "  <tbody>\n",
       "    <tr>\n",
       "      <th id=\"T_89d98_level0_row0\" class=\"row_heading level0 row0\" >0</th>\n",
       "      <td id=\"T_89d98_row0_col0\" class=\"data row0 col0\" >2020-10-15</td>\n",
       "      <td id=\"T_89d98_row0_col1\" class=\"data row0 col1\" >2024-05-30</td>\n",
       "      <td id=\"T_89d98_row0_col2\" class=\"data row0 col2\" >1323</td>\n",
       "    </tr>\n",
       "    <tr>\n",
       "      <th id=\"T_89d98_level0_row1\" class=\"row_heading level0 row1\" >1</th>\n",
       "      <td id=\"T_89d98_row1_col0\" class=\"data row1 col0\" >2020-11-11</td>\n",
       "      <td id=\"T_89d98_row1_col1\" class=\"data row1 col1\" >2024-05-30</td>\n",
       "      <td id=\"T_89d98_row1_col2\" class=\"data row1 col2\" >1296</td>\n",
       "    </tr>\n",
       "    <tr>\n",
       "      <th id=\"T_89d98_level0_row2\" class=\"row_heading level0 row2\" >2</th>\n",
       "      <td id=\"T_89d98_row2_col0\" class=\"data row2 col0\" >2020-10-15</td>\n",
       "      <td id=\"T_89d98_row2_col1\" class=\"data row2 col1\" >2024-05-30</td>\n",
       "      <td id=\"T_89d98_row2_col2\" class=\"data row2 col2\" >1323</td>\n",
       "    </tr>\n",
       "    <tr>\n",
       "      <th id=\"T_89d98_level0_row3\" class=\"row_heading level0 row3\" >3</th>\n",
       "      <td id=\"T_89d98_row3_col0\" class=\"data row3 col0\" >2020-11-10</td>\n",
       "      <td id=\"T_89d98_row3_col1\" class=\"data row3 col1\" >2024-05-30</td>\n",
       "      <td id=\"T_89d98_row3_col2\" class=\"data row3 col2\" >1297</td>\n",
       "    </tr>\n",
       "    <tr>\n",
       "      <th id=\"T_89d98_level0_row4\" class=\"row_heading level0 row4\" >4</th>\n",
       "      <td id=\"T_89d98_row4_col0\" class=\"data row4 col0\" >2020-09-05</td>\n",
       "      <td id=\"T_89d98_row4_col1\" class=\"data row4 col1\" >2024-05-30</td>\n",
       "      <td id=\"T_89d98_row4_col2\" class=\"data row4 col2\" >1363</td>\n",
       "    </tr>\n",
       "    <tr>\n",
       "      <th id=\"T_89d98_level0_row5\" class=\"row_heading level0 row5\" >5</th>\n",
       "      <td id=\"T_89d98_row5_col0\" class=\"data row5 col0\" >2020-11-15</td>\n",
       "      <td id=\"T_89d98_row5_col1\" class=\"data row5 col1\" >2024-05-30</td>\n",
       "      <td id=\"T_89d98_row5_col2\" class=\"data row5 col2\" >1292</td>\n",
       "    </tr>\n",
       "    <tr>\n",
       "      <th id=\"T_89d98_level0_row6\" class=\"row_heading level0 row6\" >6</th>\n",
       "      <td id=\"T_89d98_row6_col0\" class=\"data row6 col0\" >2020-09-25</td>\n",
       "      <td id=\"T_89d98_row6_col1\" class=\"data row6 col1\" >2024-05-30</td>\n",
       "      <td id=\"T_89d98_row6_col2\" class=\"data row6 col2\" >1343</td>\n",
       "    </tr>\n",
       "    <tr>\n",
       "      <th id=\"T_89d98_level0_row7\" class=\"row_heading level0 row7\" >7</th>\n",
       "      <td id=\"T_89d98_row7_col0\" class=\"data row7 col0\" >2020-09-15</td>\n",
       "      <td id=\"T_89d98_row7_col1\" class=\"data row7 col1\" >2024-05-30</td>\n",
       "      <td id=\"T_89d98_row7_col2\" class=\"data row7 col2\" >1353</td>\n",
       "    </tr>\n",
       "    <tr>\n",
       "      <th id=\"T_89d98_level0_row8\" class=\"row_heading level0 row8\" >8</th>\n",
       "      <td id=\"T_89d98_row8_col0\" class=\"data row8 col0\" >2020-11-23</td>\n",
       "      <td id=\"T_89d98_row8_col1\" class=\"data row8 col1\" >2024-05-30</td>\n",
       "      <td id=\"T_89d98_row8_col2\" class=\"data row8 col2\" >1284</td>\n",
       "    </tr>\n",
       "    <tr>\n",
       "      <th id=\"T_89d98_level0_row9\" class=\"row_heading level0 row9\" >9</th>\n",
       "      <td id=\"T_89d98_row9_col0\" class=\"data row9 col0\" >2020-11-05</td>\n",
       "      <td id=\"T_89d98_row9_col1\" class=\"data row9 col1\" >2024-05-30</td>\n",
       "      <td id=\"T_89d98_row9_col2\" class=\"data row9 col2\" >1302</td>\n",
       "    </tr>\n",
       "    <tr>\n",
       "      <th id=\"T_89d98_level0_row10\" class=\"row_heading level0 row10\" >10</th>\n",
       "      <td id=\"T_89d98_row10_col0\" class=\"data row10 col0\" >2020-11-05</td>\n",
       "      <td id=\"T_89d98_row10_col1\" class=\"data row10 col1\" >2024-05-30</td>\n",
       "      <td id=\"T_89d98_row10_col2\" class=\"data row10 col2\" >1302</td>\n",
       "    </tr>\n",
       "  </tbody>\n",
       "</table>\n"
      ],
      "text/plain": [
       "<pandas.io.formats.style.Styler at 0x286222b2510>"
      ]
     },
     "execution_count": 170,
     "metadata": {},
     "output_type": "execute_result"
    }
   ],
   "source": [
    "df28 = pd.read_sql(query28, connection)\n",
    "left_align(df28)"
   ]
  },
  {
   "cell_type": "code",
   "execution_count": 171,
   "metadata": {},
   "outputs": [],
   "source": [
    "df28.to_csv('csvs\\consulta28.csv', index=False)"
   ]
  },
  {
   "cell_type": "markdown",
   "metadata": {},
   "source": [
    "### 29. Listar los empleados que trabajan en el turno de mañana y tienen un salario mayor a 2000."
   ]
  },
  {
   "cell_type": "code",
   "execution_count": 172,
   "metadata": {},
   "outputs": [
    {
     "data": {
      "text/plain": [
       "[]"
      ]
     },
     "execution_count": 172,
     "metadata": {},
     "output_type": "execute_result"
    }
   ],
   "source": [
    "connection = mysql.connector.connect(host=' ', database=' ', user=' ', password=' ', connection_timeout= )\n",
    "cursor = connection.cursor()\n",
    "query29 = '''SELECT nombre, salario\n",
    "FROM EMPLEADO\n",
    "WHERE salario > 2000;'''\n",
    "cursor.execute(query29)\n",
    "cursor.fetchall()"
   ]
  },
  {
   "cell_type": "code",
   "execution_count": 173,
   "metadata": {},
   "outputs": [
    {
     "name": "stderr",
     "output_type": "stream",
     "text": [
      "C:\\Users\\Usuario\\AppData\\Local\\Temp\\ipykernel_111492\\2770664110.py:1: UserWarning: pandas only supports SQLAlchemy connectable (engine/connection) or database string URI or sqlite3 DBAPI2 connection. Other DBAPI2 objects are not tested. Please consider using SQLAlchemy.\n",
      "  df29 = pd.read_sql(query29, connection)\n"
     ]
    },
    {
     "data": {
      "text/html": [
       "<style type=\"text/css\">\n",
       "#T_8a5d9 th {\n",
       "  text-align: left;\n",
       "}\n",
       "</style>\n",
       "<table id=\"T_8a5d9\">\n",
       "  <thead>\n",
       "    <tr>\n",
       "      <th class=\"blank level0\" >&nbsp;</th>\n",
       "      <th id=\"T_8a5d9_level0_col0\" class=\"col_heading level0 col0\" >nombre</th>\n",
       "      <th id=\"T_8a5d9_level0_col1\" class=\"col_heading level0 col1\" >salario</th>\n",
       "    </tr>\n",
       "  </thead>\n",
       "  <tbody>\n",
       "  </tbody>\n",
       "</table>\n"
      ],
      "text/plain": [
       "<pandas.io.formats.style.Styler at 0x28622879fd0>"
      ]
     },
     "execution_count": 173,
     "metadata": {},
     "output_type": "execute_result"
    }
   ],
   "source": [
    "df29 = pd.read_sql(query29, connection)\n",
    "left_align(df29)"
   ]
  },
  {
   "cell_type": "code",
   "execution_count": 174,
   "metadata": {},
   "outputs": [],
   "source": [
    "df29.to_csv('csvs\\consulta29.csv', index=False)"
   ]
  },
  {
   "cell_type": "markdown",
   "metadata": {},
   "source": [
    "### 30. Mostrar los productos y su precio con un incremento del 10%"
   ]
  },
  {
   "cell_type": "code",
   "execution_count": 192,
   "metadata": {},
   "outputs": [
    {
     "data": {
      "text/plain": [
       "[]"
      ]
     },
     "execution_count": 192,
     "metadata": {},
     "output_type": "execute_result"
    }
   ],
   "source": [
    "connection = mysql.connector.connect(host=' ', database=' ', user=' ', password=' ', connection_timeout= )\n",
    "cursor = connection.cursor()\n",
    "query30 = '''SELECT nombre, salario\n",
    "FROM EMPLEADO\n",
    "WHERE salario > 2000;'''\n",
    "cursor.execute(query30)\n",
    "cursor.fetchall()"
   ]
  },
  {
   "cell_type": "code",
   "execution_count": 193,
   "metadata": {},
   "outputs": [
    {
     "name": "stderr",
     "output_type": "stream",
     "text": [
      "C:\\Users\\Usuario\\AppData\\Local\\Temp\\ipykernel_111492\\1632913577.py:1: UserWarning: pandas only supports SQLAlchemy connectable (engine/connection) or database string URI or sqlite3 DBAPI2 connection. Other DBAPI2 objects are not tested. Please consider using SQLAlchemy.\n",
      "  df30 = pd.read_sql(query30, connection)\n"
     ]
    },
    {
     "data": {
      "text/html": [
       "<style type=\"text/css\">\n",
       "#T_64ad3 th {\n",
       "  text-align: left;\n",
       "}\n",
       "</style>\n",
       "<table id=\"T_64ad3\">\n",
       "  <thead>\n",
       "    <tr>\n",
       "      <th class=\"blank level0\" >&nbsp;</th>\n",
       "      <th id=\"T_64ad3_level0_col0\" class=\"col_heading level0 col0\" >nombre</th>\n",
       "      <th id=\"T_64ad3_level0_col1\" class=\"col_heading level0 col1\" >salario</th>\n",
       "    </tr>\n",
       "  </thead>\n",
       "  <tbody>\n",
       "  </tbody>\n",
       "</table>\n"
      ],
      "text/plain": [
       "<pandas.io.formats.style.Styler at 0x28621f98d90>"
      ]
     },
     "execution_count": 193,
     "metadata": {},
     "output_type": "execute_result"
    }
   ],
   "source": [
    "df30 = pd.read_sql(query30, connection)\n",
    "left_align(df30)"
   ]
  },
  {
   "cell_type": "code",
   "execution_count": 194,
   "metadata": {},
   "outputs": [],
   "source": [
    "df30.to_csv('csvs\\consulta30.csv', index=False)"
   ]
  },
  {
   "cell_type": "markdown",
   "metadata": {},
   "source": [
    "### 31. Obtener los pedidos cuyo importe es el mayor entre todos los pedidos."
   ]
  },
  {
   "cell_type": "code",
   "execution_count": 183,
   "metadata": {},
   "outputs": [
    {
     "data": {
      "text/plain": [
       "[('0010', 45.0), ('0011', 45.0)]"
      ]
     },
     "execution_count": 183,
     "metadata": {},
     "output_type": "execute_result"
    }
   ],
   "source": [
    "connection = mysql.connector.connect(host=' ', database=' ', user=' ', password=' ', connection_timeout= )\n",
    "cursor = connection.cursor()\n",
    "query31 = '''SELECT numero, importe AS importe_max FROM PEDIDO WHERE Importe = (SELECT Max(Importe) FROM PEDIDO);'''\n",
    "cursor.execute(query31)\n",
    "cursor.fetchall()"
   ]
  },
  {
   "cell_type": "code",
   "execution_count": 184,
   "metadata": {},
   "outputs": [
    {
     "name": "stderr",
     "output_type": "stream",
     "text": [
      "C:\\Users\\Usuario\\AppData\\Local\\Temp\\ipykernel_111492\\3638300578.py:1: UserWarning: pandas only supports SQLAlchemy connectable (engine/connection) or database string URI or sqlite3 DBAPI2 connection. Other DBAPI2 objects are not tested. Please consider using SQLAlchemy.\n",
      "  df31 = pd.read_sql(query31, connection)\n"
     ]
    },
    {
     "data": {
      "text/html": [
       "<style type=\"text/css\">\n",
       "#T_a45a3 th {\n",
       "  text-align: left;\n",
       "}\n",
       "#T_a45a3_row0_col0, #T_a45a3_row0_col1, #T_a45a3_row1_col0, #T_a45a3_row1_col1 {\n",
       "  text-align: left;\n",
       "}\n",
       "</style>\n",
       "<table id=\"T_a45a3\">\n",
       "  <thead>\n",
       "    <tr>\n",
       "      <th class=\"blank level0\" >&nbsp;</th>\n",
       "      <th id=\"T_a45a3_level0_col0\" class=\"col_heading level0 col0\" >numero</th>\n",
       "      <th id=\"T_a45a3_level0_col1\" class=\"col_heading level0 col1\" >importe_max</th>\n",
       "    </tr>\n",
       "  </thead>\n",
       "  <tbody>\n",
       "    <tr>\n",
       "      <th id=\"T_a45a3_level0_row0\" class=\"row_heading level0 row0\" >0</th>\n",
       "      <td id=\"T_a45a3_row0_col0\" class=\"data row0 col0\" >0010</td>\n",
       "      <td id=\"T_a45a3_row0_col1\" class=\"data row0 col1\" >45.000000</td>\n",
       "    </tr>\n",
       "    <tr>\n",
       "      <th id=\"T_a45a3_level0_row1\" class=\"row_heading level0 row1\" >1</th>\n",
       "      <td id=\"T_a45a3_row1_col0\" class=\"data row1 col0\" >0011</td>\n",
       "      <td id=\"T_a45a3_row1_col1\" class=\"data row1 col1\" >45.000000</td>\n",
       "    </tr>\n",
       "  </tbody>\n",
       "</table>\n"
      ],
      "text/plain": [
       "<pandas.io.formats.style.Styler at 0x28622899c50>"
      ]
     },
     "execution_count": 184,
     "metadata": {},
     "output_type": "execute_result"
    }
   ],
   "source": [
    "df31 = pd.read_sql(query31, connection)\n",
    "left_align(df31)"
   ]
  },
  {
   "cell_type": "code",
   "execution_count": 185,
   "metadata": {},
   "outputs": [],
   "source": [
    "df31.to_csv('csvs\\consulta31.csv', index=False)"
   ]
  },
  {
   "cell_type": "markdown",
   "metadata": {},
   "source": [
    "### 32. Listar los empleados que no han tomado ningún pedido."
   ]
  },
  {
   "cell_type": "code",
   "execution_count": 186,
   "metadata": {},
   "outputs": [
    {
     "data": {
      "text/plain": [
       "[('Luis Ramírez Pardo',), ('Sergio Lérida Campos',), ('Raúl Rodrigo Roca',)]"
      ]
     },
     "execution_count": 186,
     "metadata": {},
     "output_type": "execute_result"
    }
   ],
   "source": [
    "connection = mysql.connector.connect(host=' ', database=' ', user=' ', password=' ', connection_timeout= )\n",
    "cursor = connection.cursor()\n",
    "query32 = '''SELECT e.nombre as empleado_sin_pedidos\n",
    "FROM EMPLEADO as e\n",
    "LEFT JOIN PEDIDO as p ON e.DNI = p.DNI_EP\n",
    "WHERE p.DNI_EP IS NULL;'''\n",
    "cursor.execute(query32)\n",
    "cursor.fetchall()"
   ]
  },
  {
   "cell_type": "code",
   "execution_count": 187,
   "metadata": {},
   "outputs": [
    {
     "name": "stderr",
     "output_type": "stream",
     "text": [
      "C:\\Users\\Usuario\\AppData\\Local\\Temp\\ipykernel_111492\\3448740340.py:1: UserWarning: pandas only supports SQLAlchemy connectable (engine/connection) or database string URI or sqlite3 DBAPI2 connection. Other DBAPI2 objects are not tested. Please consider using SQLAlchemy.\n",
      "  df32 = pd.read_sql(query32, connection)\n"
     ]
    },
    {
     "data": {
      "text/html": [
       "<style type=\"text/css\">\n",
       "#T_ecab6 th {\n",
       "  text-align: left;\n",
       "}\n",
       "#T_ecab6_row0_col0, #T_ecab6_row1_col0, #T_ecab6_row2_col0 {\n",
       "  text-align: left;\n",
       "}\n",
       "</style>\n",
       "<table id=\"T_ecab6\">\n",
       "  <thead>\n",
       "    <tr>\n",
       "      <th class=\"blank level0\" >&nbsp;</th>\n",
       "      <th id=\"T_ecab6_level0_col0\" class=\"col_heading level0 col0\" >empleado_sin_pedidos</th>\n",
       "    </tr>\n",
       "  </thead>\n",
       "  <tbody>\n",
       "    <tr>\n",
       "      <th id=\"T_ecab6_level0_row0\" class=\"row_heading level0 row0\" >0</th>\n",
       "      <td id=\"T_ecab6_row0_col0\" class=\"data row0 col0\" >Luis Ramírez Pardo</td>\n",
       "    </tr>\n",
       "    <tr>\n",
       "      <th id=\"T_ecab6_level0_row1\" class=\"row_heading level0 row1\" >1</th>\n",
       "      <td id=\"T_ecab6_row1_col0\" class=\"data row1 col0\" >Sergio Lérida Campos</td>\n",
       "    </tr>\n",
       "    <tr>\n",
       "      <th id=\"T_ecab6_level0_row2\" class=\"row_heading level0 row2\" >2</th>\n",
       "      <td id=\"T_ecab6_row2_col0\" class=\"data row2 col0\" >Raúl Rodrigo Roca</td>\n",
       "    </tr>\n",
       "  </tbody>\n",
       "</table>\n"
      ],
      "text/plain": [
       "<pandas.io.formats.style.Styler at 0x286229e4590>"
      ]
     },
     "execution_count": 187,
     "metadata": {},
     "output_type": "execute_result"
    }
   ],
   "source": [
    "df32 = pd.read_sql(query32, connection)\n",
    "left_align(df32)"
   ]
  },
  {
   "cell_type": "code",
   "execution_count": 188,
   "metadata": {},
   "outputs": [],
   "source": [
    "df32.to_csv('csvs\\consulta32.csv', index=False)"
   ]
  },
  {
   "cell_type": "markdown",
   "metadata": {},
   "source": [
    "### 33. Mostrar el nombre del repartidor y la fecha del pedido para los pedidos entregados en el turno de noche."
   ]
  },
  {
   "cell_type": "code",
   "execution_count": 189,
   "metadata": {},
   "outputs": [
    {
     "data": {
      "text/plain": [
       "[('Laura Jiménez Jiménez', datetime.date(2020, 11, 10), 'noche'),\n",
       " ('Laura Jiménez Jiménez', datetime.date(2020, 11, 15), 'noche'),\n",
       " ('Juan Pardo Rubio', datetime.date(2020, 9, 15), 'noche')]"
      ]
     },
     "execution_count": 189,
     "metadata": {},
     "output_type": "execute_result"
    }
   ],
   "source": [
    "connection = mysql.connector.connect(host=' ', database=' ', user=' ', password=' ', connection_timeout= )\n",
    "cursor = connection.cursor()\n",
    "query33 = '''SELECT r.nombre as nombre_repartidor, p.fecha as fecha_pedido, r.turno as turno\n",
    "FROM PEDIDO as p\n",
    "JOIN REPARTIDOR as r ON p.DNI_R = r.DNI\n",
    "HAVING turno = 'noche';'''\n",
    "cursor.execute(query33)\n",
    "cursor.fetchall()"
   ]
  },
  {
   "cell_type": "code",
   "execution_count": 190,
   "metadata": {},
   "outputs": [
    {
     "name": "stderr",
     "output_type": "stream",
     "text": [
      "C:\\Users\\Usuario\\AppData\\Local\\Temp\\ipykernel_111492\\2955445043.py:1: UserWarning: pandas only supports SQLAlchemy connectable (engine/connection) or database string URI or sqlite3 DBAPI2 connection. Other DBAPI2 objects are not tested. Please consider using SQLAlchemy.\n",
      "  df33 = pd.read_sql(query33, connection)\n"
     ]
    },
    {
     "data": {
      "text/html": [
       "<style type=\"text/css\">\n",
       "#T_46fc5 th {\n",
       "  text-align: left;\n",
       "}\n",
       "#T_46fc5_row0_col0, #T_46fc5_row0_col1, #T_46fc5_row0_col2, #T_46fc5_row1_col0, #T_46fc5_row1_col1, #T_46fc5_row1_col2, #T_46fc5_row2_col0, #T_46fc5_row2_col1, #T_46fc5_row2_col2 {\n",
       "  text-align: left;\n",
       "}\n",
       "</style>\n",
       "<table id=\"T_46fc5\">\n",
       "  <thead>\n",
       "    <tr>\n",
       "      <th class=\"blank level0\" >&nbsp;</th>\n",
       "      <th id=\"T_46fc5_level0_col0\" class=\"col_heading level0 col0\" >nombre_repartidor</th>\n",
       "      <th id=\"T_46fc5_level0_col1\" class=\"col_heading level0 col1\" >fecha_pedido</th>\n",
       "      <th id=\"T_46fc5_level0_col2\" class=\"col_heading level0 col2\" >turno</th>\n",
       "    </tr>\n",
       "  </thead>\n",
       "  <tbody>\n",
       "    <tr>\n",
       "      <th id=\"T_46fc5_level0_row0\" class=\"row_heading level0 row0\" >0</th>\n",
       "      <td id=\"T_46fc5_row0_col0\" class=\"data row0 col0\" >Laura Jiménez Jiménez</td>\n",
       "      <td id=\"T_46fc5_row0_col1\" class=\"data row0 col1\" >2020-11-10</td>\n",
       "      <td id=\"T_46fc5_row0_col2\" class=\"data row0 col2\" >noche</td>\n",
       "    </tr>\n",
       "    <tr>\n",
       "      <th id=\"T_46fc5_level0_row1\" class=\"row_heading level0 row1\" >1</th>\n",
       "      <td id=\"T_46fc5_row1_col0\" class=\"data row1 col0\" >Laura Jiménez Jiménez</td>\n",
       "      <td id=\"T_46fc5_row1_col1\" class=\"data row1 col1\" >2020-11-15</td>\n",
       "      <td id=\"T_46fc5_row1_col2\" class=\"data row1 col2\" >noche</td>\n",
       "    </tr>\n",
       "    <tr>\n",
       "      <th id=\"T_46fc5_level0_row2\" class=\"row_heading level0 row2\" >2</th>\n",
       "      <td id=\"T_46fc5_row2_col0\" class=\"data row2 col0\" >Juan Pardo Rubio</td>\n",
       "      <td id=\"T_46fc5_row2_col1\" class=\"data row2 col1\" >2020-09-15</td>\n",
       "      <td id=\"T_46fc5_row2_col2\" class=\"data row2 col2\" >noche</td>\n",
       "    </tr>\n",
       "  </tbody>\n",
       "</table>\n"
      ],
      "text/plain": [
       "<pandas.io.formats.style.Styler at 0x286229eb090>"
      ]
     },
     "execution_count": 190,
     "metadata": {},
     "output_type": "execute_result"
    }
   ],
   "source": [
    "df33 = pd.read_sql(query33, connection)\n",
    "left_align(df33)"
   ]
  },
  {
   "cell_type": "code",
   "execution_count": 191,
   "metadata": {},
   "outputs": [],
   "source": [
    "df33.to_csv('csvs\\consulta33.csv', index=False)"
   ]
  },
  {
   "cell_type": "markdown",
   "metadata": {},
   "source": [
    "### 34. Obtener el nombre del producto más caro y su precio."
   ]
  },
  {
   "cell_type": "code",
   "execution_count": 195,
   "metadata": {},
   "outputs": [
    {
     "data": {
      "text/plain": [
       "[('Menú de Hamburguesa con queso', 6.0),\n",
       " ('Menú de Pollo con queso', 6.0),\n",
       " ('Menú de Hamburguesa', 6.0)]"
      ]
     },
     "execution_count": 195,
     "metadata": {},
     "output_type": "execute_result"
    }
   ],
   "source": [
    "connection = mysql.connector.connect(host=' ', database=' ', user=' ', password=' ', connection_timeout= )\n",
    "cursor = connection.cursor()\n",
    "query34 = '''SELECT nombre as producto_mas_caro, precio\n",
    "FROM PRODUCTO\n",
    "WHERE PRECIO = (SELECT MAX(precio) FROM PRODUCTO);'''\n",
    "cursor.execute(query34)\n",
    "cursor.fetchall()"
   ]
  },
  {
   "cell_type": "code",
   "execution_count": 196,
   "metadata": {},
   "outputs": [
    {
     "name": "stderr",
     "output_type": "stream",
     "text": [
      "C:\\Users\\Usuario\\AppData\\Local\\Temp\\ipykernel_111492\\884454965.py:1: UserWarning: pandas only supports SQLAlchemy connectable (engine/connection) or database string URI or sqlite3 DBAPI2 connection. Other DBAPI2 objects are not tested. Please consider using SQLAlchemy.\n",
      "  df34 = pd.read_sql(query34, connection)\n"
     ]
    },
    {
     "data": {
      "text/html": [
       "<style type=\"text/css\">\n",
       "#T_6b2dc th {\n",
       "  text-align: left;\n",
       "}\n",
       "#T_6b2dc_row0_col0, #T_6b2dc_row0_col1, #T_6b2dc_row1_col0, #T_6b2dc_row1_col1, #T_6b2dc_row2_col0, #T_6b2dc_row2_col1 {\n",
       "  text-align: left;\n",
       "}\n",
       "</style>\n",
       "<table id=\"T_6b2dc\">\n",
       "  <thead>\n",
       "    <tr>\n",
       "      <th class=\"blank level0\" >&nbsp;</th>\n",
       "      <th id=\"T_6b2dc_level0_col0\" class=\"col_heading level0 col0\" >producto_mas_caro</th>\n",
       "      <th id=\"T_6b2dc_level0_col1\" class=\"col_heading level0 col1\" >precio</th>\n",
       "    </tr>\n",
       "  </thead>\n",
       "  <tbody>\n",
       "    <tr>\n",
       "      <th id=\"T_6b2dc_level0_row0\" class=\"row_heading level0 row0\" >0</th>\n",
       "      <td id=\"T_6b2dc_row0_col0\" class=\"data row0 col0\" >Menú de Hamburguesa con queso</td>\n",
       "      <td id=\"T_6b2dc_row0_col1\" class=\"data row0 col1\" >6.000000</td>\n",
       "    </tr>\n",
       "    <tr>\n",
       "      <th id=\"T_6b2dc_level0_row1\" class=\"row_heading level0 row1\" >1</th>\n",
       "      <td id=\"T_6b2dc_row1_col0\" class=\"data row1 col0\" >Menú de Pollo con queso</td>\n",
       "      <td id=\"T_6b2dc_row1_col1\" class=\"data row1 col1\" >6.000000</td>\n",
       "    </tr>\n",
       "    <tr>\n",
       "      <th id=\"T_6b2dc_level0_row2\" class=\"row_heading level0 row2\" >2</th>\n",
       "      <td id=\"T_6b2dc_row2_col0\" class=\"data row2 col0\" >Menú de Hamburguesa</td>\n",
       "      <td id=\"T_6b2dc_row2_col1\" class=\"data row2 col1\" >6.000000</td>\n",
       "    </tr>\n",
       "  </tbody>\n",
       "</table>\n"
      ],
      "text/plain": [
       "<pandas.io.formats.style.Styler at 0x28621b72450>"
      ]
     },
     "execution_count": 196,
     "metadata": {},
     "output_type": "execute_result"
    }
   ],
   "source": [
    "df34 = pd.read_sql(query34, connection)\n",
    "left_align(df34)"
   ]
  },
  {
   "cell_type": "code",
   "execution_count": 197,
   "metadata": {},
   "outputs": [],
   "source": [
    "df34.to_csv('csvs\\consulta34.csv', index=False)"
   ]
  },
  {
   "cell_type": "markdown",
   "metadata": {},
   "source": [
    "### 35. Mostrar el nombre del empleado y el importe total de los pedidos que ha tomado."
   ]
  },
  {
   "cell_type": "code",
   "execution_count": 200,
   "metadata": {},
   "outputs": [
    {
     "data": {
      "text/plain": [
       "[('Piedad Colmenero Zapillo', 90.0),\n",
       " ('Soledad Campillo Molina', 40.0),\n",
       " ('Pedro Jiménez Ruiz', 28.0),\n",
       " ('Carmen Hernández Pío', 25.0),\n",
       " ('María Luisa Galdón Ter', 14.0),\n",
       " ('Martín Guerrero López', 14.0),\n",
       " ('María Sánchez Cid', 13.0),\n",
       " ('Úrsula Delta Camacho', 10.0)]"
      ]
     },
     "execution_count": 200,
     "metadata": {},
     "output_type": "execute_result"
    }
   ],
   "source": [
    "connection = mysql.connector.connect(host=' ', database=' ', user=' ', password=' ', connection_timeout= )\n",
    "cursor = connection.cursor()\n",
    "query35 = '''SELECT e.nombre as nombre_empleado, SUM(importe) as importe_total_pedidos_tomados\n",
    "FROM PEDIDO p\n",
    "JOIN EMPLEADO as e ON p.DNI_EP = e.DNI\n",
    "GROUP BY nombre_empleado\n",
    "ORDER BY importe_total_pedidos_tomados DESC;'''\n",
    "cursor.execute(query35)\n",
    "cursor.fetchall()"
   ]
  },
  {
   "cell_type": "code",
   "execution_count": 201,
   "metadata": {},
   "outputs": [
    {
     "name": "stderr",
     "output_type": "stream",
     "text": [
      "C:\\Users\\Usuario\\AppData\\Local\\Temp\\ipykernel_111492\\979640521.py:1: UserWarning: pandas only supports SQLAlchemy connectable (engine/connection) or database string URI or sqlite3 DBAPI2 connection. Other DBAPI2 objects are not tested. Please consider using SQLAlchemy.\n",
      "  df35 = pd.read_sql(query35, connection)\n"
     ]
    },
    {
     "data": {
      "text/html": [
       "<style type=\"text/css\">\n",
       "#T_d38af th {\n",
       "  text-align: left;\n",
       "}\n",
       "#T_d38af_row0_col0, #T_d38af_row0_col1, #T_d38af_row1_col0, #T_d38af_row1_col1, #T_d38af_row2_col0, #T_d38af_row2_col1, #T_d38af_row3_col0, #T_d38af_row3_col1, #T_d38af_row4_col0, #T_d38af_row4_col1, #T_d38af_row5_col0, #T_d38af_row5_col1, #T_d38af_row6_col0, #T_d38af_row6_col1, #T_d38af_row7_col0, #T_d38af_row7_col1 {\n",
       "  text-align: left;\n",
       "}\n",
       "</style>\n",
       "<table id=\"T_d38af\">\n",
       "  <thead>\n",
       "    <tr>\n",
       "      <th class=\"blank level0\" >&nbsp;</th>\n",
       "      <th id=\"T_d38af_level0_col0\" class=\"col_heading level0 col0\" >nombre_empleado</th>\n",
       "      <th id=\"T_d38af_level0_col1\" class=\"col_heading level0 col1\" >importe_total_pedidos_tomados</th>\n",
       "    </tr>\n",
       "  </thead>\n",
       "  <tbody>\n",
       "    <tr>\n",
       "      <th id=\"T_d38af_level0_row0\" class=\"row_heading level0 row0\" >0</th>\n",
       "      <td id=\"T_d38af_row0_col0\" class=\"data row0 col0\" >Piedad Colmenero Zapillo</td>\n",
       "      <td id=\"T_d38af_row0_col1\" class=\"data row0 col1\" >90.000000</td>\n",
       "    </tr>\n",
       "    <tr>\n",
       "      <th id=\"T_d38af_level0_row1\" class=\"row_heading level0 row1\" >1</th>\n",
       "      <td id=\"T_d38af_row1_col0\" class=\"data row1 col0\" >Soledad Campillo Molina</td>\n",
       "      <td id=\"T_d38af_row1_col1\" class=\"data row1 col1\" >40.000000</td>\n",
       "    </tr>\n",
       "    <tr>\n",
       "      <th id=\"T_d38af_level0_row2\" class=\"row_heading level0 row2\" >2</th>\n",
       "      <td id=\"T_d38af_row2_col0\" class=\"data row2 col0\" >Pedro Jiménez Ruiz</td>\n",
       "      <td id=\"T_d38af_row2_col1\" class=\"data row2 col1\" >28.000000</td>\n",
       "    </tr>\n",
       "    <tr>\n",
       "      <th id=\"T_d38af_level0_row3\" class=\"row_heading level0 row3\" >3</th>\n",
       "      <td id=\"T_d38af_row3_col0\" class=\"data row3 col0\" >Carmen Hernández Pío</td>\n",
       "      <td id=\"T_d38af_row3_col1\" class=\"data row3 col1\" >25.000000</td>\n",
       "    </tr>\n",
       "    <tr>\n",
       "      <th id=\"T_d38af_level0_row4\" class=\"row_heading level0 row4\" >4</th>\n",
       "      <td id=\"T_d38af_row4_col0\" class=\"data row4 col0\" >María Luisa Galdón Ter</td>\n",
       "      <td id=\"T_d38af_row4_col1\" class=\"data row4 col1\" >14.000000</td>\n",
       "    </tr>\n",
       "    <tr>\n",
       "      <th id=\"T_d38af_level0_row5\" class=\"row_heading level0 row5\" >5</th>\n",
       "      <td id=\"T_d38af_row5_col0\" class=\"data row5 col0\" >Martín Guerrero López</td>\n",
       "      <td id=\"T_d38af_row5_col1\" class=\"data row5 col1\" >14.000000</td>\n",
       "    </tr>\n",
       "    <tr>\n",
       "      <th id=\"T_d38af_level0_row6\" class=\"row_heading level0 row6\" >6</th>\n",
       "      <td id=\"T_d38af_row6_col0\" class=\"data row6 col0\" >María Sánchez Cid</td>\n",
       "      <td id=\"T_d38af_row6_col1\" class=\"data row6 col1\" >13.000000</td>\n",
       "    </tr>\n",
       "    <tr>\n",
       "      <th id=\"T_d38af_level0_row7\" class=\"row_heading level0 row7\" >7</th>\n",
       "      <td id=\"T_d38af_row7_col0\" class=\"data row7 col0\" >Úrsula Delta Camacho</td>\n",
       "      <td id=\"T_d38af_row7_col1\" class=\"data row7 col1\" >10.000000</td>\n",
       "    </tr>\n",
       "  </tbody>\n",
       "</table>\n"
      ],
      "text/plain": [
       "<pandas.io.formats.style.Styler at 0x286215ce450>"
      ]
     },
     "execution_count": 201,
     "metadata": {},
     "output_type": "execute_result"
    }
   ],
   "source": [
    "df35 = pd.read_sql(query35, connection)\n",
    "left_align(df35)"
   ]
  },
  {
   "cell_type": "code",
   "execution_count": 202,
   "metadata": {},
   "outputs": [],
   "source": [
    "df35.to_csv('csvs\\consulta35.csv', index=False)"
   ]
  }
 ],
 "metadata": {
  "kernelspec": {
   "display_name": "Python 3",
   "language": "python",
   "name": "python3"
  },
  "language_info": {
   "codemirror_mode": {
    "name": "ipython",
    "version": 3
   },
   "file_extension": ".py",
   "mimetype": "text/x-python",
   "name": "python",
   "nbconvert_exporter": "python",
   "pygments_lexer": "ipython3",
   "version": "3.11.9"
  }
 },
 "nbformat": 4,
 "nbformat_minor": 2
}
